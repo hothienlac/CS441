{
 "cells": [
  {
   "cell_type": "code",
   "execution_count": 29,
   "metadata": {},
   "outputs": [
    {
     "data": {
      "text/html": [
       "<div>\n",
       "<style scoped>\n",
       "    .dataframe tbody tr th:only-of-type {\n",
       "        vertical-align: middle;\n",
       "    }\n",
       "\n",
       "    .dataframe tbody tr th {\n",
       "        vertical-align: top;\n",
       "    }\n",
       "\n",
       "    .dataframe thead th {\n",
       "        text-align: right;\n",
       "    }\n",
       "</style>\n",
       "<table border=\"1\" class=\"dataframe\">\n",
       "  <thead>\n",
       "    <tr style=\"text-align: right;\">\n",
       "      <th></th>\n",
       "      <th>address</th>\n",
       "      <th>employee_id</th>\n",
       "    </tr>\n",
       "  </thead>\n",
       "  <tbody>\n",
       "    <tr>\n",
       "      <th>0</th>\n",
       "      <td>98 Edinburgh St, San Francisco, CA 94112, USA</td>\n",
       "      <td>206</td>\n",
       "    </tr>\n",
       "    <tr>\n",
       "      <th>1</th>\n",
       "      <td>237 Accacia St, Daly City, CA 94014, USA</td>\n",
       "      <td>2081</td>\n",
       "    </tr>\n",
       "    <tr>\n",
       "      <th>2</th>\n",
       "      <td>1835 Folsom St, San Francisco, CA 94103, USA</td>\n",
       "      <td>178</td>\n",
       "    </tr>\n",
       "    <tr>\n",
       "      <th>3</th>\n",
       "      <td>170 Cambridge St, San Francisco, CA 94134, USA</td>\n",
       "      <td>50</td>\n",
       "    </tr>\n",
       "    <tr>\n",
       "      <th>4</th>\n",
       "      <td>16 Roanoke St, San Francisco, CA 94131, USA</td>\n",
       "      <td>1863</td>\n",
       "    </tr>\n",
       "  </tbody>\n",
       "</table>\n",
       "</div>"
      ],
      "text/plain": [
       "                                          address  employee_id\n",
       "0   98 Edinburgh St, San Francisco, CA 94112, USA          206\n",
       "1        237 Accacia St, Daly City, CA 94014, USA         2081\n",
       "2    1835 Folsom St, San Francisco, CA 94103, USA          178\n",
       "3  170 Cambridge St, San Francisco, CA 94134, USA           50\n",
       "4     16 Roanoke St, San Francisco, CA 94131, USA         1863"
      ]
     },
     "execution_count": 29,
     "metadata": {},
     "output_type": "execute_result"
    }
   ],
   "source": [
    "import pandas as pd\n",
    "import requests\n",
    "import re\n",
    "from geopy.geocoders import Nominatim\n",
    "\n",
    "# Import data of Employees\n",
    "employee = pd.read_csv('./data/Employee_Addresses.csv')\n",
    "employee.head()"
   ]
  },
  {
   "cell_type": "code",
   "execution_count": 6,
   "metadata": {},
   "outputs": [
    {
     "data": {
      "text/html": [
       "<div>\n",
       "<style scoped>\n",
       "    .dataframe tbody tr th:only-of-type {\n",
       "        vertical-align: middle;\n",
       "    }\n",
       "\n",
       "    .dataframe tbody tr th {\n",
       "        vertical-align: top;\n",
       "    }\n",
       "\n",
       "    .dataframe thead th {\n",
       "        text-align: right;\n",
       "    }\n",
       "</style>\n",
       "<table border=\"1\" class=\"dataframe\">\n",
       "  <thead>\n",
       "    <tr style=\"text-align: right;\">\n",
       "      <th></th>\n",
       "      <th>Street_One</th>\n",
       "      <th>Street_Two</th>\n",
       "    </tr>\n",
       "  </thead>\n",
       "  <tbody>\n",
       "    <tr>\n",
       "      <th>0</th>\n",
       "      <td>MISSION ST</td>\n",
       "      <td>ITALY AVE</td>\n",
       "    </tr>\n",
       "    <tr>\n",
       "      <th>1</th>\n",
       "      <td>MISSION ST</td>\n",
       "      <td>NEW MONTGOMERY ST</td>\n",
       "    </tr>\n",
       "    <tr>\n",
       "      <th>2</th>\n",
       "      <td>MISSION ST</td>\n",
       "      <td>01ST ST</td>\n",
       "    </tr>\n",
       "    <tr>\n",
       "      <th>3</th>\n",
       "      <td>MISSION ST</td>\n",
       "      <td>20TH ST</td>\n",
       "    </tr>\n",
       "    <tr>\n",
       "      <th>4</th>\n",
       "      <td>MISSION ST</td>\n",
       "      <td>FREMONT ST</td>\n",
       "    </tr>\n",
       "  </tbody>\n",
       "</table>\n",
       "</div>"
      ],
      "text/plain": [
       "   Street_One         Street_Two\n",
       "0  MISSION ST          ITALY AVE\n",
       "1  MISSION ST  NEW MONTGOMERY ST\n",
       "2  MISSION ST            01ST ST\n",
       "3  MISSION ST            20TH ST\n",
       "4  MISSION ST         FREMONT ST"
      ]
     },
     "execution_count": 6,
     "metadata": {},
     "output_type": "execute_result"
    }
   ],
   "source": [
    "# Import data of Streets\n",
    "street = pd.read_csv('./data/Potentail_Bust_Stops.csv')\n",
    "street.head()"
   ]
  },
  {
   "cell_type": "code",
   "execution_count": 7,
   "metadata": {},
   "outputs": [],
   "source": [
    "#Pre-processing data - Create 2 new column with defaut value is None\n",
    "street['lat'] = None\n",
    "street['lng'] = None"
   ]
  },
  {
   "cell_type": "code",
   "execution_count": 8,
   "metadata": {},
   "outputs": [],
   "source": [
    "# Get lat - lng of intersection between 2 streets\n",
    "\n",
    "#Function to get location of intersection\n",
    "def loc(street_1, street_2):\n",
    "    res = requests.get('https://www.google.com/maps/place/'+street_1+' & '+street_2)\n",
    "    return re.findall(r'll=(.*?)\" item', res.text)[0].split(',')"
   ]
  },
  {
   "cell_type": "code",
   "execution_count": 9,
   "metadata": {},
   "outputs": [
    {
     "data": {
      "text/plain": [
       "['37.718439', '-122.439565']"
      ]
     },
     "execution_count": 9,
     "metadata": {},
     "output_type": "execute_result"
    }
   ],
   "source": [
    "x = loc(street['Street_One'][0],street['Street_Two'][0])\n",
    "x"
   ]
  },
  {
   "cell_type": "code",
   "execution_count": 12,
   "metadata": {},
   "outputs": [],
   "source": [
    "#Apply for dataset\n",
    "for i in range(len(street)):\n",
    "    street_1 = str(street['Street_One'][i])\n",
    "    street_2 = str(street['Street_Two'][i])\n",
    "    if street_2[0] == '0':\n",
    "        street_2 = street_2[1:] + \" CA\"\n",
    "    elif (street_2[2:4] == 'TH' and street_2[0]!='0'):\n",
    "        street_2 = street_2 + \" CA, USA\"\n",
    "    elif street_2[:4] == 'PARK':\n",
    "        street_2 = street_2 + \" San Francisco CA USA\"\n",
    "    elif (street_2[-3:] == 'AVE' and street_2[:10] != \"FLORENTINE\"):\n",
    "        street_2 = street_2 + \" San Francisco\"\n",
    "    elif street_2[:10] == \"FLORENTINE\":\n",
    "        street_2 = \"Florentine St\"\n",
    "    elif street_2[:6] == \"ANGELO\":\n",
    "        street_2 = \"Angelo's Alley\"\n",
    "    else:\n",
    "        street_2 = street_2 + \" CA\"\n",
    "    location = loc(street_1, street_2)\n",
    "    street['lat'][i] = float(location[0])\n",
    "    street['lng'][i] = float(location[1])"
   ]
  },
  {
   "cell_type": "code",
   "execution_count": 14,
   "metadata": {},
   "outputs": [],
   "source": [
    "street.to_csv('./intersections.csv', index=False)"
   ]
  },
  {
   "cell_type": "code",
   "execution_count": 32,
   "metadata": {},
   "outputs": [
    {
     "name": "stderr",
     "output_type": "stream",
     "text": [
      "c:\\program files\\python37\\lib\\site-packages\\ipykernel_launcher.py:1: DeprecationWarning: Using Nominatim with the default \"geopy/1.21.0\" `user_agent` is strongly discouraged, as it violates Nominatim's ToS https://operations.osmfoundation.org/policies/nominatim/ and may possibly cause 403 and 429 HTTP errors. Please specify a custom `user_agent` with `Nominatim(user_agent=\"my-application\")` or by overriding the default `user_agent`: `geopy.geocoders.options.default_user_agent = \"my-application\"`. In geopy 2.0 this will become an exception.\n",
      "  \"\"\"Entry point for launching an IPython kernel.\n"
     ]
    }
   ],
   "source": [
    "nom = Nominatim()"
   ]
  },
  {
   "cell_type": "code",
   "execution_count": 33,
   "metadata": {},
   "outputs": [],
   "source": [
    "def get_coordinate(address):\n",
    "    try:\n",
    "        result = nom.geocode(address)\n",
    "    \n",
    "        lat = result.latitude\n",
    "        lng = result.longitude\n",
    "    \n",
    "    except:\n",
    "        lat = None\n",
    "        lng = None\n",
    "    \n",
    "    return lat, lng"
   ]
  },
  {
   "cell_type": "code",
   "execution_count": 126,
   "metadata": {},
   "outputs": [
    {
     "data": {
      "text/html": [
       "<div>\n",
       "<style scoped>\n",
       "    .dataframe tbody tr th:only-of-type {\n",
       "        vertical-align: middle;\n",
       "    }\n",
       "\n",
       "    .dataframe tbody tr th {\n",
       "        vertical-align: top;\n",
       "    }\n",
       "\n",
       "    .dataframe thead th {\n",
       "        text-align: right;\n",
       "    }\n",
       "</style>\n",
       "<table border=\"1\" class=\"dataframe\">\n",
       "  <thead>\n",
       "    <tr style=\"text-align: right;\">\n",
       "      <th></th>\n",
       "      <th>address</th>\n",
       "      <th>employee_id</th>\n",
       "      <th>lat</th>\n",
       "      <th>lng</th>\n",
       "    </tr>\n",
       "  </thead>\n",
       "  <tbody>\n",
       "    <tr>\n",
       "      <th>0</th>\n",
       "      <td>98 Edinburgh St, San Francisco, CA 94112, USA</td>\n",
       "      <td>206</td>\n",
       "      <td>98, Edinburgh Street, Excelsior, San Francisco, San Francisco City and County, California, 94112, United States of America</td>\n",
       "      <td>(37.727605, -122.427311)</td>\n",
       "    </tr>\n",
       "    <tr>\n",
       "      <th>1</th>\n",
       "      <td>237 Accacia St, Daly City, CA 94014, USA</td>\n",
       "      <td>2081</td>\n",
       "      <td>237, Accacia Street, Bayshore, Daly City, San Mateo County, California, 94014, United States of America</td>\n",
       "      <td>(37.70439096918921, -122.4159151907583)</td>\n",
       "    </tr>\n",
       "    <tr>\n",
       "      <th>2</th>\n",
       "      <td>1835 Folsom St, San Francisco, CA 94103, USA</td>\n",
       "      <td>178</td>\n",
       "      <td>1835, Folsom Street, Mission District, San Francisco, San Francisco City and County, California, 94103, United States of America</td>\n",
       "      <td>(37.76795024489796, -122.41545424489796)</td>\n",
       "    </tr>\n",
       "    <tr>\n",
       "      <th>3</th>\n",
       "      <td>170 Cambridge St, San Francisco, CA 94134, USA</td>\n",
       "      <td>50</td>\n",
       "      <td>170, Cambridge Street, St. Mary's Park, San Francisco, San Francisco City and County, California, 94134, United States of America</td>\n",
       "      <td>(37.729671875, -122.41953875)</td>\n",
       "    </tr>\n",
       "    <tr>\n",
       "      <th>4</th>\n",
       "      <td>16 Roanoke St, San Francisco, CA 94131, USA</td>\n",
       "      <td>1863</td>\n",
       "      <td>16, Roanoke Street, Glen Park, San Francisco, San Francisco City and County, California, 94131, United States of America</td>\n",
       "      <td>(37.7364215625, -122.43127664583334)</td>\n",
       "    </tr>\n",
       "  </tbody>\n",
       "</table>\n",
       "</div>"
      ],
      "text/plain": [
       "                                          address  employee_id  \\\n",
       "0  98 Edinburgh St, San Francisco, CA 94112, USA   206           \n",
       "1  237 Accacia St, Daly City, CA 94014, USA        2081          \n",
       "2  1835 Folsom St, San Francisco, CA 94103, USA    178           \n",
       "3  170 Cambridge St, San Francisco, CA 94134, USA  50            \n",
       "4  16 Roanoke St, San Francisco, CA 94131, USA     1863          \n",
       "\n",
       "                                                                                                                                 lat  \\\n",
       "0  98, Edinburgh Street, Excelsior, San Francisco, San Francisco City and County, California, 94112, United States of America          \n",
       "1  237, Accacia Street, Bayshore, Daly City, San Mateo County, California, 94014, United States of America                             \n",
       "2  1835, Folsom Street, Mission District, San Francisco, San Francisco City and County, California, 94103, United States of America    \n",
       "3  170, Cambridge Street, St. Mary's Park, San Francisco, San Francisco City and County, California, 94134, United States of America   \n",
       "4  16, Roanoke Street, Glen Park, San Francisco, San Francisco City and County, California, 94131, United States of America            \n",
       "\n",
       "                                        lng  \n",
       "0  (37.727605, -122.427311)                  \n",
       "1  (37.70439096918921, -122.4159151907583)   \n",
       "2  (37.76795024489796, -122.41545424489796)  \n",
       "3  (37.729671875, -122.41953875)             \n",
       "4  (37.7364215625, -122.43127664583334)      "
      ]
     },
     "execution_count": 126,
     "metadata": {},
     "output_type": "execute_result"
    }
   ],
   "source": [
    "employee.head()"
   ]
  },
  {
   "cell_type": "code",
   "execution_count": null,
   "metadata": {},
   "outputs": [],
   "source": []
  },
  {
   "cell_type": "code",
   "execution_count": 38,
   "metadata": {},
   "outputs": [
    {
     "name": "stderr",
     "output_type": "stream",
     "text": [
      "c:\\program files\\python37\\lib\\site-packages\\ipykernel_launcher.py:11: SettingWithCopyWarning: \n",
      "A value is trying to be set on a copy of a slice from a DataFrame\n",
      "\n",
      "See the caveats in the documentation: http://pandas.pydata.org/pandas-docs/stable/user_guide/indexing.html#returning-a-view-versus-a-copy\n",
      "  # This is added back by InteractiveShellApp.init_path()\n",
      "c:\\program files\\python37\\lib\\site-packages\\ipykernel_launcher.py:12: SettingWithCopyWarning: \n",
      "A value is trying to be set on a copy of a slice from a DataFrame\n",
      "\n",
      "See the caveats in the documentation: http://pandas.pydata.org/pandas-docs/stable/user_guide/indexing.html#returning-a-view-versus-a-copy\n",
      "  if sys.path[0] == '':\n"
     ]
    }
   ],
   "source": [
    "#Pre-processing data - Create 2 new column with defaut value is None\n",
    "employee['lat']=None\n",
    "employee['lng']= None\n",
    "\n",
    "#Get lat - lng of Employees' Address\n",
    "for i in range(len(employee)):\n",
    "    try:\n",
    "        (lat, lng) = nom.geocode(employee['address'][i])\n",
    "    except:\n",
    "        (lat, lng) = (0,0)\n",
    "    employee['lat'][i]=lat\n",
    "    employee['lng'][i]=lng"
   ]
  },
  {
   "cell_type": "code",
   "execution_count": 39,
   "metadata": {
    "scrolled": true
   },
   "outputs": [
    {
     "data": {
      "text/html": [
       "<div>\n",
       "<style scoped>\n",
       "    .dataframe tbody tr th:only-of-type {\n",
       "        vertical-align: middle;\n",
       "    }\n",
       "\n",
       "    .dataframe tbody tr th {\n",
       "        vertical-align: top;\n",
       "    }\n",
       "\n",
       "    .dataframe thead th {\n",
       "        text-align: right;\n",
       "    }\n",
       "</style>\n",
       "<table border=\"1\" class=\"dataframe\">\n",
       "  <thead>\n",
       "    <tr style=\"text-align: right;\">\n",
       "      <th></th>\n",
       "      <th>address</th>\n",
       "      <th>employee_id</th>\n",
       "      <th>lat</th>\n",
       "      <th>lng</th>\n",
       "    </tr>\n",
       "  </thead>\n",
       "  <tbody>\n",
       "    <tr>\n",
       "      <th>0</th>\n",
       "      <td>98 Edinburgh St, San Francisco, CA 94112, USA</td>\n",
       "      <td>206</td>\n",
       "      <td>98, Edinburgh Street, Excelsior, San Francisco...</td>\n",
       "      <td>(37.727605, -122.427311)</td>\n",
       "    </tr>\n",
       "    <tr>\n",
       "      <th>1</th>\n",
       "      <td>237 Accacia St, Daly City, CA 94014, USA</td>\n",
       "      <td>2081</td>\n",
       "      <td>237, Accacia Street, Bayshore, Daly City, San ...</td>\n",
       "      <td>(37.70439096918921, -122.4159151907583)</td>\n",
       "    </tr>\n",
       "    <tr>\n",
       "      <th>2</th>\n",
       "      <td>1835 Folsom St, San Francisco, CA 94103, USA</td>\n",
       "      <td>178</td>\n",
       "      <td>1835, Folsom Street, Mission District, San Fra...</td>\n",
       "      <td>(37.76795024489796, -122.41545424489796)</td>\n",
       "    </tr>\n",
       "    <tr>\n",
       "      <th>3</th>\n",
       "      <td>170 Cambridge St, San Francisco, CA 94134, USA</td>\n",
       "      <td>50</td>\n",
       "      <td>170, Cambridge Street, St. Mary's Park, San Fr...</td>\n",
       "      <td>(37.729671875, -122.41953875)</td>\n",
       "    </tr>\n",
       "    <tr>\n",
       "      <th>4</th>\n",
       "      <td>16 Roanoke St, San Francisco, CA 94131, USA</td>\n",
       "      <td>1863</td>\n",
       "      <td>16, Roanoke Street, Glen Park, San Francisco, ...</td>\n",
       "      <td>(37.7364215625, -122.43127664583334)</td>\n",
       "    </tr>\n",
       "  </tbody>\n",
       "</table>\n",
       "</div>"
      ],
      "text/plain": [
       "                                          address  employee_id  \\\n",
       "0   98 Edinburgh St, San Francisco, CA 94112, USA          206   \n",
       "1        237 Accacia St, Daly City, CA 94014, USA         2081   \n",
       "2    1835 Folsom St, San Francisco, CA 94103, USA          178   \n",
       "3  170 Cambridge St, San Francisco, CA 94134, USA           50   \n",
       "4     16 Roanoke St, San Francisco, CA 94131, USA         1863   \n",
       "\n",
       "                                                 lat  \\\n",
       "0  98, Edinburgh Street, Excelsior, San Francisco...   \n",
       "1  237, Accacia Street, Bayshore, Daly City, San ...   \n",
       "2  1835, Folsom Street, Mission District, San Fra...   \n",
       "3  170, Cambridge Street, St. Mary's Park, San Fr...   \n",
       "4  16, Roanoke Street, Glen Park, San Francisco, ...   \n",
       "\n",
       "                                        lng  \n",
       "0                  (37.727605, -122.427311)  \n",
       "1   (37.70439096918921, -122.4159151907583)  \n",
       "2  (37.76795024489796, -122.41545424489796)  \n",
       "3             (37.729671875, -122.41953875)  \n",
       "4      (37.7364215625, -122.43127664583334)  "
      ]
     },
     "execution_count": 39,
     "metadata": {},
     "output_type": "execute_result"
    }
   ],
   "source": [
    "employee.head()"
   ]
  },
  {
   "cell_type": "code",
   "execution_count": 40,
   "metadata": {},
   "outputs": [],
   "source": [
    "employee.to_csv('./em.csv', index=False)"
   ]
  },
  {
   "cell_type": "code",
   "execution_count": 106,
   "metadata": {},
   "outputs": [
    {
     "data": {
      "text/html": [
       "<div>\n",
       "<style scoped>\n",
       "    .dataframe tbody tr th:only-of-type {\n",
       "        vertical-align: middle;\n",
       "    }\n",
       "\n",
       "    .dataframe tbody tr th {\n",
       "        vertical-align: top;\n",
       "    }\n",
       "\n",
       "    .dataframe thead th {\n",
       "        text-align: right;\n",
       "    }\n",
       "</style>\n",
       "<table border=\"1\" class=\"dataframe\">\n",
       "  <thead>\n",
       "    <tr style=\"text-align: right;\">\n",
       "      <th></th>\n",
       "      <th>address</th>\n",
       "      <th>employee_id</th>\n",
       "      <th>lat</th>\n",
       "      <th>lng</th>\n",
       "    </tr>\n",
       "  </thead>\n",
       "  <tbody>\n",
       "    <tr>\n",
       "      <th>240</th>\n",
       "      <td>St. Luke's Hospital Garage, San Francisco, CA ...</td>\n",
       "      <td>941</td>\n",
       "      <td>0</td>\n",
       "      <td>0</td>\n",
       "    </tr>\n",
       "    <tr>\n",
       "      <th>313</th>\n",
       "      <td>St. Luke's Hospital Garage, San Francisco, CA ...</td>\n",
       "      <td>1320</td>\n",
       "      <td>0</td>\n",
       "      <td>0</td>\n",
       "    </tr>\n",
       "    <tr>\n",
       "      <th>474</th>\n",
       "      <td>San Francisco War Memorial and Performing Arts...</td>\n",
       "      <td>1814</td>\n",
       "      <td>0</td>\n",
       "      <td>0</td>\n",
       "    </tr>\n",
       "    <tr>\n",
       "      <th>480</th>\n",
       "      <td>141 Treat St, San Francisco, CA 94103, USA</td>\n",
       "      <td>647</td>\n",
       "      <td>0</td>\n",
       "      <td>0</td>\n",
       "    </tr>\n",
       "    <tr>\n",
       "      <th>764</th>\n",
       "      <td>3119 Pierce St, San Francisco, CA 94123, USA</td>\n",
       "      <td>1239</td>\n",
       "      <td>0</td>\n",
       "      <td>0</td>\n",
       "    </tr>\n",
       "  </tbody>\n",
       "</table>\n",
       "</div>"
      ],
      "text/plain": [
       "                                               address  employee_id lat lng\n",
       "240  St. Luke's Hospital Garage, San Francisco, CA ...          941   0   0\n",
       "313  St. Luke's Hospital Garage, San Francisco, CA ...         1320   0   0\n",
       "474  San Francisco War Memorial and Performing Arts...         1814   0   0\n",
       "480         141 Treat St, San Francisco, CA 94103, USA          647   0   0\n",
       "764       3119 Pierce St, San Francisco, CA 94123, USA         1239   0   0"
      ]
     },
     "execution_count": 106,
     "metadata": {},
     "output_type": "execute_result"
    }
   ],
   "source": [
    "errorr = employee[employee['lng'] == 0]\n",
    "errorr.head()"
   ]
  },
  {
   "cell_type": "code",
   "execution_count": 81,
   "metadata": {},
   "outputs": [
    {
     "name": "stderr",
     "output_type": "stream",
     "text": [
      "c:\\program files\\python37\\lib\\site-packages\\ipykernel_launcher.py:1: SettingWithCopyWarning: \n",
      "A value is trying to be set on a copy of a slice from a DataFrame.\n",
      "Try using .loc[row_indexer,col_indexer] = value instead\n",
      "\n",
      "See the caveats in the documentation: http://pandas.pydata.org/pandas-docs/stable/user_guide/indexing.html#returning-a-view-versus-a-copy\n",
      "  \"\"\"Entry point for launching an IPython kernel.\n"
     ]
    }
   ],
   "source": [
    "errorr['address'] = errorr[['address']].apply(lambda x: x[0].partition(', CA')[0],axis=1)"
   ]
  },
  {
   "cell_type": "code",
   "execution_count": 71,
   "metadata": {},
   "outputs": [
    {
     "data": {
      "text/plain": [
       "240             St. Luke's Hospital Garage, San Francisco\n",
       "313             St. Luke's Hospital Garage, San Francisco\n",
       "474     San Francisco War Memorial and Performing Arts...\n",
       "480                           141 Treat St, San Francisco\n",
       "764                         3119 Pierce St, San Francisco\n",
       "                              ...                        \n",
       "2186                         72 Topeka Ave, San Francisco\n",
       "2187                             330 Oliver St, Daly City\n",
       "2188                         94 W View Ave, San Francisco\n",
       "2189                       1599 Geneva Ave, San Francisco\n",
       "2190                         499 Treat Ave, San Francisco\n",
       "Length: 995, dtype: object"
      ]
     },
     "execution_count": 71,
     "metadata": {},
     "output_type": "execute_result"
    }
   ],
   "source": [
    "errorr[['address']].apply(lambda x: x[0].partition(', CA')[0],axis=1)"
   ]
  },
  {
   "cell_type": "code",
   "execution_count": 77,
   "metadata": {},
   "outputs": [
    {
     "name": "stderr",
     "output_type": "stream",
     "text": [
      "c:\\program files\\python37\\lib\\site-packages\\ipykernel_launcher.py:2: SettingWithCopyWarning: \n",
      "A value is trying to be set on a copy of a slice from a DataFrame.\n",
      "Try using .loc[row_indexer,col_indexer] = value instead\n",
      "\n",
      "See the caveats in the documentation: http://pandas.pydata.org/pandas-docs/stable/user_guide/indexing.html#returning-a-view-versus-a-copy\n",
      "  \n",
      "c:\\program files\\python37\\lib\\site-packages\\ipykernel_launcher.py:3: SettingWithCopyWarning: \n",
      "A value is trying to be set on a copy of a slice from a DataFrame.\n",
      "Try using .loc[row_indexer,col_indexer] = value instead\n",
      "\n",
      "See the caveats in the documentation: http://pandas.pydata.org/pandas-docs/stable/user_guide/indexing.html#returning-a-view-versus-a-copy\n",
      "  This is separate from the ipykernel package so we can avoid doing imports until\n",
      "c:\\program files\\python37\\lib\\site-packages\\ipykernel_launcher.py:11: SettingWithCopyWarning: \n",
      "A value is trying to be set on a copy of a slice from a DataFrame\n",
      "\n",
      "See the caveats in the documentation: http://pandas.pydata.org/pandas-docs/stable/user_guide/indexing.html#returning-a-view-versus-a-copy\n",
      "  # This is added back by InteractiveShellApp.init_path()\n",
      "c:\\program files\\python37\\lib\\site-packages\\ipykernel_launcher.py:12: SettingWithCopyWarning: \n",
      "A value is trying to be set on a copy of a slice from a DataFrame\n",
      "\n",
      "See the caveats in the documentation: http://pandas.pydata.org/pandas-docs/stable/user_guide/indexing.html#returning-a-view-versus-a-copy\n",
      "  if sys.path[0] == '':\n"
     ]
    }
   ],
   "source": [
    "#Pre-processing data - Create 2 new column with defaut value is None\n",
    "errorr['lat']=None\n",
    "errorr['lng']= None\n",
    "\n",
    "#Get lat - lng of Employees' Address\n",
    "for i in range(len(errorr)):\n",
    "    try:\n",
    "        (lat, lng) = nom.geocode(errorr['address'][i])\n",
    "    except:\n",
    "        (lat, lng) = (0,0)\n",
    "    errorr['lat'][i]=lat\n",
    "    errorr['lng'][i]=lng"
   ]
  },
  {
   "cell_type": "code",
   "execution_count": 79,
   "metadata": {},
   "outputs": [],
   "source": [
    "errorr.to_csv('./errorr.csv', index=False)"
   ]
  },
  {
   "cell_type": "code",
   "execution_count": 83,
   "metadata": {},
   "outputs": [
    {
     "data": {
      "text/html": [
       "<div>\n",
       "<style scoped>\n",
       "    .dataframe tbody tr th:only-of-type {\n",
       "        vertical-align: middle;\n",
       "    }\n",
       "\n",
       "    .dataframe tbody tr th {\n",
       "        vertical-align: top;\n",
       "    }\n",
       "\n",
       "    .dataframe thead th {\n",
       "        text-align: right;\n",
       "    }\n",
       "</style>\n",
       "<table border=\"1\" class=\"dataframe\">\n",
       "  <thead>\n",
       "    <tr style=\"text-align: right;\">\n",
       "      <th></th>\n",
       "      <th>address</th>\n",
       "      <th>employee_id</th>\n",
       "      <th>lat</th>\n",
       "      <th>lng</th>\n",
       "    </tr>\n",
       "  </thead>\n",
       "  <tbody>\n",
       "    <tr>\n",
       "      <th>240</th>\n",
       "      <td>St. Luke's Hospital Garage, San Francisco, CA ...</td>\n",
       "      <td>941</td>\n",
       "      <td>0</td>\n",
       "      <td>0</td>\n",
       "    </tr>\n",
       "    <tr>\n",
       "      <th>313</th>\n",
       "      <td>St. Luke's Hospital Garage, San Francisco, CA ...</td>\n",
       "      <td>1320</td>\n",
       "      <td>0</td>\n",
       "      <td>0</td>\n",
       "    </tr>\n",
       "    <tr>\n",
       "      <th>474</th>\n",
       "      <td>San Francisco War Memorial and Performing Arts...</td>\n",
       "      <td>1814</td>\n",
       "      <td>0</td>\n",
       "      <td>0</td>\n",
       "    </tr>\n",
       "    <tr>\n",
       "      <th>480</th>\n",
       "      <td>141 Treat St, San Francisco, CA 94103, USA</td>\n",
       "      <td>647</td>\n",
       "      <td>0</td>\n",
       "      <td>0</td>\n",
       "    </tr>\n",
       "    <tr>\n",
       "      <th>764</th>\n",
       "      <td>3119 Pierce St, San Francisco, CA 94123, USA</td>\n",
       "      <td>1239</td>\n",
       "      <td>0</td>\n",
       "      <td>0</td>\n",
       "    </tr>\n",
       "  </tbody>\n",
       "</table>\n",
       "</div>"
      ],
      "text/plain": [
       "                                               address  employee_id lat lng\n",
       "240  St. Luke's Hospital Garage, San Francisco, CA ...          941   0   0\n",
       "313  St. Luke's Hospital Garage, San Francisco, CA ...         1320   0   0\n",
       "474  San Francisco War Memorial and Performing Arts...         1814   0   0\n",
       "480         141 Treat St, San Francisco, CA 94103, USA          647   0   0\n",
       "764       3119 Pierce St, San Francisco, CA 94123, USA         1239   0   0"
      ]
     },
     "execution_count": 83,
     "metadata": {},
     "output_type": "execute_result"
    }
   ],
   "source": [
    "errorr.head()"
   ]
  },
  {
   "cell_type": "code",
   "execution_count": 121,
   "metadata": {},
   "outputs": [
    {
     "name": "stderr",
     "output_type": "stream",
     "text": [
      "c:\\program files\\python37\\lib\\site-packages\\ipykernel_launcher.py:1: SettingWithCopyWarning: \n",
      "A value is trying to be set on a copy of a slice from a DataFrame.\n",
      "Try using .loc[row_indexer,col_indexer] = value instead\n",
      "\n",
      "See the caveats in the documentation: http://pandas.pydata.org/pandas-docs/stable/user_guide/indexing.html#returning-a-view-versus-a-copy\n",
      "  \"\"\"Entry point for launching an IPython kernel.\n"
     ]
    }
   ],
   "source": [
    "errorr['address'] = errorr[['address']].apply(lambda x: str(x).replace(', CA ', ', California, '), axis=1)"
   ]
  },
  {
   "cell_type": "code",
   "execution_count": 125,
   "metadata": {},
   "outputs": [
    {
     "data": {
      "text/html": [
       "<div>\n",
       "<style scoped>\n",
       "    .dataframe tbody tr th:only-of-type {\n",
       "        vertical-align: middle;\n",
       "    }\n",
       "\n",
       "    .dataframe tbody tr th {\n",
       "        vertical-align: top;\n",
       "    }\n",
       "\n",
       "    .dataframe thead th {\n",
       "        text-align: right;\n",
       "    }\n",
       "</style>\n",
       "<table border=\"1\" class=\"dataframe\">\n",
       "  <thead>\n",
       "    <tr style=\"text-align: right;\">\n",
       "      <th></th>\n",
       "      <th>address</th>\n",
       "      <th>employee_id</th>\n",
       "      <th>lat</th>\n",
       "      <th>lng</th>\n",
       "    </tr>\n",
       "  </thead>\n",
       "  <tbody>\n",
       "    <tr>\n",
       "      <th>240</th>\n",
       "      <td>address    St. Luke's Hospital Garage, San Francisco, California, ...\\nName: 240, dtype: object</td>\n",
       "      <td>941</td>\n",
       "      <td>0</td>\n",
       "      <td>0</td>\n",
       "    </tr>\n",
       "    <tr>\n",
       "      <th>313</th>\n",
       "      <td>address    St. Luke's Hospital Garage, San Francisco, California, ...\\nName: 313, dtype: object</td>\n",
       "      <td>1320</td>\n",
       "      <td>0</td>\n",
       "      <td>0</td>\n",
       "    </tr>\n",
       "    <tr>\n",
       "      <th>474</th>\n",
       "      <td>address    San Francisco War Memorial and Performing Arts...\\nName: 474, dtype: object</td>\n",
       "      <td>1814</td>\n",
       "      <td>0</td>\n",
       "      <td>0</td>\n",
       "    </tr>\n",
       "    <tr>\n",
       "      <th>480</th>\n",
       "      <td>address    141 Treat St, San Francisco, California, 94103, USA\\nName: 480, dtype: object</td>\n",
       "      <td>647</td>\n",
       "      <td>0</td>\n",
       "      <td>0</td>\n",
       "    </tr>\n",
       "    <tr>\n",
       "      <th>764</th>\n",
       "      <td>address    3119 Pierce St, San Francisco, California, 94123, USA\\nName: 764, dtype: object</td>\n",
       "      <td>1239</td>\n",
       "      <td>0</td>\n",
       "      <td>0</td>\n",
       "    </tr>\n",
       "  </tbody>\n",
       "</table>\n",
       "</div>"
      ],
      "text/plain": [
       "                                                                                             address  \\\n",
       "240  address    St. Luke's Hospital Garage, San Francisco, California, ...\\nName: 240, dtype: object   \n",
       "313  address    St. Luke's Hospital Garage, San Francisco, California, ...\\nName: 313, dtype: object   \n",
       "474  address    San Francisco War Memorial and Performing Arts...\\nName: 474, dtype: object            \n",
       "480  address    141 Treat St, San Francisco, California, 94103, USA\\nName: 480, dtype: object          \n",
       "764  address    3119 Pierce St, San Francisco, California, 94123, USA\\nName: 764, dtype: object        \n",
       "\n",
       "     employee_id lat lng  \n",
       "240  941          0   0   \n",
       "313  1320         0   0   \n",
       "474  1814         0   0   \n",
       "480  647          0   0   \n",
       "764  1239         0   0   "
      ]
     },
     "execution_count": 125,
     "metadata": {},
     "output_type": "execute_result"
    }
   ],
   "source": [
    "pd.set_option('display.max_colwidth', -1)\n",
    "errorr.head()"
   ]
  },
  {
   "cell_type": "code",
   "execution_count": 109,
   "metadata": {},
   "outputs": [
    {
     "data": {
      "text/plain": [
       "'141 Treat St, San Francisco, California, 94103, USA'"
      ]
     },
     "execution_count": 109,
     "metadata": {},
     "output_type": "execute_result"
    }
   ],
   "source": [
    "'141 Treat St, San Francisco, CA 94103, USA'.replace(', CA ', ', California, ')"
   ]
  },
  {
   "cell_type": "code",
   "execution_count": 119,
   "metadata": {},
   "outputs": [
    {
     "data": {
      "text/plain": [
       "address        object\n",
       "employee_id     int64\n",
       "lat            object\n",
       "lng            object\n",
       "dtype: object"
      ]
     },
     "execution_count": 119,
     "metadata": {},
     "output_type": "execute_result"
    }
   ],
   "source": [
    "errorr.dtypes"
   ]
  },
  {
   "cell_type": "code",
   "execution_count": null,
   "metadata": {},
   "outputs": [],
   "source": []
  }
 ],
 "metadata": {
  "kernelspec": {
   "display_name": "Python 3",
   "language": "python",
   "name": "python3"
  },
  "language_info": {
   "codemirror_mode": {
    "name": "ipython",
    "version": 3
   },
   "file_extension": ".py",
   "mimetype": "text/x-python",
   "name": "python",
   "nbconvert_exporter": "python",
   "pygments_lexer": "ipython3",
   "version": "3.7.5"
  }
 },
 "nbformat": 4,
 "nbformat_minor": 2
}
