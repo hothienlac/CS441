{
 "cells": [
  {
   "cell_type": "markdown",
   "metadata": {},
   "source": [
    "## The popular plotting libraries for Data visualization\n",
    "\n",
    "===================================================================================================\n",
    "- $\\textbf{Cấp 1: Matplotlib & pandas.}$ Dùng để vẽ các dữ liệu một cách tự do với hơi hướng xử lý đơn giản\n",
    "- $\\textbf{Cấp 2: Seaborn.}$ Dùng khi xử lý các yêu cầu phức tạp hơn; với giao diện kết quả sắc nét hơn\n",
    "- $\\textbf{Cấp 3: ggplot & ploty.}$ Có thể tạo ra những hình vẽ có tính tương tác tốt (interactive plots)\n",
    "\n",
    "Dưới đây là các chuyên đề và BT tương ứng của phần \"Data visualization\" này.\n",
    "\n",
    "==================================================================================================="
   ]
  },
  {
   "cell_type": "markdown",
   "metadata": {},
   "source": [
    "===================================================================================================\n",
    "# Topic 1. Line Charts\n",
    "==================================================================================================="
   ]
  },
  {
   "cell_type": "markdown",
   "metadata": {},
   "source": [
    "===================================================================================================\n",
    "$\\textbf{Target 1. }\\textit{Answer the following question}$\n",
    "\n",
    "Từ dữ liệu \"Museums_and_Galleries_monthly_visits_April_to_June.csv\"; hãy thực hiện lần lượt các yêu cầu sau\n",
    "\n",
    "- 1) Loading dataset and display the first 5 rows\n",
    "\n",
    "- 2) Extract the sub-dataframe which have the number of visitors more than 750000\n",
    "\n",
    "- 3) How many visitors did the \"NATIONAL GALLERY\"\n",
    "\n",
    "- 4) In October 2018, how many more visitors did \"(RA) FORT NELSON\"? \n",
    "\n",
    "- 5) Does \"NATIONAL MUSEUMS LIVERPOOL\" receive more visitors than the \"TATE LIVERPOOL\" in 2018? \n",
    "\n",
    "==================================================================================================="
   ]
  },
  {
   "cell_type": "code",
   "execution_count": null,
   "metadata": {},
   "outputs": [],
   "source": [
    "# your code here"
   ]
  },
  {
   "cell_type": "code",
   "execution_count": 2,
   "metadata": {},
   "outputs": [],
   "source": [
    "import pandas as pd\n",
    "import matplotlib.pyplot as plt\n",
    "import seaborn as sns"
   ]
  },
  {
   "cell_type": "code",
   "execution_count": 15,
   "metadata": {},
   "outputs": [
    {
     "data": {
      "text/html": [
       "<div>\n",
       "<style scoped>\n",
       "    .dataframe tbody tr th:only-of-type {\n",
       "        vertical-align: middle;\n",
       "    }\n",
       "\n",
       "    .dataframe tbody tr th {\n",
       "        vertical-align: top;\n",
       "    }\n",
       "\n",
       "    .dataframe thead th {\n",
       "        text-align: right;\n",
       "    }\n",
       "</style>\n",
       "<table border=\"1\" class=\"dataframe\">\n",
       "  <thead>\n",
       "    <tr style=\"text-align: right;\">\n",
       "      <th></th>\n",
       "      <th>museum</th>\n",
       "      <th>year</th>\n",
       "      <th>month</th>\n",
       "      <th>visits</th>\n",
       "    </tr>\n",
       "  </thead>\n",
       "  <tbody>\n",
       "    <tr>\n",
       "      <th>0</th>\n",
       "      <td>TOTAL VISITOR FIGURES</td>\n",
       "      <td>2004</td>\n",
       "      <td>4</td>\n",
       "      <td>0</td>\n",
       "    </tr>\n",
       "    <tr>\n",
       "      <th>1</th>\n",
       "      <td>TOTAL VISITOR FIGURES</td>\n",
       "      <td>2004</td>\n",
       "      <td>5</td>\n",
       "      <td>0</td>\n",
       "    </tr>\n",
       "    <tr>\n",
       "      <th>2</th>\n",
       "      <td>TOTAL VISITOR FIGURES</td>\n",
       "      <td>2004</td>\n",
       "      <td>6</td>\n",
       "      <td>0</td>\n",
       "    </tr>\n",
       "    <tr>\n",
       "      <th>3</th>\n",
       "      <td>TOTAL VISITOR FIGURES</td>\n",
       "      <td>2004</td>\n",
       "      <td>7</td>\n",
       "      <td>0</td>\n",
       "    </tr>\n",
       "    <tr>\n",
       "      <th>4</th>\n",
       "      <td>TOTAL VISITOR FIGURES</td>\n",
       "      <td>2004</td>\n",
       "      <td>8</td>\n",
       "      <td>0</td>\n",
       "    </tr>\n",
       "  </tbody>\n",
       "</table>\n",
       "</div>"
      ],
      "text/plain": [
       "                  museum  year  month  visits\n",
       "0  TOTAL VISITOR FIGURES  2004  4      0     \n",
       "1  TOTAL VISITOR FIGURES  2004  5      0     \n",
       "2  TOTAL VISITOR FIGURES  2004  6      0     \n",
       "3  TOTAL VISITOR FIGURES  2004  7      0     \n",
       "4  TOTAL VISITOR FIGURES  2004  8      0     "
      ]
     },
     "execution_count": 15,
     "metadata": {},
     "output_type": "execute_result"
    }
   ],
   "source": [
    "data = pd.read_excel('./dataset/Museums_and_Galleries_monthly_visits_April_to_June.xlsx',sheet_name='Sheet1',index_col=0)\n",
    "data.head()"
   ]
  },
  {
   "cell_type": "code",
   "execution_count": 89,
   "metadata": {},
   "outputs": [
    {
     "data": {
      "text/html": [
       "<div>\n",
       "<style scoped>\n",
       "    .dataframe tbody tr th:only-of-type {\n",
       "        vertical-align: middle;\n",
       "    }\n",
       "\n",
       "    .dataframe tbody tr th {\n",
       "        vertical-align: top;\n",
       "    }\n",
       "\n",
       "    .dataframe thead th {\n",
       "        text-align: right;\n",
       "    }\n",
       "</style>\n",
       "<table border=\"1\" class=\"dataframe\">\n",
       "  <thead>\n",
       "    <tr style=\"text-align: right;\">\n",
       "      <th></th>\n",
       "      <th>visits</th>\n",
       "    </tr>\n",
       "    <tr>\n",
       "      <th>museum</th>\n",
       "      <th></th>\n",
       "    </tr>\n",
       "  </thead>\n",
       "  <tbody>\n",
       "    <tr>\n",
       "      <th>(IWM) CHURCHILL WAR ROOMS</th>\n",
       "      <td>1229649</td>\n",
       "    </tr>\n",
       "    <tr>\n",
       "      <th>(IWM) DUXFORD</th>\n",
       "      <td>1227263</td>\n",
       "    </tr>\n",
       "    <tr>\n",
       "      <th>(IWM) HMS BELFAST</th>\n",
       "      <td>826301</td>\n",
       "    </tr>\n",
       "    <tr>\n",
       "      <th>(IWM) LONDON</th>\n",
       "      <td>2686720</td>\n",
       "    </tr>\n",
       "    <tr>\n",
       "      <th>(IWM) NORTH</th>\n",
       "      <td>847654</td>\n",
       "    </tr>\n",
       "  </tbody>\n",
       "</table>\n",
       "</div>"
      ],
      "text/plain": [
       "                            visits\n",
       "museum                            \n",
       "(IWM) CHURCHILL WAR ROOMS  1229649\n",
       "(IWM) DUXFORD              1227263\n",
       "(IWM) HMS BELFAST          826301 \n",
       "(IWM) LONDON               2686720\n",
       "(IWM) NORTH                847654 "
      ]
     },
     "execution_count": 89,
     "metadata": {},
     "output_type": "execute_result"
    }
   ],
   "source": [
    "visited = data.groupby('museum').agg({'visits': \"sum\"})\n",
    "visited.head()"
   ]
  },
  {
   "cell_type": "code",
   "execution_count": 39,
   "metadata": {},
   "outputs": [
    {
     "data": {
      "text/html": [
       "<div>\n",
       "<style scoped>\n",
       "    .dataframe tbody tr th:only-of-type {\n",
       "        vertical-align: middle;\n",
       "    }\n",
       "\n",
       "    .dataframe tbody tr th {\n",
       "        vertical-align: top;\n",
       "    }\n",
       "\n",
       "    .dataframe thead th {\n",
       "        text-align: right;\n",
       "    }\n",
       "</style>\n",
       "<table border=\"1\" class=\"dataframe\">\n",
       "  <thead>\n",
       "    <tr style=\"text-align: right;\">\n",
       "      <th></th>\n",
       "      <th>visits</th>\n",
       "    </tr>\n",
       "    <tr>\n",
       "      <th>museum</th>\n",
       "      <th></th>\n",
       "    </tr>\n",
       "  </thead>\n",
       "  <tbody>\n",
       "    <tr>\n",
       "      <th>(IWM) CHURCHILL WAR ROOMS</th>\n",
       "      <td>1229649</td>\n",
       "    </tr>\n",
       "    <tr>\n",
       "      <th>(IWM) DUXFORD</th>\n",
       "      <td>1227263</td>\n",
       "    </tr>\n",
       "    <tr>\n",
       "      <th>(IWM) HMS BELFAST</th>\n",
       "      <td>826301</td>\n",
       "    </tr>\n",
       "    <tr>\n",
       "      <th>(IWM) LONDON</th>\n",
       "      <td>2686720</td>\n",
       "    </tr>\n",
       "    <tr>\n",
       "      <th>(IWM) NORTH</th>\n",
       "      <td>847654</td>\n",
       "    </tr>\n",
       "    <tr>\n",
       "      <th>(NHM) SOUTH KENSINGTON</th>\n",
       "      <td>13583304</td>\n",
       "    </tr>\n",
       "    <tr>\n",
       "      <th>(RA) WHITE TOWER (BASED AT THE TOWER OF LONDON)</th>\n",
       "      <td>2763626</td>\n",
       "    </tr>\n",
       "    <tr>\n",
       "      <th>(SMG) MUSEUM OF SCIENCE AND INDUSTRY, MANCHESTER</th>\n",
       "      <td>1130082</td>\n",
       "    </tr>\n",
       "    <tr>\n",
       "      <th>(SMG) NATIONAL MEDIA MUSEUM</th>\n",
       "      <td>1657280</td>\n",
       "    </tr>\n",
       "    <tr>\n",
       "      <th>(SMG) NATIONAL RAILWAY MUSEUM</th>\n",
       "      <td>2354782</td>\n",
       "    </tr>\n",
       "    <tr>\n",
       "      <th>(SMG) SOUTH KENSINGTON</th>\n",
       "      <td>8832974</td>\n",
       "    </tr>\n",
       "    <tr>\n",
       "      <th>(T&amp;W) DISCOVERY</th>\n",
       "      <td>955069</td>\n",
       "    </tr>\n",
       "    <tr>\n",
       "      <th>(V&amp;A) MUSEUM OF CHILDHOOD, BETHNAL GREEN</th>\n",
       "      <td>1121443</td>\n",
       "    </tr>\n",
       "    <tr>\n",
       "      <th>(V&amp;A) SOUTH KENSINGTON</th>\n",
       "      <td>8778743</td>\n",
       "    </tr>\n",
       "    <tr>\n",
       "      <th>BRITISH MUSEUM</th>\n",
       "      <td>17721794</td>\n",
       "    </tr>\n",
       "    <tr>\n",
       "      <th>HORNIMAN MUSEUM (Excluding visits to the Garden)</th>\n",
       "      <td>1837205</td>\n",
       "    </tr>\n",
       "    <tr>\n",
       "      <th>IMPERIAL WAR MUSEUM (IWM) TOTAL</th>\n",
       "      <td>6817881</td>\n",
       "    </tr>\n",
       "    <tr>\n",
       "      <th>NATIONAL GALLERY</th>\n",
       "      <td>15913093</td>\n",
       "    </tr>\n",
       "    <tr>\n",
       "      <th>NATIONAL MUSEUMS LIVERPOOL</th>\n",
       "      <td>8084105</td>\n",
       "    </tr>\n",
       "    <tr>\n",
       "      <th>NATIONAL PORTRAIT GALLERY</th>\n",
       "      <td>5532333</td>\n",
       "    </tr>\n",
       "    <tr>\n",
       "      <th>NATURAL HISTORY MUSEUM (NHM) TOTAL</th>\n",
       "      <td>13988049</td>\n",
       "    </tr>\n",
       "    <tr>\n",
       "      <th>ROYAL ARMOURIES (RA) TOTAL</th>\n",
       "      <td>3784785</td>\n",
       "    </tr>\n",
       "    <tr>\n",
       "      <th>ROYAL MUSEUMS GREENWICH</th>\n",
       "      <td>6540638</td>\n",
       "    </tr>\n",
       "    <tr>\n",
       "      <th>SCIENCE MUSEUM GROUP (SMG) TOTAL</th>\n",
       "      <td>14531582</td>\n",
       "    </tr>\n",
       "    <tr>\n",
       "      <th>TATE BRITAIN</th>\n",
       "      <td>4543954</td>\n",
       "    </tr>\n",
       "    <tr>\n",
       "      <th>TATE GALLERIES TOTAL</th>\n",
       "      <td>22706794</td>\n",
       "    </tr>\n",
       "    <tr>\n",
       "      <th>TATE LIVERPOOL</th>\n",
       "      <td>1954384</td>\n",
       "    </tr>\n",
       "    <tr>\n",
       "      <th>TATE MODERN</th>\n",
       "      <td>15541434</td>\n",
       "    </tr>\n",
       "    <tr>\n",
       "      <th>TOTAL VISITOR FIGURES</th>\n",
       "      <td>104340438</td>\n",
       "    </tr>\n",
       "    <tr>\n",
       "      <th>TYNE &amp; WEAR TOTAL</th>\n",
       "      <td>3750335</td>\n",
       "    </tr>\n",
       "    <tr>\n",
       "      <th>VICTORIA AND ALBERT MUSUEM (V&amp;A) TOTAL</th>\n",
       "      <td>10021955</td>\n",
       "    </tr>\n",
       "    <tr>\n",
       "      <th>WALLACE COLLECTION</th>\n",
       "      <td>1137819</td>\n",
       "    </tr>\n",
       "  </tbody>\n",
       "</table>\n",
       "</div>"
      ],
      "text/plain": [
       "                                                     visits\n",
       "museum                                                     \n",
       "(IWM) CHURCHILL WAR ROOMS                         1229649  \n",
       "(IWM) DUXFORD                                     1227263  \n",
       "(IWM) HMS BELFAST                                 826301   \n",
       "(IWM) LONDON                                      2686720  \n",
       "(IWM) NORTH                                       847654   \n",
       "(NHM) SOUTH KENSINGTON                            13583304 \n",
       "(RA) WHITE TOWER (BASED AT THE TOWER OF LONDON)   2763626  \n",
       "(SMG) MUSEUM OF SCIENCE AND INDUSTRY, MANCHESTER  1130082  \n",
       "(SMG) NATIONAL MEDIA MUSEUM                       1657280  \n",
       "(SMG) NATIONAL RAILWAY MUSEUM                     2354782  \n",
       "(SMG) SOUTH KENSINGTON                            8832974  \n",
       "(T&W) DISCOVERY                                   955069   \n",
       "(V&A) MUSEUM OF CHILDHOOD, BETHNAL GREEN          1121443  \n",
       "(V&A) SOUTH KENSINGTON                            8778743  \n",
       "BRITISH MUSEUM                                    17721794 \n",
       "HORNIMAN MUSEUM (Excluding visits to the Garden)  1837205  \n",
       "IMPERIAL WAR MUSEUM (IWM) TOTAL                   6817881  \n",
       "NATIONAL GALLERY                                  15913093 \n",
       "NATIONAL MUSEUMS LIVERPOOL                        8084105  \n",
       "NATIONAL PORTRAIT GALLERY                         5532333  \n",
       "NATURAL HISTORY MUSEUM (NHM) TOTAL                13988049 \n",
       "ROYAL ARMOURIES (RA) TOTAL                        3784785  \n",
       "ROYAL MUSEUMS GREENWICH                           6540638  \n",
       "SCIENCE MUSEUM GROUP (SMG) TOTAL                  14531582 \n",
       "TATE BRITAIN                                      4543954  \n",
       "TATE GALLERIES TOTAL                              22706794 \n",
       "TATE LIVERPOOL                                    1954384  \n",
       "TATE MODERN                                       15541434 \n",
       "TOTAL VISITOR FIGURES                             104340438\n",
       "TYNE & WEAR TOTAL                                 3750335  \n",
       "VICTORIA AND ALBERT MUSUEM (V&A) TOTAL            10021955 \n",
       "WALLACE COLLECTION                                1137819  "
      ]
     },
     "execution_count": 39,
     "metadata": {},
     "output_type": "execute_result"
    }
   ],
   "source": [
    "top = visited[visited['visits']>750000]\n",
    "top"
   ]
  },
  {
   "cell_type": "code",
   "execution_count": 73,
   "metadata": {},
   "outputs": [
    {
     "data": {
      "text/plain": [
       "visits    15913093\n",
       "Name: NATIONAL GALLERY, dtype: int64"
      ]
     },
     "execution_count": 73,
     "metadata": {},
     "output_type": "execute_result"
    }
   ],
   "source": [
    "visited.loc['NATIONAL GALLERY']"
   ]
  },
  {
   "cell_type": "code",
   "execution_count": 79,
   "metadata": {},
   "outputs": [],
   "source": [
    "October_2018 = data.groupby('year').get_group(2018).groupby('month').get_group(10).groupby('museum').agg({'visits': \"sum\"})"
   ]
  },
  {
   "cell_type": "code",
   "execution_count": 81,
   "metadata": {},
   "outputs": [],
   "source": [
    "FORT_NELSON_October_2018 = October_2018.loc['(RA) FORT NELSON']"
   ]
  },
  {
   "cell_type": "code",
   "execution_count": 82,
   "metadata": {},
   "outputs": [
    {
     "data": {
      "text/plain": [
       "visits    1588\n",
       "Name: (RA) FORT NELSON, dtype: int64"
      ]
     },
     "execution_count": 82,
     "metadata": {},
     "output_type": "execute_result"
    }
   ],
   "source": [
    "FORT_NELSON_October_2018"
   ]
  },
  {
   "cell_type": "code",
   "execution_count": 84,
   "metadata": {},
   "outputs": [],
   "source": [
    "_2018 = data.groupby('year').get_group(2018).groupby('museum').agg({'visits': \"sum\"})"
   ]
  },
  {
   "cell_type": "code",
   "execution_count": 86,
   "metadata": {},
   "outputs": [
    {
     "data": {
      "text/plain": [
       "visits    822821\n",
       "Name: NATIONAL MUSEUMS LIVERPOOL, dtype: int64"
      ]
     },
     "execution_count": 86,
     "metadata": {},
     "output_type": "execute_result"
    }
   ],
   "source": [
    "NATIONAL_MUSEUMS_LIVERPOOL_2018 = _2018.loc['NATIONAL MUSEUMS LIVERPOOL']\n",
    "NATIONAL_MUSEUMS_LIVERPOOL_2018"
   ]
  },
  {
   "cell_type": "code",
   "execution_count": 88,
   "metadata": {},
   "outputs": [
    {
     "data": {
      "text/plain": [
       "visits    141437\n",
       "Name: TATE LIVERPOOL, dtype: int64"
      ]
     },
     "execution_count": 88,
     "metadata": {},
     "output_type": "execute_result"
    }
   ],
   "source": [
    "TATE_LIVERPOOL_2018 = _2018.loc['TATE LIVERPOOL']\n",
    "TATE_LIVERPOOL_2018"
   ]
  },
  {
   "cell_type": "markdown",
   "metadata": {},
   "source": [
    "`\"NATIONAL MUSEUMS LIVERPOOL\" receive more visitors than the \"TATE LIVERPOOL\" in 2018`"
   ]
  },
  {
   "cell_type": "markdown",
   "metadata": {},
   "source": [
    "===================================================================================================\n",
    "\n",
    "$\\textbf{Target 2. }$ The _\"(IWM) LONDON\"_  claims they ran an event in 2014 that brought an incredible number of visitors, and that they should get extra budget to run a similar event again. The other local museums think these types of events aren't that important, and budgets should be split purely based on recent visitors on an average day.\n",
    "\n",
    "Hint:\n",
    "\n",
    "- 1) Suppose that the local museum here contains the word 'LONDON'\n",
    "\n",
    "- 2) To show the museum board how the event compared to regular traffic at each museum, create a line chart that shows how the number of visitors to each museum evolved over time (until 2014).\n",
    "\n",
    "==================================================================================================="
   ]
  },
  {
   "cell_type": "code",
   "execution_count": null,
   "metadata": {},
   "outputs": [],
   "source": [
    "# your code here"
   ]
  },
  {
   "cell_type": "code",
   "execution_count": null,
   "metadata": {},
   "outputs": [],
   "source": []
  },
  {
   "cell_type": "code",
   "execution_count": null,
   "metadata": {},
   "outputs": [],
   "source": []
  },
  {
   "cell_type": "code",
   "execution_count": null,
   "metadata": {},
   "outputs": [],
   "source": []
  },
  {
   "cell_type": "markdown",
   "metadata": {},
   "source": [
    "===================================================================================================\n",
    "\n",
    "$\\textbf{Target 3.}$\n",
    "When meeting with the employees at _\"TATE ST IVES\"_, you hear that one major pain point is that the number of museum visitors varies greatly with the seasons, with low seasons (when the employees are perfectly staffed and happy) and also high seasons (when the employees are understaffed and stressed). You realize that if you can predict these high and low seasons, you can plan ahead to hire some additional seasonal employees to help out with the extra work.\n",
    "\n",
    "__Step 1.__ _Create a line chart that shows how the number of visitors to Avila Adobe has evolved over time_. \n",
    "\n",
    "\n",
    "__Step 2.__ _Does \"TATE ST IVES\" get more visitors:_ Using this information, when should the museum staff additional seasonal employees?\n",
    "\n",
    "==================================================================================================="
   ]
  },
  {
   "cell_type": "markdown",
   "metadata": {},
   "source": [
    "===================================================================================================\n",
    "\n",
    "# Topic 2.  Bar Charts\n",
    "\n",
    "===================================================================================================\n",
    "\n",
    "### Scenario\n",
    "\n",
    "You've recently decided to create your very own video game!  As an avid reader of [IGN Game Reviews](https://www.ign.com/reviews/games), you hear about all of the most recent game releases, along with the ranking they've received from experts, ranging from 0 (_Disaster_) to 10 (_Masterpiece_).\n",
    "\n",
    "===================================================================================================\n",
    "#### Viewing dataset"
   ]
  },
  {
   "cell_type": "markdown",
   "metadata": {},
   "source": [
    "===================================================================================================\n",
    "\n",
    "$\\textbf{Target 1.}$ _Answers these following questions :_\n",
    "\n",
    "- 1) Using ign_scores.csv for this target\n",
    "\n",
    "- 1) What is the highest average score received by PC games?\n",
    "\n",
    "- 2) On the \"PlayStation Vita\" platform, which genre has the lowest average score?\n",
    "\n",
    "==================================================================================================="
   ]
  },
  {
   "cell_type": "markdown",
   "metadata": {},
   "source": [
    "===================================================================================================\n",
    "\n",
    "$\\textbf{Target 2.}$ Since you can remember, your favorite video game has been [**Mario Kart Wii**](https://www.ign.com/games/mario-kart-wii), a racing game released for the Wii platform in 2008.  And, IGN agrees with you that it is a great game -- their rating for this game is a whopping 8.9!  Inspired by the success of this game, you're considering creating your very own racing game for the Wii platform.\n",
    "#### Step 1.\n",
    "Create a bar chart that shows the average score for **racing** games, for each platform.  Your chart should have one bar for each platform.\n",
    "\n",
    "#### Step 2.\n",
    "Based on the bar chart, do you expect a __racing__ game for the **Wii** platform to receive a high rating?  If not, what gaming platform seems to be the best alternative?\n",
    "\n",
    "===================================================================================================\n"
   ]
  },
  {
   "cell_type": "markdown",
   "metadata": {},
   "source": [
    "__Nhận xét.__\n",
    "- 1) Xét về mặt _\"Racing\"_; các game trên _\"Wii\"_ còn rất yếu \n",
    "- 2) Các game trên _\"Xbox One\"_ được đánh giá tính _\"racing\"_ cao hơn cả."
   ]
  },
  {
   "cell_type": "markdown",
   "metadata": {},
   "source": [
    "===================================================================================================\n",
    "\n",
    "__Target 3.__ Eventually, you decide against creating a racing game for Wii, but you're still committed to creating your own video game!  Since your gaming interests are pretty broad (_... you generally love most video games_), you decide to use the IGN data to inform your new choice of genre and platform.\n",
    "\n",
    "#### Step 1.\n",
    "Use the data to create a heatmap of average score by genre and platform.  \n",
    "\n",
    "#### Step 2.\n",
    "Which combination of genre and platform receives the highest average ratings?  Which combination receives the lowest average rankings?\n",
    "\n",
    "==================================================================================================="
   ]
  },
  {
   "cell_type": "markdown",
   "metadata": {},
   "source": [
    "# Topic 3. Inferences in Pie & count charts\n",
    "__Renaming then Viewing data set.__"
   ]
  },
  {
   "cell_type": "markdown",
   "metadata": {},
   "source": [
    "__Target 1.__ _Using pie and count charts_ \n",
    "\n",
    "Using Car data for this topic\n",
    "\n",
    "Describe the fuel economy of vehicles from different areas: U.S., Japan and E.U,"
   ]
  },
  {
   "cell_type": "markdown",
   "metadata": {},
   "source": [
    "__Target 2.__ _Using boxplot_\n",
    "and explain the diagrams"
   ]
  },
  {
   "cell_type": "markdown",
   "metadata": {},
   "source": [
    "# Topic 4. Histogram\n",
    "We have 2 dataset in this Section: The data file corresponding to benign tumors into a DataFrame called cancer_b_data; while another is corresponding to malignant tumors."
   ]
  },
  {
   "cell_type": "code",
   "execution_count": 1,
   "metadata": {
    "ExecuteTime": {
     "end_time": "2020-02-14T18:22:01.881890Z",
     "start_time": "2020-02-14T18:22:01.877730Z"
    }
   },
   "outputs": [],
   "source": [
    "# Read and show Cancer_b dataset"
   ]
  },
  {
   "cell_type": "code",
   "execution_count": 2,
   "metadata": {
    "ExecuteTime": {
     "end_time": "2020-02-14T18:22:12.195465Z",
     "start_time": "2020-02-14T18:22:12.193366Z"
    }
   },
   "outputs": [],
   "source": [
    "# Read and show Cancer_m dataset"
   ]
  },
  {
   "cell_type": "markdown",
   "metadata": {},
   "source": [
    "1) The data for benign tumors, what is the largest value for 'Perimeter (mean)'?"
   ]
  },
  {
   "cell_type": "markdown",
   "metadata": {},
   "source": [
    "2) What is the value for 'Radius (mean)' for the tumor with Id 842517"
   ]
  },
  {
   "cell_type": "markdown",
   "metadata": {},
   "source": [
    "### Investigating differences\n",
    "Step 1. Create 2 histograms that show the distribution in values for `'Area (mean)'` for both benign and malignant tumors"
   ]
  },
  {
   "cell_type": "markdown",
   "metadata": {},
   "source": [
    "Step 2. A researcher approaches you for help with identifying how the `'Area (mean)'` column can be used to understand the difference between benign and malignant tumors.  Based on the histograms above, \n",
    "- Do malignant tumors have higher or lower values for `'Area (mean)'` (relative to benign tumors), on average?\n",
    "- Which tumor type seems to have a larger range of potential values?"
   ]
  },
  {
   "cell_type": "markdown",
   "metadata": {},
   "source": [
    "### Problem. A very useful column \n",
    "#### Step 1.\n",
    "\n",
    "Create two KDE plots that show the distribution in values for `'Radius (worst)'` for both benign and malignant tumors.  (_To permit easy comparison, create a single figure containing both KDE plots in the code cell below._)"
   ]
  },
  {
   "cell_type": "markdown",
   "metadata": {},
   "source": [
    "#### Step 2.\n",
    "\n",
    "A hospital has recently started using an algorithm that can diagnose tumors with high accuracy.  Given a tumor with a value for `'Radius (worst)'` of 25, do you think the algorithm is more likely to classify the tumor as benign or malignant?"
   ]
  },
  {
   "cell_type": "markdown",
   "metadata": {},
   "source": [
    "# Topic 5. Scatter plot & regression line\n",
    "##### Review the data"
   ]
  },
  {
   "cell_type": "code",
   "execution_count": 3,
   "metadata": {
    "ExecuteTime": {
     "end_time": "2020-02-14T18:22:47.002964Z",
     "start_time": "2020-02-14T18:22:47.000860Z"
    }
   },
   "outputs": [],
   "source": [
    "# # read and show candy dataset"
   ]
  },
  {
   "cell_type": "markdown",
   "metadata": {},
   "source": [
    "_The dataset contains 83 rows, where each corresponds to a different candy bar. There are 13 columns:_\n",
    "- __'competitorname'__ contains the name of the candy bar.\n",
    "- __the next 9 columns__ (from 'chocolate' to 'pluribus') describe the candy. For instance, rows with chocolate candies have \"Yes\" in the 'chocolate' column (and candies without chocolate have \"No\" in the same column).\n",
    "- __'sugarpercent'__ provides some indication of the amount of sugar, where higher values signify higher sugar content.\n",
    "- __'pricepercent'__ shows the price per unit, relative to the other candies in the dataset.\n",
    "- __'winpercent'__ is calculated from the survey results; higher values indicate that the candy was more popular with _survey respondents_."
   ]
  },
  {
   "cell_type": "markdown",
   "metadata": {},
   "source": [
    "__Target 1.__ Answer the questions\n",
    "- 1) How many columns of 'Kit Kat' received 'Yes' in the survey\n",
    "- 2) Which candy was more popular with survey respondents;: 'Kit Kat' or 'Almond Joy'?\n",
    "- 3) Which candy has higher sugar content: 'Twizzlers' or '3 Musketeers'?"
   ]
  },
  {
   "cell_type": "markdown",
   "metadata": {},
   "source": [
    "### Target 2: The role of sugar\n",
    "Do people tend to prefer candies with higher sugar content?  \n",
    "\n",
    "#### Step1\n",
    "Create a scatter plot that shows the relationship between `'sugarpercent'` (on the horizontal x-axis) and `'winpercent'` (on the vertical y-axis).  _Don't add a regression line just yet -- you'll do that in the next step!_"
   ]
  },
  {
   "cell_type": "markdown",
   "metadata": {},
   "source": [
    "#### Step2\n",
    "Look at the scatter plot, are candies with more sugar relatively more or less popular with the survey respondents?"
   ]
  },
  {
   "cell_type": "markdown",
   "metadata": {},
   "source": [
    "- Look at the scatter plot, it is indicated a `'positively correlation'`, meaning that both variables move in the same direction together. \n",
    "\n",
    "- Next, the candies with more sugar (or the `'sugarpercent'`) is less popular with the survey respondents (also `'\"winpercent\"'`). \n",
    "\n",
    "- In fact, the correllation of 2 this features is equal to 0.333861."
   ]
  },
  {
   "cell_type": "markdown",
   "metadata": {},
   "source": [
    "### __Target 3 (Take a closer look)__\n",
    "#### Step 1.\n",
    "Add the _regression line_ to the scatter plot in a new window"
   ]
  },
  {
   "cell_type": "markdown",
   "metadata": {},
   "source": [
    "#### Step2.\n",
    "Explain the plot above; and what does this tell you about the candy that people tend to prefer?\n",
    "Then, find the `'R2'` and `'R2adjusted'` values of this model"
   ]
  },
  {
   "cell_type": "markdown",
   "metadata": {},
   "source": [
    "### __Target 4. Investigate each features__:  ___Chocolate___ \n",
    "\n",
    "#### Step 1\n",
    "\n",
    "Create the same scatter plot you created above, but now with two regression lines, corresponding to (1) chocolate candies and (2) candies without chocolate."
   ]
  },
  {
   "cell_type": "markdown",
   "metadata": {},
   "source": [
    "##### Step 2. Using the regression lines, what conclusions can you draw about the effects of chocolate and price on candy popularity?"
   ]
  },
  {
   "cell_type": "markdown",
   "metadata": {},
   "source": [
    "### __Target 5.__ _Everybody loves chocolate.?_\n",
    "\n",
    "#### Step 1.\n",
    "Using swarmplot(); create a categorical scatter plot to highlight the relationship between `'chocolate'` and `'winpercent'`.  Put `'chocolate'` on the (horizontal) x-axis, and `'winpercent'` on the (vertical) y-axis."
   ]
  },
  {
   "cell_type": "markdown",
   "metadata": {},
   "source": [
    "#### Step 2.\n",
    "\n",
    "You decide to dedicate a section of your report to the fact that chocolate candies tend to be more popular than candies without chocolate.  Which plot is more appropriate to tell this story?"
   ]
  },
  {
   "cell_type": "markdown",
   "metadata": {},
   "source": [
    "_=====================================================================================================================_"
   ]
  }
 ],
 "metadata": {
  "kernelspec": {
   "display_name": "Python 3",
   "language": "python",
   "name": "python3"
  },
  "language_info": {
   "codemirror_mode": {
    "name": "ipython",
    "version": 3
   },
   "file_extension": ".py",
   "mimetype": "text/x-python",
   "name": "python",
   "nbconvert_exporter": "python",
   "pygments_lexer": "ipython3",
   "version": "3.7.5"
  },
  "toc": {
   "base_numbering": 1,
   "nav_menu": {},
   "number_sections": true,
   "sideBar": true,
   "skip_h1_title": false,
   "title_cell": "Table of Contents",
   "title_sidebar": "Contents",
   "toc_cell": false,
   "toc_position": {},
   "toc_section_display": true,
   "toc_window_display": false
  },
  "varInspector": {
   "cols": {
    "lenName": 16,
    "lenType": 16,
    "lenVar": 40
   },
   "kernels_config": {
    "python": {
     "delete_cmd_postfix": "",
     "delete_cmd_prefix": "del ",
     "library": "var_list.py",
     "varRefreshCmd": "print(var_dic_list())"
    },
    "r": {
     "delete_cmd_postfix": ") ",
     "delete_cmd_prefix": "rm(",
     "library": "var_list.r",
     "varRefreshCmd": "cat(var_dic_list()) "
    }
   },
   "types_to_exclude": [
    "module",
    "function",
    "builtin_function_or_method",
    "instance",
    "_Feature"
   ],
   "window_display": false
  }
 },
 "nbformat": 4,
 "nbformat_minor": 2
}
