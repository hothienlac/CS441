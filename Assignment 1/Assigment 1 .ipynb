{
  "nbformat": 4,
  "nbformat_minor": 0,
  "metadata": {
    "kernelspec": {
      "display_name": "Python 3",
      "language": "python",
      "name": "python3"
    },
    "language_info": {
      "codemirror_mode": {
        "name": "ipython",
        "version": 3
      },
      "file_extension": ".py",
      "mimetype": "text/x-python",
      "name": "python",
      "nbconvert_exporter": "python",
      "pygments_lexer": "ipython3",
      "version": "3.7.5"
    },
    "toc": {
      "base_numbering": 1,
      "nav_menu": {},
      "number_sections": true,
      "sideBar": true,
      "skip_h1_title": false,
      "title_cell": "Table of Contents",
      "title_sidebar": "Contents",
      "toc_cell": false,
      "toc_position": {},
      "toc_section_display": true,
      "toc_window_display": false
    },
    "varInspector": {
      "cols": {
        "lenName": 16,
        "lenType": 16,
        "lenVar": 40
      },
      "kernels_config": {
        "python": {
          "delete_cmd_postfix": "",
          "delete_cmd_prefix": "del ",
          "library": "var_list.py",
          "varRefreshCmd": "print(var_dic_list())"
        },
        "r": {
          "delete_cmd_postfix": ") ",
          "delete_cmd_prefix": "rm(",
          "library": "var_list.r",
          "varRefreshCmd": "cat(var_dic_list()) "
        }
      },
      "types_to_exclude": [
        "module",
        "function",
        "builtin_function_or_method",
        "instance",
        "_Feature"
      ],
      "window_display": false
    },
    "colab": {
      "name": "Assigment 1 .ipynb",
      "provenance": [],
      "include_colab_link": true
    }
  },
  "cells": [
    {
      "cell_type": "markdown",
      "metadata": {
        "id": "view-in-github",
        "colab_type": "text"
      },
      "source": [
        "<a href=\"https://colab.research.google.com/github/hothienlac/CS441/blob/master/Assignment%201/Assigment%201%20.ipynb\" target=\"_parent\"><img src=\"https://colab.research.google.com/assets/colab-badge.svg\" alt=\"Open In Colab\"/></a>"
      ]
    },
    {
      "cell_type": "markdown",
      "metadata": {
        "id": "zVEBC8rKgeaT",
        "colab_type": "text"
      },
      "source": [
        "## The popular plotting libraries for Data visualization\n",
        "\n",
        "===================================================================================================\n",
        "- $\\textbf{Cấp 1: Matplotlib & pandas.}$ Dùng để vẽ các dữ liệu một cách tự do với hơi hướng xử lý đơn giản\n",
        "- $\\textbf{Cấp 2: Seaborn.}$ Dùng khi xử lý các yêu cầu phức tạp hơn; với giao diện kết quả sắc nét hơn\n",
        "- $\\textbf{Cấp 3: ggplot & ploty.}$ Có thể tạo ra những hình vẽ có tính tương tác tốt (interactive plots)\n",
        "\n",
        "Dưới đây là các chuyên đề và BT tương ứng của phần \"Data visualization\" này.\n",
        "\n",
        "==================================================================================================="
      ]
    },
    {
      "cell_type": "markdown",
      "metadata": {
        "id": "Wt08KKTzgeaf",
        "colab_type": "text"
      },
      "source": [
        "===================================================================================================\n",
        "# Topic 1. Line Charts\n",
        "==================================================================================================="
      ]
    },
    {
      "cell_type": "markdown",
      "metadata": {
        "id": "pU-6rG0mgeak",
        "colab_type": "text"
      },
      "source": [
        "===================================================================================================\n",
        "$\\textbf{Target 1. }\\textit{Answer the following question}$\n",
        "\n",
        "Từ dữ liệu \"Museums_and_Galleries_monthly_visits_April_to_June.csv\"; hãy thực hiện lần lượt các yêu cầu sau\n",
        "\n",
        "- 1) Loading dataset and display the first 5 rows\n",
        "\n",
        "- 2) Extract the sub-dataframe which have the number of visitors more than 750000\n",
        "\n",
        "- 3) How many visitors did the \"NATIONAL GALLERY\"\n",
        "\n",
        "- 4) In October 2018, how many more visitors did \"(RA) FORT NELSON\"? \n",
        "\n",
        "- 5) Does \"NATIONAL MUSEUMS LIVERPOOL\" receive more visitors than the \"TATE LIVERPOOL\" in 2018? \n",
        "\n",
        "==================================================================================================="
      ]
    },
    {
      "cell_type": "code",
      "metadata": {
        "id": "j6Y4ehBjgeat",
        "colab_type": "code",
        "colab": {}
      },
      "source": [
        "# your code here"
      ],
      "execution_count": 0,
      "outputs": []
    },
    {
      "cell_type": "code",
      "metadata": {
        "id": "d-N1LFwtgea8",
        "colab_type": "code",
        "colab": {}
      },
      "source": [
        "import pandas as pd\n",
        "import matplotlib.pyplot as plt\n",
        "import plotly.express as px\n",
        "import plotly.graph_objs as go\n",
        "import seaborn as sns"
      ],
      "execution_count": 0,
      "outputs": []
    },
    {
      "cell_type": "code",
      "metadata": {
        "id": "bCnOAqxbgebJ",
        "colab_type": "code",
        "colab": {
          "base_uri": "https://localhost:8080/",
          "height": 204
        },
        "outputId": "cf388044-3241-4b01-cf9f-6866c00a621c"
      },
      "source": [
        "data = pd.read_excel('https://github.com/hothienlac/CS441/blob/master/Assignment%201/dataset/Museums_and_Galleries_monthly_visits_April_to_June.xlsx?raw=true',sheet_name='Sheet1',index_col=0)\n",
        "data.head()"
      ],
      "execution_count": 3,
      "outputs": [
        {
          "output_type": "execute_result",
          "data": {
            "text/html": [
              "<div>\n",
              "<style scoped>\n",
              "    .dataframe tbody tr th:only-of-type {\n",
              "        vertical-align: middle;\n",
              "    }\n",
              "\n",
              "    .dataframe tbody tr th {\n",
              "        vertical-align: top;\n",
              "    }\n",
              "\n",
              "    .dataframe thead th {\n",
              "        text-align: right;\n",
              "    }\n",
              "</style>\n",
              "<table border=\"1\" class=\"dataframe\">\n",
              "  <thead>\n",
              "    <tr style=\"text-align: right;\">\n",
              "      <th></th>\n",
              "      <th>museum</th>\n",
              "      <th>year</th>\n",
              "      <th>month</th>\n",
              "      <th>visits</th>\n",
              "    </tr>\n",
              "  </thead>\n",
              "  <tbody>\n",
              "    <tr>\n",
              "      <th>0</th>\n",
              "      <td>TOTAL VISITOR FIGURES</td>\n",
              "      <td>2004</td>\n",
              "      <td>4</td>\n",
              "      <td>0</td>\n",
              "    </tr>\n",
              "    <tr>\n",
              "      <th>1</th>\n",
              "      <td>TOTAL VISITOR FIGURES</td>\n",
              "      <td>2004</td>\n",
              "      <td>5</td>\n",
              "      <td>0</td>\n",
              "    </tr>\n",
              "    <tr>\n",
              "      <th>2</th>\n",
              "      <td>TOTAL VISITOR FIGURES</td>\n",
              "      <td>2004</td>\n",
              "      <td>6</td>\n",
              "      <td>0</td>\n",
              "    </tr>\n",
              "    <tr>\n",
              "      <th>3</th>\n",
              "      <td>TOTAL VISITOR FIGURES</td>\n",
              "      <td>2004</td>\n",
              "      <td>7</td>\n",
              "      <td>0</td>\n",
              "    </tr>\n",
              "    <tr>\n",
              "      <th>4</th>\n",
              "      <td>TOTAL VISITOR FIGURES</td>\n",
              "      <td>2004</td>\n",
              "      <td>8</td>\n",
              "      <td>0</td>\n",
              "    </tr>\n",
              "  </tbody>\n",
              "</table>\n",
              "</div>"
            ],
            "text/plain": [
              "                  museum  year  month  visits\n",
              "0  TOTAL VISITOR FIGURES  2004      4       0\n",
              "1  TOTAL VISITOR FIGURES  2004      5       0\n",
              "2  TOTAL VISITOR FIGURES  2004      6       0\n",
              "3  TOTAL VISITOR FIGURES  2004      7       0\n",
              "4  TOTAL VISITOR FIGURES  2004      8       0"
            ]
          },
          "metadata": {
            "tags": []
          },
          "execution_count": 3
        }
      ]
    },
    {
      "cell_type": "code",
      "metadata": {
        "id": "5TkyVMY2gebb",
        "colab_type": "code",
        "colab": {
          "base_uri": "https://localhost:8080/",
          "height": 235
        },
        "outputId": "2889703b-9f99-4b67-d207-e1551056d0b8"
      },
      "source": [
        "visited = data.groupby('museum').agg({'visits': \"sum\"})\n",
        "visited.head()"
      ],
      "execution_count": 4,
      "outputs": [
        {
          "output_type": "execute_result",
          "data": {
            "text/html": [
              "<div>\n",
              "<style scoped>\n",
              "    .dataframe tbody tr th:only-of-type {\n",
              "        vertical-align: middle;\n",
              "    }\n",
              "\n",
              "    .dataframe tbody tr th {\n",
              "        vertical-align: top;\n",
              "    }\n",
              "\n",
              "    .dataframe thead th {\n",
              "        text-align: right;\n",
              "    }\n",
              "</style>\n",
              "<table border=\"1\" class=\"dataframe\">\n",
              "  <thead>\n",
              "    <tr style=\"text-align: right;\">\n",
              "      <th></th>\n",
              "      <th>visits</th>\n",
              "    </tr>\n",
              "    <tr>\n",
              "      <th>museum</th>\n",
              "      <th></th>\n",
              "    </tr>\n",
              "  </thead>\n",
              "  <tbody>\n",
              "    <tr>\n",
              "      <th>(IWM) CHURCHILL WAR ROOMS</th>\n",
              "      <td>1229649</td>\n",
              "    </tr>\n",
              "    <tr>\n",
              "      <th>(IWM) DUXFORD</th>\n",
              "      <td>1227263</td>\n",
              "    </tr>\n",
              "    <tr>\n",
              "      <th>(IWM) HMS BELFAST</th>\n",
              "      <td>826301</td>\n",
              "    </tr>\n",
              "    <tr>\n",
              "      <th>(IWM) LONDON</th>\n",
              "      <td>2686720</td>\n",
              "    </tr>\n",
              "    <tr>\n",
              "      <th>(IWM) NORTH</th>\n",
              "      <td>847654</td>\n",
              "    </tr>\n",
              "  </tbody>\n",
              "</table>\n",
              "</div>"
            ],
            "text/plain": [
              "                            visits\n",
              "museum                            \n",
              "(IWM) CHURCHILL WAR ROOMS  1229649\n",
              "(IWM) DUXFORD              1227263\n",
              "(IWM) HMS BELFAST           826301\n",
              "(IWM) LONDON               2686720\n",
              "(IWM) NORTH                 847654"
            ]
          },
          "metadata": {
            "tags": []
          },
          "execution_count": 4
        }
      ]
    },
    {
      "cell_type": "code",
      "metadata": {
        "id": "o7K06Itigebo",
        "colab_type": "code",
        "colab": {
          "base_uri": "https://localhost:8080/",
          "height": 1000
        },
        "outputId": "a0387a01-1339-43d0-993a-1e830cafaffc"
      },
      "source": [
        "top = visited[visited['visits']>750000]\n",
        "top"
      ],
      "execution_count": 5,
      "outputs": [
        {
          "output_type": "execute_result",
          "data": {
            "text/html": [
              "<div>\n",
              "<style scoped>\n",
              "    .dataframe tbody tr th:only-of-type {\n",
              "        vertical-align: middle;\n",
              "    }\n",
              "\n",
              "    .dataframe tbody tr th {\n",
              "        vertical-align: top;\n",
              "    }\n",
              "\n",
              "    .dataframe thead th {\n",
              "        text-align: right;\n",
              "    }\n",
              "</style>\n",
              "<table border=\"1\" class=\"dataframe\">\n",
              "  <thead>\n",
              "    <tr style=\"text-align: right;\">\n",
              "      <th></th>\n",
              "      <th>visits</th>\n",
              "    </tr>\n",
              "    <tr>\n",
              "      <th>museum</th>\n",
              "      <th></th>\n",
              "    </tr>\n",
              "  </thead>\n",
              "  <tbody>\n",
              "    <tr>\n",
              "      <th>(IWM) CHURCHILL WAR ROOMS</th>\n",
              "      <td>1229649</td>\n",
              "    </tr>\n",
              "    <tr>\n",
              "      <th>(IWM) DUXFORD</th>\n",
              "      <td>1227263</td>\n",
              "    </tr>\n",
              "    <tr>\n",
              "      <th>(IWM) HMS BELFAST</th>\n",
              "      <td>826301</td>\n",
              "    </tr>\n",
              "    <tr>\n",
              "      <th>(IWM) LONDON</th>\n",
              "      <td>2686720</td>\n",
              "    </tr>\n",
              "    <tr>\n",
              "      <th>(IWM) NORTH</th>\n",
              "      <td>847654</td>\n",
              "    </tr>\n",
              "    <tr>\n",
              "      <th>(NHM) SOUTH KENSINGTON</th>\n",
              "      <td>13583304</td>\n",
              "    </tr>\n",
              "    <tr>\n",
              "      <th>(RA) WHITE TOWER (BASED AT THE TOWER OF LONDON)</th>\n",
              "      <td>2763626</td>\n",
              "    </tr>\n",
              "    <tr>\n",
              "      <th>(SMG) MUSEUM OF SCIENCE AND INDUSTRY, MANCHESTER</th>\n",
              "      <td>1130082</td>\n",
              "    </tr>\n",
              "    <tr>\n",
              "      <th>(SMG) NATIONAL MEDIA MUSEUM</th>\n",
              "      <td>1657280</td>\n",
              "    </tr>\n",
              "    <tr>\n",
              "      <th>(SMG) NATIONAL RAILWAY MUSEUM</th>\n",
              "      <td>2354782</td>\n",
              "    </tr>\n",
              "    <tr>\n",
              "      <th>(SMG) SOUTH KENSINGTON</th>\n",
              "      <td>8832974</td>\n",
              "    </tr>\n",
              "    <tr>\n",
              "      <th>(T&amp;W) DISCOVERY</th>\n",
              "      <td>955069</td>\n",
              "    </tr>\n",
              "    <tr>\n",
              "      <th>(V&amp;A) MUSEUM OF CHILDHOOD, BETHNAL GREEN</th>\n",
              "      <td>1121443</td>\n",
              "    </tr>\n",
              "    <tr>\n",
              "      <th>(V&amp;A) SOUTH KENSINGTON</th>\n",
              "      <td>8778743</td>\n",
              "    </tr>\n",
              "    <tr>\n",
              "      <th>BRITISH MUSEUM</th>\n",
              "      <td>17721794</td>\n",
              "    </tr>\n",
              "    <tr>\n",
              "      <th>HORNIMAN MUSEUM (Excluding visits to the Garden)</th>\n",
              "      <td>1837205</td>\n",
              "    </tr>\n",
              "    <tr>\n",
              "      <th>IMPERIAL WAR MUSEUM (IWM) TOTAL</th>\n",
              "      <td>6817881</td>\n",
              "    </tr>\n",
              "    <tr>\n",
              "      <th>NATIONAL GALLERY</th>\n",
              "      <td>15913093</td>\n",
              "    </tr>\n",
              "    <tr>\n",
              "      <th>NATIONAL MUSEUMS LIVERPOOL</th>\n",
              "      <td>8084105</td>\n",
              "    </tr>\n",
              "    <tr>\n",
              "      <th>NATIONAL PORTRAIT GALLERY</th>\n",
              "      <td>5532333</td>\n",
              "    </tr>\n",
              "    <tr>\n",
              "      <th>NATURAL HISTORY MUSEUM (NHM) TOTAL</th>\n",
              "      <td>13988049</td>\n",
              "    </tr>\n",
              "    <tr>\n",
              "      <th>ROYAL ARMOURIES (RA) TOTAL</th>\n",
              "      <td>3784785</td>\n",
              "    </tr>\n",
              "    <tr>\n",
              "      <th>ROYAL MUSEUMS GREENWICH</th>\n",
              "      <td>6540638</td>\n",
              "    </tr>\n",
              "    <tr>\n",
              "      <th>SCIENCE MUSEUM GROUP (SMG) TOTAL</th>\n",
              "      <td>14531582</td>\n",
              "    </tr>\n",
              "    <tr>\n",
              "      <th>TATE BRITAIN</th>\n",
              "      <td>4543954</td>\n",
              "    </tr>\n",
              "    <tr>\n",
              "      <th>TATE GALLERIES TOTAL</th>\n",
              "      <td>22706794</td>\n",
              "    </tr>\n",
              "    <tr>\n",
              "      <th>TATE LIVERPOOL</th>\n",
              "      <td>1954384</td>\n",
              "    </tr>\n",
              "    <tr>\n",
              "      <th>TATE MODERN</th>\n",
              "      <td>15541434</td>\n",
              "    </tr>\n",
              "    <tr>\n",
              "      <th>TOTAL VISITOR FIGURES</th>\n",
              "      <td>104340438</td>\n",
              "    </tr>\n",
              "    <tr>\n",
              "      <th>TYNE &amp; WEAR TOTAL</th>\n",
              "      <td>3750335</td>\n",
              "    </tr>\n",
              "    <tr>\n",
              "      <th>VICTORIA AND ALBERT MUSUEM (V&amp;A) TOTAL</th>\n",
              "      <td>10021955</td>\n",
              "    </tr>\n",
              "    <tr>\n",
              "      <th>WALLACE COLLECTION</th>\n",
              "      <td>1137819</td>\n",
              "    </tr>\n",
              "  </tbody>\n",
              "</table>\n",
              "</div>"
            ],
            "text/plain": [
              "                                                     visits\n",
              "museum                                                     \n",
              "(IWM) CHURCHILL WAR ROOMS                           1229649\n",
              "(IWM) DUXFORD                                       1227263\n",
              "(IWM) HMS BELFAST                                    826301\n",
              "(IWM) LONDON                                        2686720\n",
              "(IWM) NORTH                                          847654\n",
              "(NHM) SOUTH KENSINGTON                             13583304\n",
              "(RA) WHITE TOWER (BASED AT THE TOWER OF LONDON)     2763626\n",
              "(SMG) MUSEUM OF SCIENCE AND INDUSTRY, MANCHESTER    1130082\n",
              "(SMG) NATIONAL MEDIA MUSEUM                         1657280\n",
              "(SMG) NATIONAL RAILWAY MUSEUM                       2354782\n",
              "(SMG) SOUTH KENSINGTON                              8832974\n",
              "(T&W) DISCOVERY                                      955069\n",
              "(V&A) MUSEUM OF CHILDHOOD, BETHNAL GREEN            1121443\n",
              "(V&A) SOUTH KENSINGTON                              8778743\n",
              "BRITISH MUSEUM                                     17721794\n",
              "HORNIMAN MUSEUM (Excluding visits to the Garden)    1837205\n",
              "IMPERIAL WAR MUSEUM (IWM) TOTAL                     6817881\n",
              "NATIONAL GALLERY                                   15913093\n",
              "NATIONAL MUSEUMS LIVERPOOL                          8084105\n",
              "NATIONAL PORTRAIT GALLERY                           5532333\n",
              "NATURAL HISTORY MUSEUM (NHM) TOTAL                 13988049\n",
              "ROYAL ARMOURIES (RA) TOTAL                          3784785\n",
              "ROYAL MUSEUMS GREENWICH                             6540638\n",
              "SCIENCE MUSEUM GROUP (SMG) TOTAL                   14531582\n",
              "TATE BRITAIN                                        4543954\n",
              "TATE GALLERIES TOTAL                               22706794\n",
              "TATE LIVERPOOL                                      1954384\n",
              "TATE MODERN                                        15541434\n",
              "TOTAL VISITOR FIGURES                             104340438\n",
              "TYNE & WEAR TOTAL                                   3750335\n",
              "VICTORIA AND ALBERT MUSUEM (V&A) TOTAL             10021955\n",
              "WALLACE COLLECTION                                  1137819"
            ]
          },
          "metadata": {
            "tags": []
          },
          "execution_count": 5
        }
      ]
    },
    {
      "cell_type": "code",
      "metadata": {
        "id": "fLV6Te2Qgeb9",
        "colab_type": "code",
        "colab": {
          "base_uri": "https://localhost:8080/",
          "height": 51
        },
        "outputId": "2b0b6380-cf67-456a-ace6-251dea810958"
      },
      "source": [
        "visited.loc['NATIONAL GALLERY']"
      ],
      "execution_count": 6,
      "outputs": [
        {
          "output_type": "execute_result",
          "data": {
            "text/plain": [
              "visits    15913093\n",
              "Name: NATIONAL GALLERY, dtype: int64"
            ]
          },
          "metadata": {
            "tags": []
          },
          "execution_count": 6
        }
      ]
    },
    {
      "cell_type": "code",
      "metadata": {
        "id": "mA1uebdagecL",
        "colab_type": "code",
        "colab": {}
      },
      "source": [
        "October_2018 = data.groupby('year').get_group(2018).groupby('month').get_group(10).groupby('museum').agg({'visits': \"sum\"})"
      ],
      "execution_count": 0,
      "outputs": []
    },
    {
      "cell_type": "code",
      "metadata": {
        "id": "K4Cck91YgecY",
        "colab_type": "code",
        "colab": {}
      },
      "source": [
        "FORT_NELSON_October_2018 = October_2018.loc['(RA) FORT NELSON']"
      ],
      "execution_count": 0,
      "outputs": []
    },
    {
      "cell_type": "code",
      "metadata": {
        "id": "STZQflrogeco",
        "colab_type": "code",
        "colab": {
          "base_uri": "https://localhost:8080/",
          "height": 51
        },
        "outputId": "255d8ef0-9fe9-462a-8036-5c202b92e09c"
      },
      "source": [
        "FORT_NELSON_October_2018"
      ],
      "execution_count": 9,
      "outputs": [
        {
          "output_type": "execute_result",
          "data": {
            "text/plain": [
              "visits    1588\n",
              "Name: (RA) FORT NELSON, dtype: int64"
            ]
          },
          "metadata": {
            "tags": []
          },
          "execution_count": 9
        }
      ]
    },
    {
      "cell_type": "code",
      "metadata": {
        "id": "fmby9tlGgec2",
        "colab_type": "code",
        "colab": {}
      },
      "source": [
        "_2018 = data.groupby('year').get_group(2018).groupby('museum').agg({'visits': \"sum\"})"
      ],
      "execution_count": 0,
      "outputs": []
    },
    {
      "cell_type": "code",
      "metadata": {
        "id": "_ZEWSoBpgedD",
        "colab_type": "code",
        "colab": {
          "base_uri": "https://localhost:8080/",
          "height": 51
        },
        "outputId": "bed2505e-c40b-488c-c2e4-87a73d4a20be"
      },
      "source": [
        "NATIONAL_MUSEUMS_LIVERPOOL_2018 = _2018.loc['NATIONAL MUSEUMS LIVERPOOL']\n",
        "NATIONAL_MUSEUMS_LIVERPOOL_2018"
      ],
      "execution_count": 11,
      "outputs": [
        {
          "output_type": "execute_result",
          "data": {
            "text/plain": [
              "visits    822821\n",
              "Name: NATIONAL MUSEUMS LIVERPOOL, dtype: int64"
            ]
          },
          "metadata": {
            "tags": []
          },
          "execution_count": 11
        }
      ]
    },
    {
      "cell_type": "code",
      "metadata": {
        "id": "HhGQnwfTgedR",
        "colab_type": "code",
        "colab": {
          "base_uri": "https://localhost:8080/",
          "height": 51
        },
        "outputId": "3afb56fa-f78e-4a07-a5e5-2ec6b9139a78"
      },
      "source": [
        "TATE_LIVERPOOL_2018 = _2018.loc['TATE LIVERPOOL']\n",
        "TATE_LIVERPOOL_2018"
      ],
      "execution_count": 12,
      "outputs": [
        {
          "output_type": "execute_result",
          "data": {
            "text/plain": [
              "visits    141437\n",
              "Name: TATE LIVERPOOL, dtype: int64"
            ]
          },
          "metadata": {
            "tags": []
          },
          "execution_count": 12
        }
      ]
    },
    {
      "cell_type": "markdown",
      "metadata": {
        "id": "VXHtqpc9gedg",
        "colab_type": "text"
      },
      "source": [
        "`\"NATIONAL MUSEUMS LIVERPOOL\" receive more visitors than the \"TATE LIVERPOOL\" in 2018`"
      ]
    },
    {
      "cell_type": "markdown",
      "metadata": {
        "id": "gA30CcZvgedj",
        "colab_type": "text"
      },
      "source": [
        "===================================================================================================\n",
        "\n",
        "$\\textbf{Target 2. }$ The _\"(IWM) LONDON\"_  claims they ran an event in 2014 that brought an incredible number of visitors, and that they should get extra budget to run a similar event again. The other local museums think these types of events aren't that important, and budgets should be split purely based on recent visitors on an average day.\n",
        "\n",
        "Hint:\n",
        "\n",
        "- 1) Suppose that the local museum here contains the word 'LONDON'\n",
        "\n",
        "- 2) To show the museum board how the event compared to regular traffic at each museum, create a line chart that shows how the number of visitors to each museum evolved over time (until 2014).\n",
        "\n",
        "==================================================================================================="
      ]
    },
    {
      "cell_type": "code",
      "metadata": {
        "id": "Nwu0N-rmgedm",
        "colab_type": "code",
        "colab": {}
      },
      "source": [
        "# your code here"
      ],
      "execution_count": 0,
      "outputs": []
    },
    {
      "cell_type": "code",
      "metadata": {
        "id": "OdcsLYi4gedz",
        "colab_type": "code",
        "colab": {
          "base_uri": "https://localhost:8080/",
          "height": 204
        },
        "outputId": "cb286879-c49d-4721-94cd-e605e6f3d703"
      },
      "source": [
        "IWM_LONDON = data[data['museum'] == '(IWM) LONDON']\n",
        "IWM_LONDON.head()"
      ],
      "execution_count": 14,
      "outputs": [
        {
          "output_type": "execute_result",
          "data": {
            "text/html": [
              "<div>\n",
              "<style scoped>\n",
              "    .dataframe tbody tr th:only-of-type {\n",
              "        vertical-align: middle;\n",
              "    }\n",
              "\n",
              "    .dataframe tbody tr th {\n",
              "        vertical-align: top;\n",
              "    }\n",
              "\n",
              "    .dataframe thead th {\n",
              "        text-align: right;\n",
              "    }\n",
              "</style>\n",
              "<table border=\"1\" class=\"dataframe\">\n",
              "  <thead>\n",
              "    <tr style=\"text-align: right;\">\n",
              "      <th></th>\n",
              "      <th>museum</th>\n",
              "      <th>year</th>\n",
              "      <th>month</th>\n",
              "      <th>visits</th>\n",
              "    </tr>\n",
              "  </thead>\n",
              "  <tbody>\n",
              "    <tr>\n",
              "      <th>960</th>\n",
              "      <td>(IWM) LONDON</td>\n",
              "      <td>2004</td>\n",
              "      <td>4</td>\n",
              "      <td>14106</td>\n",
              "    </tr>\n",
              "    <tr>\n",
              "      <th>961</th>\n",
              "      <td>(IWM) LONDON</td>\n",
              "      <td>2004</td>\n",
              "      <td>5</td>\n",
              "      <td>11716</td>\n",
              "    </tr>\n",
              "    <tr>\n",
              "      <th>962</th>\n",
              "      <td>(IWM) LONDON</td>\n",
              "      <td>2004</td>\n",
              "      <td>6</td>\n",
              "      <td>12947</td>\n",
              "    </tr>\n",
              "    <tr>\n",
              "      <th>963</th>\n",
              "      <td>(IWM) LONDON</td>\n",
              "      <td>2004</td>\n",
              "      <td>7</td>\n",
              "      <td>13023</td>\n",
              "    </tr>\n",
              "    <tr>\n",
              "      <th>964</th>\n",
              "      <td>(IWM) LONDON</td>\n",
              "      <td>2004</td>\n",
              "      <td>8</td>\n",
              "      <td>13214</td>\n",
              "    </tr>\n",
              "  </tbody>\n",
              "</table>\n",
              "</div>"
            ],
            "text/plain": [
              "           museum  year  month  visits\n",
              "960  (IWM) LONDON  2004      4   14106\n",
              "961  (IWM) LONDON  2004      5   11716\n",
              "962  (IWM) LONDON  2004      6   12947\n",
              "963  (IWM) LONDON  2004      7   13023\n",
              "964  (IWM) LONDON  2004      8   13214"
            ]
          },
          "metadata": {
            "tags": []
          },
          "execution_count": 14
        }
      ]
    },
    {
      "cell_type": "code",
      "metadata": {
        "id": "jWcBndfDk-Ch",
        "colab_type": "code",
        "colab": {
          "base_uri": "https://localhost:8080/",
          "height": 561
        },
        "outputId": "2c6ff848-f279-414b-ca69-d46bfcb96efd"
      },
      "source": [
        "month_int_to_short = {1: \"Jan\",\n",
        "                       2: \"Feb\",\n",
        "                       3: \"Mar\",\n",
        "                       4: \"Apr\",\n",
        "                       5: \"May\",\n",
        "                       6: \"Jun\",\n",
        "                       7: \"Jul\",\n",
        "                       8: \"Aug\",\n",
        "                       9: \"Sep\",\n",
        "                       10: \"Oct\",\n",
        "                       11: \"Nov\",\n",
        "                       12: \"Dec\"\n",
        "                      }\n",
        "\n",
        "IWM_LONDON['month'] = IWM_LONDON['month'].map(month_int_to_short)\n",
        "IWM_LONDON['year'] = IWM_LONDON['year'].astype(str)\n",
        "IWM_LONDON['month'] = IWM_LONDON['month'].astype(str)\n",
        "\n",
        "IWM_LONDON['month_year'] = IWM_LONDON['month'] + \" - \" + IWM_LONDON['year']"
      ],
      "execution_count": 15,
      "outputs": [
        {
          "output_type": "stream",
          "text": [
            "/usr/local/lib/python3.6/dist-packages/ipykernel_launcher.py:15: SettingWithCopyWarning:\n",
            "\n",
            "\n",
            "A value is trying to be set on a copy of a slice from a DataFrame.\n",
            "Try using .loc[row_indexer,col_indexer] = value instead\n",
            "\n",
            "See the caveats in the documentation: http://pandas.pydata.org/pandas-docs/stable/user_guide/indexing.html#returning-a-view-versus-a-copy\n",
            "\n",
            "/usr/local/lib/python3.6/dist-packages/ipykernel_launcher.py:16: SettingWithCopyWarning:\n",
            "\n",
            "\n",
            "A value is trying to be set on a copy of a slice from a DataFrame.\n",
            "Try using .loc[row_indexer,col_indexer] = value instead\n",
            "\n",
            "See the caveats in the documentation: http://pandas.pydata.org/pandas-docs/stable/user_guide/indexing.html#returning-a-view-versus-a-copy\n",
            "\n",
            "/usr/local/lib/python3.6/dist-packages/ipykernel_launcher.py:17: SettingWithCopyWarning:\n",
            "\n",
            "\n",
            "A value is trying to be set on a copy of a slice from a DataFrame.\n",
            "Try using .loc[row_indexer,col_indexer] = value instead\n",
            "\n",
            "See the caveats in the documentation: http://pandas.pydata.org/pandas-docs/stable/user_guide/indexing.html#returning-a-view-versus-a-copy\n",
            "\n",
            "/usr/local/lib/python3.6/dist-packages/ipykernel_launcher.py:19: SettingWithCopyWarning:\n",
            "\n",
            "\n",
            "A value is trying to be set on a copy of a slice from a DataFrame.\n",
            "Try using .loc[row_indexer,col_indexer] = value instead\n",
            "\n",
            "See the caveats in the documentation: http://pandas.pydata.org/pandas-docs/stable/user_guide/indexing.html#returning-a-view-versus-a-copy\n",
            "\n"
          ],
          "name": "stderr"
        }
      ]
    },
    {
      "cell_type": "code",
      "metadata": {
        "id": "GU-kUA0Zk-kG",
        "colab_type": "code",
        "colab": {
          "base_uri": "https://localhost:8080/",
          "height": 542
        },
        "outputId": "afbcff95-1b31-41b9-ecd6-b21535e79826"
      },
      "source": [
        "px.line(IWM_LONDON, x=\"month_year\", y=\"visits\")"
      ],
      "execution_count": 16,
      "outputs": [
        {
          "output_type": "display_data",
          "data": {
            "text/html": [
              "<html>\n",
              "<head><meta charset=\"utf-8\" /></head>\n",
              "<body>\n",
              "    <div>\n",
              "            <script src=\"https://cdnjs.cloudflare.com/ajax/libs/mathjax/2.7.5/MathJax.js?config=TeX-AMS-MML_SVG\"></script><script type=\"text/javascript\">if (window.MathJax) {MathJax.Hub.Config({SVG: {font: \"STIX-Web\"}});}</script>\n",
              "                <script type=\"text/javascript\">window.PlotlyConfig = {MathJaxConfig: 'local'};</script>\n",
              "        <script src=\"https://cdn.plot.ly/plotly-latest.min.js\"></script>    \n",
              "            <div id=\"17836106-0620-44bc-b7ba-61518e181477\" class=\"plotly-graph-div\" style=\"height:525px; width:100%;\"></div>\n",
              "            <script type=\"text/javascript\">\n",
              "                \n",
              "                    window.PLOTLYENV=window.PLOTLYENV || {};\n",
              "                    \n",
              "                if (document.getElementById(\"17836106-0620-44bc-b7ba-61518e181477\")) {\n",
              "                    Plotly.newPlot(\n",
              "                        '17836106-0620-44bc-b7ba-61518e181477',\n",
              "                        [{\"hoverlabel\": {\"namelength\": 0}, \"hovertemplate\": \"month_year=%{x}<br>visits=%{y}\", \"legendgroup\": \"\", \"line\": {\"color\": \"#636efa\", \"dash\": \"solid\"}, \"mode\": \"lines\", \"name\": \"\", \"showlegend\": false, \"type\": \"scatter\", \"x\": [\"Apr - 2004\", \"May - 2004\", \"Jun - 2004\", \"Jul - 2004\", \"Aug - 2004\", \"Sep - 2004\", \"Oct - 2004\", \"Nov - 2004\", \"Dec - 2004\", \"Jan - 2005\", \"Feb - 2005\", \"Mar - 2005\", \"Apr - 2005\", \"May - 2005\", \"Jun - 2005\", \"Jul - 2005\", \"Aug - 2005\", \"Sep - 2005\", \"Oct - 2005\", \"Nov - 2005\", \"Dec - 2005\", \"Jan - 2006\", \"Feb - 2006\", \"Mar - 2006\", \"Apr - 2006\", \"May - 2006\", \"Jun - 2006\", \"Jul - 2006\", \"Aug - 2006\", \"Sep - 2006\", \"Oct - 2006\", \"Nov - 2006\", \"Dec - 2006\", \"Jan - 2007\", \"Feb - 2007\", \"Mar - 2007\", \"Apr - 2007\", \"May - 2007\", \"Jun - 2007\", \"Jul - 2007\", \"Aug - 2007\", \"Sep - 2007\", \"Oct - 2007\", \"Nov - 2007\", \"Dec - 2007\", \"Jan - 2008\", \"Feb - 2008\", \"Mar - 2008\", \"Apr - 2008\", \"May - 2008\", \"Jun - 2008\", \"Jul - 2008\", \"Aug - 2008\", \"Sep - 2008\", \"Oct - 2008\", \"Nov - 2008\", \"Dec - 2008\", \"Jan - 2009\", \"Feb - 2009\", \"Mar - 2009\", \"Apr - 2009\", \"May - 2009\", \"Jun - 2009\", \"Jul - 2009\", \"Aug - 2009\", \"Sep - 2009\", \"Oct - 2009\", \"Nov - 2009\", \"Dec - 2009\", \"Jan - 2010\", \"Feb - 2010\", \"Mar - 2010\", \"Apr - 2010\", \"May - 2010\", \"Jun - 2010\", \"Jul - 2010\", \"Aug - 2010\", \"Sep - 2010\", \"Oct - 2010\", \"Nov - 2010\", \"Dec - 2010\", \"Jan - 2011\", \"Feb - 2011\", \"Mar - 2011\", \"Apr - 2011\", \"May - 2011\", \"Jun - 2011\", \"Jul - 2011\", \"Aug - 2011\", \"Sep - 2011\", \"Oct - 2011\", \"Nov - 2011\", \"Dec - 2011\", \"Jan - 2012\", \"Feb - 2012\", \"Mar - 2012\", \"Apr - 2012\", \"May - 2012\", \"Jun - 2012\", \"Jul - 2012\", \"Aug - 2012\", \"Sep - 2012\", \"Oct - 2012\", \"Nov - 2012\", \"Dec - 2012\", \"Jan - 2013\", \"Feb - 2013\", \"Mar - 2013\", \"Apr - 2013\", \"May - 2013\", \"Jun - 2013\", \"Jul - 2013\", \"Aug - 2013\", \"Sep - 2013\", \"Oct - 2013\", \"Nov - 2013\", \"Dec - 2013\", \"Jan - 2014\", \"Feb - 2014\", \"Mar - 2014\", \"Apr - 2014\", \"May - 2014\", \"Jun - 2014\", \"Jul - 2014\", \"Aug - 2014\", \"Sep - 2014\", \"Oct - 2014\", \"Nov - 2014\", \"Dec - 2014\", \"Jan - 2015\", \"Feb - 2015\", \"Mar - 2015\", \"Apr - 2015\", \"May - 2015\", \"Jun - 2015\", \"Jul - 2015\", \"Aug - 2015\", \"Sep - 2015\", \"Oct - 2015\", \"Nov - 2015\", \"Dec - 2015\", \"Jan - 2016\", \"Feb - 2016\", \"Mar - 2016\", \"Apr - 2016\", \"May - 2016\", \"Jun - 2016\", \"Jul - 2016\", \"Aug - 2016\", \"Sep - 2016\", \"Oct - 2016\", \"Nov - 2016\", \"Dec - 2016\", \"Jan - 2017\", \"Feb - 2017\", \"Mar - 2017\", \"Apr - 2017\", \"May - 2017\", \"Jun - 2017\", \"Jul - 2017\", \"Aug - 2017\", \"Sep - 2017\", \"Oct - 2017\", \"Nov - 2017\", \"Dec - 2017\", \"Jan - 2018\", \"Feb - 2018\", \"Mar - 2018\", \"Apr - 2018\", \"May - 2018\", \"Jun - 2018\", \"Jul - 2018\", \"Aug - 2018\", \"Sep - 2018\", \"Oct - 2018\", \"Nov - 2018\", \"Dec - 2018\", \"Jan - 2019\", \"Feb - 2019\", \"Mar - 2019\", \"Apr - 2019\", \"May - 2019\", \"Jun - 2019\", \"Jul - 2019\", \"Aug - 2019\", \"Sep - 2019\", \"Oct - 2019\", \"Nov - 2019\", \"Dec - 2019\", \"Jan - 2020\", \"Feb - 2020\", \"Mar - 2020\"], \"xaxis\": \"x\", \"y\": [14106, 11716, 12947, 13023, 13214, 9718, 16001, 11291, 8750, 10218, 14398, 17589, 16828, 15777, 12299, 10218, 9609, 7859, 12686, 10131, 8419, 9534, 12781, 11961, 14470, 10986, 11214, 12873, 15332, 9862, 14001, 10916, 8539, 10046, 14000, 14216, 14038, 13744, 11609, 13104, 14086, 10045, 15093, 12436, 8470, 10048, 14078, 15158, 15320, 15364, 11534, 13639, 16148, 10872, 18789, 14779, 11062, 13273, 17906, 14428, 16345, 14450, 12187, 15902, 18339, 11895, 20313, 13156, 9251, 10494, 19201, 15768, 18286, 16007, 17426, 23080, 26008, 17316, 21727, 16281, 12272, 15782, 17985, 16914, 13634, 13141, 16374, 20610, 22181, 13114, 17933, 14464, 11695, 14464, 18596, 18255, 21332, 15671, 16462, 16411, 16445, 14072, 17091, 13252, 9522, 456, 39, 61, 54, 46, 35, 2367, 20803, 13111, 14163, 11798, 9238, 2277, 36, 42, 27, 20, 15, 20437, 51378, 27762, 36632, 26951, 17373, 18517, 19037, 19885, 20546, 21161, 18189, 21572, 22184, 15265, 19814, 14074, 10282, 12606, 16753, 18454, 18691, 16515, 16922, 20291, 20993, 15471, 19702, 14414, 11417, 13170, 16571, 18030, 20387, 16923, 14836, 19018, 20887, 14512, 18676, 14197, 11340, 13371, 17134, 18382, 20185, 16390, 15671, 18634, 21378, 14995, 23844, 20019, 12345, 14553, 16331, 18156, 19635, 17821, 17798, 0, 0, 0, 0, 0, 0, 0, 0, 0], \"yaxis\": \"y\"}],\n",
              "                        {\"legend\": {\"tracegroupgap\": 0}, \"margin\": {\"t\": 60}, \"template\": {\"data\": {\"bar\": [{\"error_x\": {\"color\": \"#2a3f5f\"}, \"error_y\": {\"color\": \"#2a3f5f\"}, \"marker\": {\"line\": {\"color\": \"#E5ECF6\", \"width\": 0.5}}, \"type\": \"bar\"}], \"barpolar\": [{\"marker\": {\"line\": {\"color\": \"#E5ECF6\", \"width\": 0.5}}, \"type\": \"barpolar\"}], \"carpet\": [{\"aaxis\": {\"endlinecolor\": \"#2a3f5f\", \"gridcolor\": \"white\", \"linecolor\": \"white\", \"minorgridcolor\": \"white\", \"startlinecolor\": \"#2a3f5f\"}, \"baxis\": {\"endlinecolor\": \"#2a3f5f\", \"gridcolor\": \"white\", \"linecolor\": \"white\", \"minorgridcolor\": \"white\", \"startlinecolor\": \"#2a3f5f\"}, \"type\": \"carpet\"}], \"choropleth\": [{\"colorbar\": {\"outlinewidth\": 0, \"ticks\": \"\"}, \"type\": \"choropleth\"}], \"contour\": [{\"colorbar\": {\"outlinewidth\": 0, \"ticks\": \"\"}, \"colorscale\": [[0.0, \"#0d0887\"], [0.1111111111111111, \"#46039f\"], [0.2222222222222222, \"#7201a8\"], [0.3333333333333333, \"#9c179e\"], [0.4444444444444444, \"#bd3786\"], [0.5555555555555556, \"#d8576b\"], [0.6666666666666666, \"#ed7953\"], [0.7777777777777778, \"#fb9f3a\"], [0.8888888888888888, \"#fdca26\"], [1.0, \"#f0f921\"]], \"type\": \"contour\"}], \"contourcarpet\": [{\"colorbar\": {\"outlinewidth\": 0, \"ticks\": \"\"}, \"type\": \"contourcarpet\"}], \"heatmap\": [{\"colorbar\": {\"outlinewidth\": 0, \"ticks\": \"\"}, \"colorscale\": [[0.0, \"#0d0887\"], [0.1111111111111111, \"#46039f\"], [0.2222222222222222, \"#7201a8\"], [0.3333333333333333, \"#9c179e\"], [0.4444444444444444, \"#bd3786\"], [0.5555555555555556, \"#d8576b\"], [0.6666666666666666, \"#ed7953\"], [0.7777777777777778, \"#fb9f3a\"], [0.8888888888888888, \"#fdca26\"], [1.0, \"#f0f921\"]], \"type\": \"heatmap\"}], \"heatmapgl\": [{\"colorbar\": {\"outlinewidth\": 0, \"ticks\": \"\"}, \"colorscale\": [[0.0, \"#0d0887\"], [0.1111111111111111, \"#46039f\"], [0.2222222222222222, \"#7201a8\"], [0.3333333333333333, \"#9c179e\"], [0.4444444444444444, \"#bd3786\"], [0.5555555555555556, \"#d8576b\"], [0.6666666666666666, \"#ed7953\"], [0.7777777777777778, \"#fb9f3a\"], [0.8888888888888888, \"#fdca26\"], [1.0, \"#f0f921\"]], \"type\": \"heatmapgl\"}], \"histogram\": [{\"marker\": {\"colorbar\": {\"outlinewidth\": 0, \"ticks\": \"\"}}, \"type\": \"histogram\"}], \"histogram2d\": [{\"colorbar\": {\"outlinewidth\": 0, \"ticks\": \"\"}, \"colorscale\": [[0.0, \"#0d0887\"], [0.1111111111111111, \"#46039f\"], [0.2222222222222222, \"#7201a8\"], [0.3333333333333333, \"#9c179e\"], [0.4444444444444444, \"#bd3786\"], [0.5555555555555556, \"#d8576b\"], [0.6666666666666666, \"#ed7953\"], [0.7777777777777778, \"#fb9f3a\"], [0.8888888888888888, \"#fdca26\"], [1.0, \"#f0f921\"]], \"type\": \"histogram2d\"}], \"histogram2dcontour\": [{\"colorbar\": {\"outlinewidth\": 0, \"ticks\": \"\"}, \"colorscale\": [[0.0, \"#0d0887\"], [0.1111111111111111, \"#46039f\"], [0.2222222222222222, \"#7201a8\"], [0.3333333333333333, \"#9c179e\"], [0.4444444444444444, \"#bd3786\"], [0.5555555555555556, \"#d8576b\"], [0.6666666666666666, \"#ed7953\"], [0.7777777777777778, \"#fb9f3a\"], [0.8888888888888888, \"#fdca26\"], [1.0, \"#f0f921\"]], \"type\": \"histogram2dcontour\"}], \"mesh3d\": [{\"colorbar\": {\"outlinewidth\": 0, \"ticks\": \"\"}, \"type\": \"mesh3d\"}], \"parcoords\": [{\"line\": {\"colorbar\": {\"outlinewidth\": 0, \"ticks\": \"\"}}, \"type\": \"parcoords\"}], \"pie\": [{\"automargin\": true, \"type\": \"pie\"}], \"scatter\": [{\"marker\": {\"colorbar\": {\"outlinewidth\": 0, \"ticks\": \"\"}}, \"type\": \"scatter\"}], \"scatter3d\": [{\"line\": {\"colorbar\": {\"outlinewidth\": 0, \"ticks\": \"\"}}, \"marker\": {\"colorbar\": {\"outlinewidth\": 0, \"ticks\": \"\"}}, \"type\": \"scatter3d\"}], \"scattercarpet\": [{\"marker\": {\"colorbar\": {\"outlinewidth\": 0, \"ticks\": \"\"}}, \"type\": \"scattercarpet\"}], \"scattergeo\": [{\"marker\": {\"colorbar\": {\"outlinewidth\": 0, \"ticks\": \"\"}}, \"type\": \"scattergeo\"}], \"scattergl\": [{\"marker\": {\"colorbar\": {\"outlinewidth\": 0, \"ticks\": \"\"}}, \"type\": \"scattergl\"}], \"scattermapbox\": [{\"marker\": {\"colorbar\": {\"outlinewidth\": 0, \"ticks\": \"\"}}, \"type\": \"scattermapbox\"}], \"scatterpolar\": [{\"marker\": {\"colorbar\": {\"outlinewidth\": 0, \"ticks\": \"\"}}, \"type\": \"scatterpolar\"}], \"scatterpolargl\": [{\"marker\": {\"colorbar\": {\"outlinewidth\": 0, \"ticks\": \"\"}}, \"type\": \"scatterpolargl\"}], \"scatterternary\": [{\"marker\": {\"colorbar\": {\"outlinewidth\": 0, \"ticks\": \"\"}}, \"type\": \"scatterternary\"}], \"surface\": [{\"colorbar\": {\"outlinewidth\": 0, \"ticks\": \"\"}, \"colorscale\": [[0.0, \"#0d0887\"], [0.1111111111111111, \"#46039f\"], [0.2222222222222222, \"#7201a8\"], [0.3333333333333333, \"#9c179e\"], [0.4444444444444444, \"#bd3786\"], [0.5555555555555556, \"#d8576b\"], [0.6666666666666666, \"#ed7953\"], [0.7777777777777778, \"#fb9f3a\"], [0.8888888888888888, \"#fdca26\"], [1.0, \"#f0f921\"]], \"type\": \"surface\"}], \"table\": [{\"cells\": {\"fill\": {\"color\": \"#EBF0F8\"}, \"line\": {\"color\": \"white\"}}, \"header\": {\"fill\": {\"color\": \"#C8D4E3\"}, \"line\": {\"color\": \"white\"}}, \"type\": \"table\"}]}, \"layout\": {\"annotationdefaults\": {\"arrowcolor\": \"#2a3f5f\", \"arrowhead\": 0, \"arrowwidth\": 1}, \"coloraxis\": {\"colorbar\": {\"outlinewidth\": 0, \"ticks\": \"\"}}, \"colorscale\": {\"diverging\": [[0, \"#8e0152\"], [0.1, \"#c51b7d\"], [0.2, \"#de77ae\"], [0.3, \"#f1b6da\"], [0.4, \"#fde0ef\"], [0.5, \"#f7f7f7\"], [0.6, \"#e6f5d0\"], [0.7, \"#b8e186\"], [0.8, \"#7fbc41\"], [0.9, \"#4d9221\"], [1, \"#276419\"]], \"sequential\": [[0.0, \"#0d0887\"], [0.1111111111111111, \"#46039f\"], [0.2222222222222222, \"#7201a8\"], [0.3333333333333333, \"#9c179e\"], [0.4444444444444444, \"#bd3786\"], [0.5555555555555556, \"#d8576b\"], [0.6666666666666666, \"#ed7953\"], [0.7777777777777778, \"#fb9f3a\"], [0.8888888888888888, \"#fdca26\"], [1.0, \"#f0f921\"]], \"sequentialminus\": [[0.0, \"#0d0887\"], [0.1111111111111111, \"#46039f\"], [0.2222222222222222, \"#7201a8\"], [0.3333333333333333, \"#9c179e\"], [0.4444444444444444, \"#bd3786\"], [0.5555555555555556, \"#d8576b\"], [0.6666666666666666, \"#ed7953\"], [0.7777777777777778, \"#fb9f3a\"], [0.8888888888888888, \"#fdca26\"], [1.0, \"#f0f921\"]]}, \"colorway\": [\"#636efa\", \"#EF553B\", \"#00cc96\", \"#ab63fa\", \"#FFA15A\", \"#19d3f3\", \"#FF6692\", \"#B6E880\", \"#FF97FF\", \"#FECB52\"], \"font\": {\"color\": \"#2a3f5f\"}, \"geo\": {\"bgcolor\": \"white\", \"lakecolor\": \"white\", \"landcolor\": \"#E5ECF6\", \"showlakes\": true, \"showland\": true, \"subunitcolor\": \"white\"}, \"hoverlabel\": {\"align\": \"left\"}, \"hovermode\": \"closest\", \"mapbox\": {\"style\": \"light\"}, \"paper_bgcolor\": \"white\", \"plot_bgcolor\": \"#E5ECF6\", \"polar\": {\"angularaxis\": {\"gridcolor\": \"white\", \"linecolor\": \"white\", \"ticks\": \"\"}, \"bgcolor\": \"#E5ECF6\", \"radialaxis\": {\"gridcolor\": \"white\", \"linecolor\": \"white\", \"ticks\": \"\"}}, \"scene\": {\"xaxis\": {\"backgroundcolor\": \"#E5ECF6\", \"gridcolor\": \"white\", \"gridwidth\": 2, \"linecolor\": \"white\", \"showbackground\": true, \"ticks\": \"\", \"zerolinecolor\": \"white\"}, \"yaxis\": {\"backgroundcolor\": \"#E5ECF6\", \"gridcolor\": \"white\", \"gridwidth\": 2, \"linecolor\": \"white\", \"showbackground\": true, \"ticks\": \"\", \"zerolinecolor\": \"white\"}, \"zaxis\": {\"backgroundcolor\": \"#E5ECF6\", \"gridcolor\": \"white\", \"gridwidth\": 2, \"linecolor\": \"white\", \"showbackground\": true, \"ticks\": \"\", \"zerolinecolor\": \"white\"}}, \"shapedefaults\": {\"line\": {\"color\": \"#2a3f5f\"}}, \"ternary\": {\"aaxis\": {\"gridcolor\": \"white\", \"linecolor\": \"white\", \"ticks\": \"\"}, \"baxis\": {\"gridcolor\": \"white\", \"linecolor\": \"white\", \"ticks\": \"\"}, \"bgcolor\": \"#E5ECF6\", \"caxis\": {\"gridcolor\": \"white\", \"linecolor\": \"white\", \"ticks\": \"\"}}, \"title\": {\"x\": 0.05}, \"xaxis\": {\"automargin\": true, \"gridcolor\": \"white\", \"linecolor\": \"white\", \"ticks\": \"\", \"title\": {\"standoff\": 15}, \"zerolinecolor\": \"white\", \"zerolinewidth\": 2}, \"yaxis\": {\"automargin\": true, \"gridcolor\": \"white\", \"linecolor\": \"white\", \"ticks\": \"\", \"title\": {\"standoff\": 15}, \"zerolinecolor\": \"white\", \"zerolinewidth\": 2}}}, \"xaxis\": {\"anchor\": \"y\", \"domain\": [0.0, 1.0], \"title\": {\"text\": \"month_year\"}}, \"yaxis\": {\"anchor\": \"x\", \"domain\": [0.0, 1.0], \"title\": {\"text\": \"visits\"}}},\n",
              "                        {\"responsive\": true}\n",
              "                    ).then(function(){\n",
              "                            \n",
              "var gd = document.getElementById('17836106-0620-44bc-b7ba-61518e181477');\n",
              "var x = new MutationObserver(function (mutations, observer) {{\n",
              "        var display = window.getComputedStyle(gd).display;\n",
              "        if (!display || display === 'none') {{\n",
              "            console.log([gd, 'removed!']);\n",
              "            Plotly.purge(gd);\n",
              "            observer.disconnect();\n",
              "        }}\n",
              "}});\n",
              "\n",
              "// Listen for the removal of the full notebook cells\n",
              "var notebookContainer = gd.closest('#notebook-container');\n",
              "if (notebookContainer) {{\n",
              "    x.observe(notebookContainer, {childList: true});\n",
              "}}\n",
              "\n",
              "// Listen for the clearing of the current output cell\n",
              "var outputEl = gd.closest('.output');\n",
              "if (outputEl) {{\n",
              "    x.observe(outputEl, {childList: true});\n",
              "}}\n",
              "\n",
              "                        })\n",
              "                };\n",
              "                \n",
              "            </script>\n",
              "        </div>\n",
              "</body>\n",
              "</html>"
            ]
          },
          "metadata": {
            "tags": []
          }
        }
      ]
    },
    {
      "cell_type": "code",
      "metadata": {
        "id": "HxSzVLACk97r",
        "colab_type": "code",
        "colab": {}
      },
      "source": [
        ""
      ],
      "execution_count": 0,
      "outputs": []
    },
    {
      "cell_type": "code",
      "metadata": {
        "id": "1lk-RJPZk92Y",
        "colab_type": "code",
        "colab": {}
      },
      "source": [
        ""
      ],
      "execution_count": 0,
      "outputs": []
    },
    {
      "cell_type": "code",
      "metadata": {
        "id": "T8xSYNOBk9yb",
        "colab_type": "code",
        "colab": {}
      },
      "source": [
        ""
      ],
      "execution_count": 0,
      "outputs": []
    },
    {
      "cell_type": "code",
      "metadata": {
        "id": "ujrcSGGtk9re",
        "colab_type": "code",
        "colab": {}
      },
      "source": [
        ""
      ],
      "execution_count": 0,
      "outputs": []
    },
    {
      "cell_type": "code",
      "metadata": {
        "id": "XWQuRjsZgeeB",
        "colab_type": "code",
        "colab": {}
      },
      "source": [
        ""
      ],
      "execution_count": 0,
      "outputs": []
    },
    {
      "cell_type": "code",
      "metadata": {
        "id": "XZuFIcENgeeL",
        "colab_type": "code",
        "colab": {}
      },
      "source": [
        ""
      ],
      "execution_count": 0,
      "outputs": []
    },
    {
      "cell_type": "markdown",
      "metadata": {
        "id": "m9QvrZCpgeeW",
        "colab_type": "text"
      },
      "source": [
        "===================================================================================================\n",
        "\n",
        "$\\textbf{Target 3.}$\n",
        "When meeting with the employees at _\"TATE ST IVES\"_, you hear that one major pain point is that the number of museum visitors varies greatly with the seasons, with low seasons (when the employees are perfectly staffed and happy) and also high seasons (when the employees are understaffed and stressed). You realize that if you can predict these high and low seasons, you can plan ahead to hire some additional seasonal employees to help out with the extra work.\n",
        "\n",
        "__Step 1.__ _Create a line chart that shows how the number of visitors to Avila Adobe has evolved over time_. \n",
        "\n",
        "\n",
        "__Step 2.__ _Does \"TATE ST IVES\" get more visitors:_ Using this information, when should the museum staff additional seasonal employees?\n",
        "\n",
        "==================================================================================================="
      ]
    },
    {
      "cell_type": "code",
      "metadata": {
        "id": "fQOq2PW2q75Y",
        "colab_type": "code",
        "colab": {
          "base_uri": "https://localhost:8080/",
          "height": 204
        },
        "outputId": "c9530d95-3558-4d6d-c3a5-d46dfb407429"
      },
      "source": [
        "TATE_ST_IVES = data[data['museum'] == 'TATE ST IVES']\n",
        "TATE_ST_IVES.head()"
      ],
      "execution_count": 17,
      "outputs": [
        {
          "output_type": "execute_result",
          "data": {
            "text/html": [
              "<div>\n",
              "<style scoped>\n",
              "    .dataframe tbody tr th:only-of-type {\n",
              "        vertical-align: middle;\n",
              "    }\n",
              "\n",
              "    .dataframe tbody tr th {\n",
              "        vertical-align: top;\n",
              "    }\n",
              "\n",
              "    .dataframe thead th {\n",
              "        text-align: right;\n",
              "    }\n",
              "</style>\n",
              "<table border=\"1\" class=\"dataframe\">\n",
              "  <thead>\n",
              "    <tr style=\"text-align: right;\">\n",
              "      <th></th>\n",
              "      <th>museum</th>\n",
              "      <th>year</th>\n",
              "      <th>month</th>\n",
              "      <th>visits</th>\n",
              "    </tr>\n",
              "  </thead>\n",
              "  <tbody>\n",
              "    <tr>\n",
              "      <th>6528</th>\n",
              "      <td>TATE ST IVES</td>\n",
              "      <td>2004</td>\n",
              "      <td>4</td>\n",
              "      <td>4711</td>\n",
              "    </tr>\n",
              "    <tr>\n",
              "      <th>6529</th>\n",
              "      <td>TATE ST IVES</td>\n",
              "      <td>2004</td>\n",
              "      <td>5</td>\n",
              "      <td>4056</td>\n",
              "    </tr>\n",
              "    <tr>\n",
              "      <th>6530</th>\n",
              "      <td>TATE ST IVES</td>\n",
              "      <td>2004</td>\n",
              "      <td>6</td>\n",
              "      <td>5273</td>\n",
              "    </tr>\n",
              "    <tr>\n",
              "      <th>6531</th>\n",
              "      <td>TATE ST IVES</td>\n",
              "      <td>2004</td>\n",
              "      <td>7</td>\n",
              "      <td>6717</td>\n",
              "    </tr>\n",
              "    <tr>\n",
              "      <th>6532</th>\n",
              "      <td>TATE ST IVES</td>\n",
              "      <td>2004</td>\n",
              "      <td>8</td>\n",
              "      <td>7676</td>\n",
              "    </tr>\n",
              "  </tbody>\n",
              "</table>\n",
              "</div>"
            ],
            "text/plain": [
              "            museum  year  month  visits\n",
              "6528  TATE ST IVES  2004      4    4711\n",
              "6529  TATE ST IVES  2004      5    4056\n",
              "6530  TATE ST IVES  2004      6    5273\n",
              "6531  TATE ST IVES  2004      7    6717\n",
              "6532  TATE ST IVES  2004      8    7676"
            ]
          },
          "metadata": {
            "tags": []
          },
          "execution_count": 17
        }
      ]
    },
    {
      "cell_type": "code",
      "metadata": {
        "id": "5EoWu7mYq9Oz",
        "colab_type": "code",
        "colab": {
          "base_uri": "https://localhost:8080/",
          "height": 561
        },
        "outputId": "bb70bda4-aa61-40ee-a2f2-ae5b4d736f1d"
      },
      "source": [
        "month_int_to_short = {1: \"Jan\",\n",
        "                       2: \"Feb\",\n",
        "                       3: \"Mar\",\n",
        "                       4: \"Apr\",\n",
        "                       5: \"May\",\n",
        "                       6: \"Jun\",\n",
        "                       7: \"Jul\",\n",
        "                       8: \"Aug\",\n",
        "                       9: \"Sep\",\n",
        "                       10: \"Oct\",\n",
        "                       11: \"Nov\",\n",
        "                       12: \"Dec\"\n",
        "                      }\n",
        "\n",
        "TATE_ST_IVES['month'] = TATE_ST_IVES['month'].map(month_int_to_short)\n",
        "TATE_ST_IVES['year'] = TATE_ST_IVES['year'].astype(str)\n",
        "TATE_ST_IVES['month'] = TATE_ST_IVES['month'].astype(str)\n",
        "\n",
        "TATE_ST_IVES['month_year'] = TATE_ST_IVES['month'] + \" - \" + TATE_ST_IVES['year']"
      ],
      "execution_count": 18,
      "outputs": [
        {
          "output_type": "stream",
          "text": [
            "/usr/local/lib/python3.6/dist-packages/ipykernel_launcher.py:15: SettingWithCopyWarning:\n",
            "\n",
            "\n",
            "A value is trying to be set on a copy of a slice from a DataFrame.\n",
            "Try using .loc[row_indexer,col_indexer] = value instead\n",
            "\n",
            "See the caveats in the documentation: http://pandas.pydata.org/pandas-docs/stable/user_guide/indexing.html#returning-a-view-versus-a-copy\n",
            "\n",
            "/usr/local/lib/python3.6/dist-packages/ipykernel_launcher.py:16: SettingWithCopyWarning:\n",
            "\n",
            "\n",
            "A value is trying to be set on a copy of a slice from a DataFrame.\n",
            "Try using .loc[row_indexer,col_indexer] = value instead\n",
            "\n",
            "See the caveats in the documentation: http://pandas.pydata.org/pandas-docs/stable/user_guide/indexing.html#returning-a-view-versus-a-copy\n",
            "\n",
            "/usr/local/lib/python3.6/dist-packages/ipykernel_launcher.py:17: SettingWithCopyWarning:\n",
            "\n",
            "\n",
            "A value is trying to be set on a copy of a slice from a DataFrame.\n",
            "Try using .loc[row_indexer,col_indexer] = value instead\n",
            "\n",
            "See the caveats in the documentation: http://pandas.pydata.org/pandas-docs/stable/user_guide/indexing.html#returning-a-view-versus-a-copy\n",
            "\n",
            "/usr/local/lib/python3.6/dist-packages/ipykernel_launcher.py:19: SettingWithCopyWarning:\n",
            "\n",
            "\n",
            "A value is trying to be set on a copy of a slice from a DataFrame.\n",
            "Try using .loc[row_indexer,col_indexer] = value instead\n",
            "\n",
            "See the caveats in the documentation: http://pandas.pydata.org/pandas-docs/stable/user_guide/indexing.html#returning-a-view-versus-a-copy\n",
            "\n"
          ],
          "name": "stderr"
        }
      ]
    },
    {
      "cell_type": "code",
      "metadata": {
        "id": "aA2rSftTq9Xn",
        "colab_type": "code",
        "colab": {
          "base_uri": "https://localhost:8080/",
          "height": 542
        },
        "outputId": "368b3ef0-9c79-4bb5-d6f4-fe4e1ccd66d3"
      },
      "source": [
        "px.line(TATE_ST_IVES, x=\"month_year\", y=\"visits\")"
      ],
      "execution_count": 19,
      "outputs": [
        {
          "output_type": "display_data",
          "data": {
            "text/html": [
              "<html>\n",
              "<head><meta charset=\"utf-8\" /></head>\n",
              "<body>\n",
              "    <div>\n",
              "            <script src=\"https://cdnjs.cloudflare.com/ajax/libs/mathjax/2.7.5/MathJax.js?config=TeX-AMS-MML_SVG\"></script><script type=\"text/javascript\">if (window.MathJax) {MathJax.Hub.Config({SVG: {font: \"STIX-Web\"}});}</script>\n",
              "                <script type=\"text/javascript\">window.PlotlyConfig = {MathJaxConfig: 'local'};</script>\n",
              "        <script src=\"https://cdn.plot.ly/plotly-latest.min.js\"></script>    \n",
              "            <div id=\"9beedb00-1a54-440f-a8b7-bf93130de8eb\" class=\"plotly-graph-div\" style=\"height:525px; width:100%;\"></div>\n",
              "            <script type=\"text/javascript\">\n",
              "                \n",
              "                    window.PLOTLYENV=window.PLOTLYENV || {};\n",
              "                    \n",
              "                if (document.getElementById(\"9beedb00-1a54-440f-a8b7-bf93130de8eb\")) {\n",
              "                    Plotly.newPlot(\n",
              "                        '9beedb00-1a54-440f-a8b7-bf93130de8eb',\n",
              "                        [{\"hoverlabel\": {\"namelength\": 0}, \"hovertemplate\": \"month_year=%{x}<br>visits=%{y}\", \"legendgroup\": \"\", \"line\": {\"color\": \"#636efa\", \"dash\": \"solid\"}, \"mode\": \"lines\", \"name\": \"\", \"showlegend\": false, \"type\": \"scatter\", \"x\": [\"Apr - 2004\", \"May - 2004\", \"Jun - 2004\", \"Jul - 2004\", \"Aug - 2004\", \"Sep - 2004\", \"Oct - 2004\", \"Nov - 2004\", \"Dec - 2004\", \"Jan - 2005\", \"Feb - 2005\", \"Mar - 2005\", \"Apr - 2005\", \"May - 2005\", \"Jun - 2005\", \"Jul - 2005\", \"Aug - 2005\", \"Sep - 2005\", \"Oct - 2005\", \"Nov - 2005\", \"Dec - 2005\", \"Jan - 2006\", \"Feb - 2006\", \"Mar - 2006\", \"Apr - 2006\", \"May - 2006\", \"Jun - 2006\", \"Jul - 2006\", \"Aug - 2006\", \"Sep - 2006\", \"Oct - 2006\", \"Nov - 2006\", \"Dec - 2006\", \"Jan - 2007\", \"Feb - 2007\", \"Mar - 2007\", \"Apr - 2007\", \"May - 2007\", \"Jun - 2007\", \"Jul - 2007\", \"Aug - 2007\", \"Sep - 2007\", \"Oct - 2007\", \"Nov - 2007\", \"Dec - 2007\", \"Jan - 2008\", \"Feb - 2008\", \"Mar - 2008\", \"Apr - 2008\", \"May - 2008\", \"Jun - 2008\", \"Jul - 2008\", \"Aug - 2008\", \"Sep - 2008\", \"Oct - 2008\", \"Nov - 2008\", \"Dec - 2008\", \"Jan - 2009\", \"Feb - 2009\", \"Mar - 2009\", \"Apr - 2009\", \"May - 2009\", \"Jun - 2009\", \"Jul - 2009\", \"Aug - 2009\", \"Sep - 2009\", \"Oct - 2009\", \"Nov - 2009\", \"Dec - 2009\", \"Jan - 2010\", \"Feb - 2010\", \"Mar - 2010\", \"Apr - 2010\", \"May - 2010\", \"Jun - 2010\", \"Jul - 2010\", \"Aug - 2010\", \"Sep - 2010\", \"Oct - 2010\", \"Nov - 2010\", \"Dec - 2010\", \"Jan - 2011\", \"Feb - 2011\", \"Mar - 2011\", \"Apr - 2011\", \"May - 2011\", \"Jun - 2011\", \"Jul - 2011\", \"Aug - 2011\", \"Sep - 2011\", \"Oct - 2011\", \"Nov - 2011\", \"Dec - 2011\", \"Jan - 2012\", \"Feb - 2012\", \"Mar - 2012\", \"Apr - 2012\", \"May - 2012\", \"Jun - 2012\", \"Jul - 2012\", \"Aug - 2012\", \"Sep - 2012\", \"Oct - 2012\", \"Nov - 2012\", \"Dec - 2012\", \"Jan - 2013\", \"Feb - 2013\", \"Mar - 2013\", \"Apr - 2013\", \"May - 2013\", \"Jun - 2013\", \"Jul - 2013\", \"Aug - 2013\", \"Sep - 2013\", \"Oct - 2013\", \"Nov - 2013\", \"Dec - 2013\", \"Jan - 2014\", \"Feb - 2014\", \"Mar - 2014\", \"Apr - 2014\", \"May - 2014\", \"Jun - 2014\", \"Jul - 2014\", \"Aug - 2014\", \"Sep - 2014\", \"Oct - 2014\", \"Nov - 2014\", \"Dec - 2014\", \"Jan - 2015\", \"Feb - 2015\", \"Mar - 2015\", \"Apr - 2015\", \"May - 2015\", \"Jun - 2015\", \"Jul - 2015\", \"Aug - 2015\", \"Sep - 2015\", \"Oct - 2015\", \"Nov - 2015\", \"Dec - 2015\", \"Jan - 2016\", \"Feb - 2016\", \"Mar - 2016\", \"Apr - 2016\", \"May - 2016\", \"Jun - 2016\", \"Jul - 2016\", \"Aug - 2016\", \"Sep - 2016\", \"Oct - 2016\", \"Nov - 2016\", \"Dec - 2016\", \"Jan - 2017\", \"Feb - 2017\", \"Mar - 2017\", \"Apr - 2017\", \"May - 2017\", \"Jun - 2017\", \"Jul - 2017\", \"Aug - 2017\", \"Sep - 2017\", \"Oct - 2017\", \"Nov - 2017\", \"Dec - 2017\", \"Jan - 2018\", \"Feb - 2018\", \"Mar - 2018\", \"Apr - 2018\", \"May - 2018\", \"Jun - 2018\", \"Jul - 2018\", \"Aug - 2018\", \"Sep - 2018\", \"Oct - 2018\", \"Nov - 2018\", \"Dec - 2018\", \"Jan - 2019\", \"Feb - 2019\", \"Mar - 2019\", \"Apr - 2019\", \"May - 2019\", \"Jun - 2019\", \"Jul - 2019\", \"Aug - 2019\", \"Sep - 2019\", \"Oct - 2019\", \"Nov - 2019\", \"Dec - 2019\", \"Jan - 2020\", \"Feb - 2020\", \"Mar - 2020\"], \"xaxis\": \"x\", \"y\": [4711, 4056, 5273, 6717, 7676, 5434, 4283, 1474, 1399, 1304, 2016, 3089, 3598, 3954, 4687, 6247, 7248, 5376, 4089, 1559, 1322, 1222, 2586, 2948, 5507, 4344, 4766, 5958, 8135, 5153, 4302, 1554, 1504, 1342, 2872, 2830, 4442, 4716, 5347, 6774, 8135, 5439, 4319, 1689, 1159, 1286, 2126, 3362, 3979, 3763, 4104, 6000, 6961, 4532, 3724, 1379, 943, 1009, 1864, 2478, 4498, 3888, 4161, 6429, 7442, 4605, 3631, 1539, 1289, 945, 1695, 3716, 3982, 3454, 4096, 5867, 7358, 4289, 3518, 1372, 1154, 1153, 1595, 1875, 3719, 3897, 4621, 6359, 7701, 4523, 3115, 1543, 1286, 787, 1629, 2065, 4132, 3393, 4823, 5722, 6533, 4213, 3249, 1574, 1083, 1154, 1972, 3065, 5017, 5392, 5368, 8396, 7072, 6198, 3996, 2561, 1741, 1787, 239, 371, 873, 3622, 5298, 7254, 8448, 5650, 4144, 2201, 1778, 1837, 2111, 2878, 4653, 4273, 4967, 6799, 7455, 5893, 1009, 262, 241, 212, 341, 618, 804, 1052, 1361, 1583, 1723, 1254, 833, 292, 203, 201, 321, 850, 5414, 4803, 5482, 6905, 7982, 1848, 6501, 2829, 2107, 1962, 3277, 3921, 6155, 5564, 5911, 7711, 9391, 7077, 4993, 2780, 1825, 2079, 2670, 3784, 5672, 5287, 5667, 0, 0, 0, 0, 0, 0, 0, 0, 0], \"yaxis\": \"y\"}],\n",
              "                        {\"legend\": {\"tracegroupgap\": 0}, \"margin\": {\"t\": 60}, \"template\": {\"data\": {\"bar\": [{\"error_x\": {\"color\": \"#2a3f5f\"}, \"error_y\": {\"color\": \"#2a3f5f\"}, \"marker\": {\"line\": {\"color\": \"#E5ECF6\", \"width\": 0.5}}, \"type\": \"bar\"}], \"barpolar\": [{\"marker\": {\"line\": {\"color\": \"#E5ECF6\", \"width\": 0.5}}, \"type\": \"barpolar\"}], \"carpet\": [{\"aaxis\": {\"endlinecolor\": \"#2a3f5f\", \"gridcolor\": \"white\", \"linecolor\": \"white\", \"minorgridcolor\": \"white\", \"startlinecolor\": \"#2a3f5f\"}, \"baxis\": {\"endlinecolor\": \"#2a3f5f\", \"gridcolor\": \"white\", \"linecolor\": \"white\", \"minorgridcolor\": \"white\", \"startlinecolor\": \"#2a3f5f\"}, \"type\": \"carpet\"}], \"choropleth\": [{\"colorbar\": {\"outlinewidth\": 0, \"ticks\": \"\"}, \"type\": \"choropleth\"}], \"contour\": [{\"colorbar\": {\"outlinewidth\": 0, \"ticks\": \"\"}, \"colorscale\": [[0.0, \"#0d0887\"], [0.1111111111111111, \"#46039f\"], [0.2222222222222222, \"#7201a8\"], [0.3333333333333333, \"#9c179e\"], [0.4444444444444444, \"#bd3786\"], [0.5555555555555556, \"#d8576b\"], [0.6666666666666666, \"#ed7953\"], [0.7777777777777778, \"#fb9f3a\"], [0.8888888888888888, \"#fdca26\"], [1.0, \"#f0f921\"]], \"type\": \"contour\"}], \"contourcarpet\": [{\"colorbar\": {\"outlinewidth\": 0, \"ticks\": \"\"}, \"type\": \"contourcarpet\"}], \"heatmap\": [{\"colorbar\": {\"outlinewidth\": 0, \"ticks\": \"\"}, \"colorscale\": [[0.0, \"#0d0887\"], [0.1111111111111111, \"#46039f\"], [0.2222222222222222, \"#7201a8\"], [0.3333333333333333, \"#9c179e\"], [0.4444444444444444, \"#bd3786\"], [0.5555555555555556, \"#d8576b\"], [0.6666666666666666, \"#ed7953\"], [0.7777777777777778, \"#fb9f3a\"], [0.8888888888888888, \"#fdca26\"], [1.0, \"#f0f921\"]], \"type\": \"heatmap\"}], \"heatmapgl\": [{\"colorbar\": {\"outlinewidth\": 0, \"ticks\": \"\"}, \"colorscale\": [[0.0, \"#0d0887\"], [0.1111111111111111, \"#46039f\"], [0.2222222222222222, \"#7201a8\"], [0.3333333333333333, \"#9c179e\"], [0.4444444444444444, \"#bd3786\"], [0.5555555555555556, \"#d8576b\"], [0.6666666666666666, \"#ed7953\"], [0.7777777777777778, \"#fb9f3a\"], [0.8888888888888888, \"#fdca26\"], [1.0, \"#f0f921\"]], \"type\": \"heatmapgl\"}], \"histogram\": [{\"marker\": {\"colorbar\": {\"outlinewidth\": 0, \"ticks\": \"\"}}, \"type\": \"histogram\"}], \"histogram2d\": [{\"colorbar\": {\"outlinewidth\": 0, \"ticks\": \"\"}, \"colorscale\": [[0.0, \"#0d0887\"], [0.1111111111111111, \"#46039f\"], [0.2222222222222222, \"#7201a8\"], [0.3333333333333333, \"#9c179e\"], [0.4444444444444444, \"#bd3786\"], [0.5555555555555556, \"#d8576b\"], [0.6666666666666666, \"#ed7953\"], [0.7777777777777778, \"#fb9f3a\"], [0.8888888888888888, \"#fdca26\"], [1.0, \"#f0f921\"]], \"type\": \"histogram2d\"}], \"histogram2dcontour\": [{\"colorbar\": {\"outlinewidth\": 0, \"ticks\": \"\"}, \"colorscale\": [[0.0, \"#0d0887\"], [0.1111111111111111, \"#46039f\"], [0.2222222222222222, \"#7201a8\"], [0.3333333333333333, \"#9c179e\"], [0.4444444444444444, \"#bd3786\"], [0.5555555555555556, \"#d8576b\"], [0.6666666666666666, \"#ed7953\"], [0.7777777777777778, \"#fb9f3a\"], [0.8888888888888888, \"#fdca26\"], [1.0, \"#f0f921\"]], \"type\": \"histogram2dcontour\"}], \"mesh3d\": [{\"colorbar\": {\"outlinewidth\": 0, \"ticks\": \"\"}, \"type\": \"mesh3d\"}], \"parcoords\": [{\"line\": {\"colorbar\": {\"outlinewidth\": 0, \"ticks\": \"\"}}, \"type\": \"parcoords\"}], \"pie\": [{\"automargin\": true, \"type\": \"pie\"}], \"scatter\": [{\"marker\": {\"colorbar\": {\"outlinewidth\": 0, \"ticks\": \"\"}}, \"type\": \"scatter\"}], \"scatter3d\": [{\"line\": {\"colorbar\": {\"outlinewidth\": 0, \"ticks\": \"\"}}, \"marker\": {\"colorbar\": {\"outlinewidth\": 0, \"ticks\": \"\"}}, \"type\": \"scatter3d\"}], \"scattercarpet\": [{\"marker\": {\"colorbar\": {\"outlinewidth\": 0, \"ticks\": \"\"}}, \"type\": \"scattercarpet\"}], \"scattergeo\": [{\"marker\": {\"colorbar\": {\"outlinewidth\": 0, \"ticks\": \"\"}}, \"type\": \"scattergeo\"}], \"scattergl\": [{\"marker\": {\"colorbar\": {\"outlinewidth\": 0, \"ticks\": \"\"}}, \"type\": \"scattergl\"}], \"scattermapbox\": [{\"marker\": {\"colorbar\": {\"outlinewidth\": 0, \"ticks\": \"\"}}, \"type\": \"scattermapbox\"}], \"scatterpolar\": [{\"marker\": {\"colorbar\": {\"outlinewidth\": 0, \"ticks\": \"\"}}, \"type\": \"scatterpolar\"}], \"scatterpolargl\": [{\"marker\": {\"colorbar\": {\"outlinewidth\": 0, \"ticks\": \"\"}}, \"type\": \"scatterpolargl\"}], \"scatterternary\": [{\"marker\": {\"colorbar\": {\"outlinewidth\": 0, \"ticks\": \"\"}}, \"type\": \"scatterternary\"}], \"surface\": [{\"colorbar\": {\"outlinewidth\": 0, \"ticks\": \"\"}, \"colorscale\": [[0.0, \"#0d0887\"], [0.1111111111111111, \"#46039f\"], [0.2222222222222222, \"#7201a8\"], [0.3333333333333333, \"#9c179e\"], [0.4444444444444444, \"#bd3786\"], [0.5555555555555556, \"#d8576b\"], [0.6666666666666666, \"#ed7953\"], [0.7777777777777778, \"#fb9f3a\"], [0.8888888888888888, \"#fdca26\"], [1.0, \"#f0f921\"]], \"type\": \"surface\"}], \"table\": [{\"cells\": {\"fill\": {\"color\": \"#EBF0F8\"}, \"line\": {\"color\": \"white\"}}, \"header\": {\"fill\": {\"color\": \"#C8D4E3\"}, \"line\": {\"color\": \"white\"}}, \"type\": \"table\"}]}, \"layout\": {\"annotationdefaults\": {\"arrowcolor\": \"#2a3f5f\", \"arrowhead\": 0, \"arrowwidth\": 1}, \"coloraxis\": {\"colorbar\": {\"outlinewidth\": 0, \"ticks\": \"\"}}, \"colorscale\": {\"diverging\": [[0, \"#8e0152\"], [0.1, \"#c51b7d\"], [0.2, \"#de77ae\"], [0.3, \"#f1b6da\"], [0.4, \"#fde0ef\"], [0.5, \"#f7f7f7\"], [0.6, \"#e6f5d0\"], [0.7, \"#b8e186\"], [0.8, \"#7fbc41\"], [0.9, \"#4d9221\"], [1, \"#276419\"]], \"sequential\": [[0.0, \"#0d0887\"], [0.1111111111111111, \"#46039f\"], [0.2222222222222222, \"#7201a8\"], [0.3333333333333333, \"#9c179e\"], [0.4444444444444444, \"#bd3786\"], [0.5555555555555556, \"#d8576b\"], [0.6666666666666666, \"#ed7953\"], [0.7777777777777778, \"#fb9f3a\"], [0.8888888888888888, \"#fdca26\"], [1.0, \"#f0f921\"]], \"sequentialminus\": [[0.0, \"#0d0887\"], [0.1111111111111111, \"#46039f\"], [0.2222222222222222, \"#7201a8\"], [0.3333333333333333, \"#9c179e\"], [0.4444444444444444, \"#bd3786\"], [0.5555555555555556, \"#d8576b\"], [0.6666666666666666, \"#ed7953\"], [0.7777777777777778, \"#fb9f3a\"], [0.8888888888888888, \"#fdca26\"], [1.0, \"#f0f921\"]]}, \"colorway\": [\"#636efa\", \"#EF553B\", \"#00cc96\", \"#ab63fa\", \"#FFA15A\", \"#19d3f3\", \"#FF6692\", \"#B6E880\", \"#FF97FF\", \"#FECB52\"], \"font\": {\"color\": \"#2a3f5f\"}, \"geo\": {\"bgcolor\": \"white\", \"lakecolor\": \"white\", \"landcolor\": \"#E5ECF6\", \"showlakes\": true, \"showland\": true, \"subunitcolor\": \"white\"}, \"hoverlabel\": {\"align\": \"left\"}, \"hovermode\": \"closest\", \"mapbox\": {\"style\": \"light\"}, \"paper_bgcolor\": \"white\", \"plot_bgcolor\": \"#E5ECF6\", \"polar\": {\"angularaxis\": {\"gridcolor\": \"white\", \"linecolor\": \"white\", \"ticks\": \"\"}, \"bgcolor\": \"#E5ECF6\", \"radialaxis\": {\"gridcolor\": \"white\", \"linecolor\": \"white\", \"ticks\": \"\"}}, \"scene\": {\"xaxis\": {\"backgroundcolor\": \"#E5ECF6\", \"gridcolor\": \"white\", \"gridwidth\": 2, \"linecolor\": \"white\", \"showbackground\": true, \"ticks\": \"\", \"zerolinecolor\": \"white\"}, \"yaxis\": {\"backgroundcolor\": \"#E5ECF6\", \"gridcolor\": \"white\", \"gridwidth\": 2, \"linecolor\": \"white\", \"showbackground\": true, \"ticks\": \"\", \"zerolinecolor\": \"white\"}, \"zaxis\": {\"backgroundcolor\": \"#E5ECF6\", \"gridcolor\": \"white\", \"gridwidth\": 2, \"linecolor\": \"white\", \"showbackground\": true, \"ticks\": \"\", \"zerolinecolor\": \"white\"}}, \"shapedefaults\": {\"line\": {\"color\": \"#2a3f5f\"}}, \"ternary\": {\"aaxis\": {\"gridcolor\": \"white\", \"linecolor\": \"white\", \"ticks\": \"\"}, \"baxis\": {\"gridcolor\": \"white\", \"linecolor\": \"white\", \"ticks\": \"\"}, \"bgcolor\": \"#E5ECF6\", \"caxis\": {\"gridcolor\": \"white\", \"linecolor\": \"white\", \"ticks\": \"\"}}, \"title\": {\"x\": 0.05}, \"xaxis\": {\"automargin\": true, \"gridcolor\": \"white\", \"linecolor\": \"white\", \"ticks\": \"\", \"title\": {\"standoff\": 15}, \"zerolinecolor\": \"white\", \"zerolinewidth\": 2}, \"yaxis\": {\"automargin\": true, \"gridcolor\": \"white\", \"linecolor\": \"white\", \"ticks\": \"\", \"title\": {\"standoff\": 15}, \"zerolinecolor\": \"white\", \"zerolinewidth\": 2}}}, \"xaxis\": {\"anchor\": \"y\", \"domain\": [0.0, 1.0], \"title\": {\"text\": \"month_year\"}}, \"yaxis\": {\"anchor\": \"x\", \"domain\": [0.0, 1.0], \"title\": {\"text\": \"visits\"}}},\n",
              "                        {\"responsive\": true}\n",
              "                    ).then(function(){\n",
              "                            \n",
              "var gd = document.getElementById('9beedb00-1a54-440f-a8b7-bf93130de8eb');\n",
              "var x = new MutationObserver(function (mutations, observer) {{\n",
              "        var display = window.getComputedStyle(gd).display;\n",
              "        if (!display || display === 'none') {{\n",
              "            console.log([gd, 'removed!']);\n",
              "            Plotly.purge(gd);\n",
              "            observer.disconnect();\n",
              "        }}\n",
              "}});\n",
              "\n",
              "// Listen for the removal of the full notebook cells\n",
              "var notebookContainer = gd.closest('#notebook-container');\n",
              "if (notebookContainer) {{\n",
              "    x.observe(notebookContainer, {childList: true});\n",
              "}}\n",
              "\n",
              "// Listen for the clearing of the current output cell\n",
              "var outputEl = gd.closest('.output');\n",
              "if (outputEl) {{\n",
              "    x.observe(outputEl, {childList: true});\n",
              "}}\n",
              "\n",
              "                        })\n",
              "                };\n",
              "                \n",
              "            </script>\n",
              "        </div>\n",
              "</body>\n",
              "</html>"
            ]
          },
          "metadata": {
            "tags": []
          }
        }
      ]
    },
    {
      "cell_type": "code",
      "metadata": {
        "id": "dmnVZ7-9q9KD",
        "colab_type": "code",
        "colab": {}
      },
      "source": [
        ""
      ],
      "execution_count": 0,
      "outputs": []
    },
    {
      "cell_type": "code",
      "metadata": {
        "id": "p2D42vfiq9Cr",
        "colab_type": "code",
        "colab": {}
      },
      "source": [
        ""
      ],
      "execution_count": 0,
      "outputs": []
    },
    {
      "cell_type": "code",
      "metadata": {
        "id": "NQybGcaeq89N",
        "colab_type": "code",
        "colab": {}
      },
      "source": [
        ""
      ],
      "execution_count": 0,
      "outputs": []
    },
    {
      "cell_type": "code",
      "metadata": {
        "id": "E2vtCAm3q83B",
        "colab_type": "code",
        "colab": {}
      },
      "source": [
        ""
      ],
      "execution_count": 0,
      "outputs": []
    },
    {
      "cell_type": "code",
      "metadata": {
        "id": "8J6nI7Gsq8ys",
        "colab_type": "code",
        "colab": {}
      },
      "source": [
        ""
      ],
      "execution_count": 0,
      "outputs": []
    },
    {
      "cell_type": "markdown",
      "metadata": {
        "id": "0-x7b8FSgeeZ",
        "colab_type": "text"
      },
      "source": [
        "===================================================================================================\n",
        "\n",
        "# Topic 2.  Bar Charts\n",
        "\n",
        "===================================================================================================\n",
        "\n",
        "### Scenario\n",
        "\n",
        "You've recently decided to create your very own video game!  As an avid reader of [IGN Game Reviews](https://www.ign.com/reviews/games), you hear about all of the most recent game releases, along with the ranking they've received from experts, ranging from 0 (_Disaster_) to 10 (_Masterpiece_).\n",
        "\n",
        "===================================================================================================\n",
        "#### Viewing dataset"
      ]
    },
    {
      "cell_type": "markdown",
      "metadata": {
        "id": "MvavDJmjgeec",
        "colab_type": "text"
      },
      "source": [
        "===================================================================================================\n",
        "\n",
        "$\\textbf{Target 1.}$ _Answers these following questions :_\n",
        "\n",
        "- 1) Using ign_scores.csv for this target\n",
        "\n",
        "- 1) What is the highest average score received by PC games?\n",
        "\n",
        "- 2) On the \"PlayStation Vita\" platform, which genre has the lowest average score?\n",
        "\n",
        "==================================================================================================="
      ]
    },
    {
      "cell_type": "code",
      "metadata": {
        "id": "MDje0IhhHoir",
        "colab_type": "code",
        "colab": {
          "base_uri": "https://localhost:8080/",
          "height": 204
        },
        "outputId": "e1e5cf1b-83fe-44b7-de44-157b6d034c4c"
      },
      "source": [
        "data = pd.read_csv('https://raw.githubusercontent.com/hothienlac/CS441/master/Assignment%201/dataset/ign_scores.csv')\n",
        "data.head()"
      ],
      "execution_count": 20,
      "outputs": [
        {
          "output_type": "execute_result",
          "data": {
            "text/html": [
              "<div>\n",
              "<style scoped>\n",
              "    .dataframe tbody tr th:only-of-type {\n",
              "        vertical-align: middle;\n",
              "    }\n",
              "\n",
              "    .dataframe tbody tr th {\n",
              "        vertical-align: top;\n",
              "    }\n",
              "\n",
              "    .dataframe thead th {\n",
              "        text-align: right;\n",
              "    }\n",
              "</style>\n",
              "<table border=\"1\" class=\"dataframe\">\n",
              "  <thead>\n",
              "    <tr style=\"text-align: right;\">\n",
              "      <th></th>\n",
              "      <th>Platform</th>\n",
              "      <th>Action</th>\n",
              "      <th>Action, Adventure</th>\n",
              "      <th>Adventure</th>\n",
              "      <th>Fighting</th>\n",
              "      <th>Platformer</th>\n",
              "      <th>Puzzle</th>\n",
              "      <th>RPG</th>\n",
              "      <th>Racing</th>\n",
              "      <th>Shooter</th>\n",
              "      <th>Simulation</th>\n",
              "      <th>Sports</th>\n",
              "      <th>Strategy</th>\n",
              "    </tr>\n",
              "  </thead>\n",
              "  <tbody>\n",
              "    <tr>\n",
              "      <th>0</th>\n",
              "      <td>Dreamcast</td>\n",
              "      <td>6.882857</td>\n",
              "      <td>7.511111</td>\n",
              "      <td>6.281818</td>\n",
              "      <td>8.200000</td>\n",
              "      <td>8.340000</td>\n",
              "      <td>8.088889</td>\n",
              "      <td>7.700000</td>\n",
              "      <td>7.042500</td>\n",
              "      <td>7.616667</td>\n",
              "      <td>7.628571</td>\n",
              "      <td>7.272222</td>\n",
              "      <td>6.433333</td>\n",
              "    </tr>\n",
              "    <tr>\n",
              "      <th>1</th>\n",
              "      <td>Game Boy Advance</td>\n",
              "      <td>6.373077</td>\n",
              "      <td>7.507692</td>\n",
              "      <td>6.057143</td>\n",
              "      <td>6.226316</td>\n",
              "      <td>6.970588</td>\n",
              "      <td>6.532143</td>\n",
              "      <td>7.542857</td>\n",
              "      <td>6.657143</td>\n",
              "      <td>6.444444</td>\n",
              "      <td>6.928571</td>\n",
              "      <td>6.694444</td>\n",
              "      <td>7.175000</td>\n",
              "    </tr>\n",
              "    <tr>\n",
              "      <th>2</th>\n",
              "      <td>Game Boy Color</td>\n",
              "      <td>6.272727</td>\n",
              "      <td>8.166667</td>\n",
              "      <td>5.307692</td>\n",
              "      <td>4.500000</td>\n",
              "      <td>6.352941</td>\n",
              "      <td>6.583333</td>\n",
              "      <td>7.285714</td>\n",
              "      <td>5.897436</td>\n",
              "      <td>4.500000</td>\n",
              "      <td>5.900000</td>\n",
              "      <td>5.790698</td>\n",
              "      <td>7.400000</td>\n",
              "    </tr>\n",
              "    <tr>\n",
              "      <th>3</th>\n",
              "      <td>GameCube</td>\n",
              "      <td>6.532584</td>\n",
              "      <td>7.608333</td>\n",
              "      <td>6.753846</td>\n",
              "      <td>7.422222</td>\n",
              "      <td>6.665714</td>\n",
              "      <td>6.133333</td>\n",
              "      <td>7.890909</td>\n",
              "      <td>6.852632</td>\n",
              "      <td>6.981818</td>\n",
              "      <td>8.028571</td>\n",
              "      <td>7.481319</td>\n",
              "      <td>7.116667</td>\n",
              "    </tr>\n",
              "    <tr>\n",
              "      <th>4</th>\n",
              "      <td>Nintendo 3DS</td>\n",
              "      <td>6.670833</td>\n",
              "      <td>7.481818</td>\n",
              "      <td>7.414286</td>\n",
              "      <td>6.614286</td>\n",
              "      <td>7.503448</td>\n",
              "      <td>8.000000</td>\n",
              "      <td>7.719231</td>\n",
              "      <td>6.900000</td>\n",
              "      <td>7.033333</td>\n",
              "      <td>7.700000</td>\n",
              "      <td>6.388889</td>\n",
              "      <td>7.900000</td>\n",
              "    </tr>\n",
              "  </tbody>\n",
              "</table>\n",
              "</div>"
            ],
            "text/plain": [
              "           Platform    Action  ...    Sports  Strategy\n",
              "0         Dreamcast  6.882857  ...  7.272222  6.433333\n",
              "1  Game Boy Advance  6.373077  ...  6.694444  7.175000\n",
              "2    Game Boy Color  6.272727  ...  5.790698  7.400000\n",
              "3          GameCube  6.532584  ...  7.481319  7.116667\n",
              "4      Nintendo 3DS  6.670833  ...  6.388889  7.900000\n",
              "\n",
              "[5 rows x 13 columns]"
            ]
          },
          "metadata": {
            "tags": []
          },
          "execution_count": 20
        }
      ]
    },
    {
      "cell_type": "code",
      "metadata": {
        "id": "ZAmfO4nGHpoh",
        "colab_type": "code",
        "colab": {
          "base_uri": "https://localhost:8080/",
          "height": 421
        },
        "outputId": "e6ecfa6b-63d4-432b-8097-9aa1e10d2b97"
      },
      "source": [
        "PC_game = data[data['Platform'] == 'PC'].drop('Platform', axis=1).transpose()\n",
        "PC_game.rename(columns={PC_game.columns[0]: 'Score'}).sort_values('Score')"
      ],
      "execution_count": 23,
      "outputs": [
        {
          "output_type": "execute_result",
          "data": {
            "text/html": [
              "<div>\n",
              "<style scoped>\n",
              "    .dataframe tbody tr th:only-of-type {\n",
              "        vertical-align: middle;\n",
              "    }\n",
              "\n",
              "    .dataframe tbody tr th {\n",
              "        vertical-align: top;\n",
              "    }\n",
              "\n",
              "    .dataframe thead th {\n",
              "        text-align: right;\n",
              "    }\n",
              "</style>\n",
              "<table border=\"1\" class=\"dataframe\">\n",
              "  <thead>\n",
              "    <tr style=\"text-align: right;\">\n",
              "      <th></th>\n",
              "      <th>Score</th>\n",
              "    </tr>\n",
              "  </thead>\n",
              "  <tbody>\n",
              "    <tr>\n",
              "      <th>Action</th>\n",
              "      <td>6.805791</td>\n",
              "    </tr>\n",
              "    <tr>\n",
              "      <th>Sports</th>\n",
              "      <td>6.902424</td>\n",
              "    </tr>\n",
              "    <tr>\n",
              "      <th>Puzzle</th>\n",
              "      <td>6.924706</td>\n",
              "    </tr>\n",
              "    <tr>\n",
              "      <th>Racing</th>\n",
              "      <td>7.032418</td>\n",
              "    </tr>\n",
              "    <tr>\n",
              "      <th>Shooter</th>\n",
              "      <td>7.084878</td>\n",
              "    </tr>\n",
              "    <tr>\n",
              "      <th>Simulation</th>\n",
              "      <td>7.104889</td>\n",
              "    </tr>\n",
              "    <tr>\n",
              "      <th>Adventure</th>\n",
              "      <td>7.136798</td>\n",
              "    </tr>\n",
              "    <tr>\n",
              "      <th>Fighting</th>\n",
              "      <td>7.166667</td>\n",
              "    </tr>\n",
              "    <tr>\n",
              "      <th>Strategy</th>\n",
              "      <td>7.310207</td>\n",
              "    </tr>\n",
              "    <tr>\n",
              "      <th>Action, Adventure</th>\n",
              "      <td>7.334746</td>\n",
              "    </tr>\n",
              "    <tr>\n",
              "      <th>Platformer</th>\n",
              "      <td>7.410938</td>\n",
              "    </tr>\n",
              "    <tr>\n",
              "      <th>RPG</th>\n",
              "      <td>7.759930</td>\n",
              "    </tr>\n",
              "  </tbody>\n",
              "</table>\n",
              "</div>"
            ],
            "text/plain": [
              "                      Score\n",
              "Action             6.805791\n",
              "Sports             6.902424\n",
              "Puzzle             6.924706\n",
              "Racing             7.032418\n",
              "Shooter            7.084878\n",
              "Simulation         7.104889\n",
              "Adventure          7.136798\n",
              "Fighting           7.166667\n",
              "Strategy           7.310207\n",
              "Action, Adventure  7.334746\n",
              "Platformer         7.410938\n",
              "RPG                7.759930"
            ]
          },
          "metadata": {
            "tags": []
          },
          "execution_count": 23
        }
      ]
    },
    {
      "cell_type": "code",
      "metadata": {
        "id": "rXIX2aJWL6st",
        "colab_type": "code",
        "colab": {
          "base_uri": "https://localhost:8080/",
          "height": 323
        },
        "outputId": "90908015-5e60-4e4e-95a4-bcaa131c5526"
      },
      "source": [
        "# PlayStation_Vita = data[data['Platform'] == 'PlayStation Vita'].drop('Platform', axis=1).transpose().rename(columns={PlayStation_Vita.columns[0]: 'Score'})\n",
        "# PlayStation_Vita.sort_values('Score')\n",
        "data.info()"
      ],
      "execution_count": 24,
      "outputs": [
        {
          "output_type": "stream",
          "text": [
            "<class 'pandas.core.frame.DataFrame'>\n",
            "RangeIndex: 21 entries, 0 to 20\n",
            "Data columns (total 13 columns):\n",
            "Platform             21 non-null object\n",
            "Action               21 non-null float64\n",
            "Action, Adventure    21 non-null float64\n",
            "Adventure            21 non-null float64\n",
            "Fighting             21 non-null float64\n",
            "Platformer           21 non-null float64\n",
            "Puzzle               21 non-null float64\n",
            "RPG                  21 non-null float64\n",
            "Racing               21 non-null float64\n",
            "Shooter              21 non-null float64\n",
            "Simulation           21 non-null float64\n",
            "Sports               21 non-null float64\n",
            "Strategy             21 non-null float64\n",
            "dtypes: float64(12), object(1)\n",
            "memory usage: 2.3+ KB\n"
          ],
          "name": "stdout"
        }
      ]
    },
    {
      "cell_type": "code",
      "metadata": {
        "id": "LLCUo8KhL6mA",
        "colab_type": "code",
        "colab": {}
      },
      "source": [
        ""
      ],
      "execution_count": 0,
      "outputs": []
    },
    {
      "cell_type": "code",
      "metadata": {
        "id": "DcoLpvQAL6dv",
        "colab_type": "code",
        "colab": {}
      },
      "source": [
        ""
      ],
      "execution_count": 0,
      "outputs": []
    },
    {
      "cell_type": "code",
      "metadata": {
        "id": "vd2tN78CLrO4",
        "colab_type": "code",
        "colab": {}
      },
      "source": [
        ""
      ],
      "execution_count": 0,
      "outputs": []
    },
    {
      "cell_type": "markdown",
      "metadata": {
        "id": "HlcJuHijgeeg",
        "colab_type": "text"
      },
      "source": [
        "===================================================================================================\n",
        "\n",
        "$\\textbf{Target 2.}$ Since you can remember, your favorite video game has been [**Mario Kart Wii**](https://www.ign.com/games/mario-kart-wii), a racing game released for the Wii platform in 2008.  And, IGN agrees with you that it is a great game -- their rating for this game is a whopping 8.9!  Inspired by the success of this game, you're considering creating your very own racing game for the Wii platform.\n",
        "#### Step 1.\n",
        "Create a bar chart that shows the average score for **racing** games, for each platform.  Your chart should have one bar for each platform.\n",
        "\n",
        "#### Step 2.\n",
        "Based on the bar chart, do you expect a __racing__ game for the **Wii** platform to receive a high rating?  If not, what gaming platform seems to be the best alternative?\n",
        "\n",
        "===================================================================================================\n"
      ]
    },
    {
      "cell_type": "code",
      "metadata": {
        "id": "xxfyuxzScSVL",
        "colab_type": "code",
        "colab": {
          "base_uri": "https://localhost:8080/",
          "height": 542
        },
        "outputId": "09e137ea-3df8-4ca0-fe00-0a42679de3c2"
      },
      "source": [
        "px.bar(data.sort_values('Racing'), x='Platform', y='Racing')"
      ],
      "execution_count": 25,
      "outputs": [
        {
          "output_type": "display_data",
          "data": {
            "text/html": [
              "<html>\n",
              "<head><meta charset=\"utf-8\" /></head>\n",
              "<body>\n",
              "    <div>\n",
              "            <script src=\"https://cdnjs.cloudflare.com/ajax/libs/mathjax/2.7.5/MathJax.js?config=TeX-AMS-MML_SVG\"></script><script type=\"text/javascript\">if (window.MathJax) {MathJax.Hub.Config({SVG: {font: \"STIX-Web\"}});}</script>\n",
              "                <script type=\"text/javascript\">window.PlotlyConfig = {MathJaxConfig: 'local'};</script>\n",
              "        <script src=\"https://cdn.plot.ly/plotly-latest.min.js\"></script>    \n",
              "            <div id=\"ba2892d9-f481-48e3-a6cb-e65167de4446\" class=\"plotly-graph-div\" style=\"height:525px; width:100%;\"></div>\n",
              "            <script type=\"text/javascript\">\n",
              "                \n",
              "                    window.PLOTLYENV=window.PLOTLYENV || {};\n",
              "                    \n",
              "                if (document.getElementById(\"ba2892d9-f481-48e3-a6cb-e65167de4446\")) {\n",
              "                    Plotly.newPlot(\n",
              "                        'ba2892d9-f481-48e3-a6cb-e65167de4446',\n",
              "                        [{\"alignmentgroup\": \"True\", \"hoverlabel\": {\"namelength\": 0}, \"hovertemplate\": \"Platform=%{x}<br>Racing=%{y}\", \"legendgroup\": \"\", \"marker\": {\"color\": \"#636efa\"}, \"name\": \"\", \"offsetgroup\": \"\", \"orientation\": \"v\", \"showlegend\": false, \"textposition\": \"auto\", \"type\": \"bar\", \"x\": [\"Wii\", \"Game Boy Color\", \"Nintendo DS\", \"PlayStation Vita\", \"PlayStation Portable\", \"Nintendo DSi\", \"PlayStation 2\", \"Game Boy Advance\", \"PlayStation\", \"GameCube\", \"Wireless\", \"Nintendo 3DS\", \"Nintendo 64\", \"PlayStation 3\", \"Xbox 360\", \"Xbox\", \"PC\", \"Dreamcast\", \"iPhone\", \"PlayStation 4\", \"Xbox One\"], \"xaxis\": \"x\", \"y\": [5.0116666666666685, 5.897435897435898, 6.038636363636365, 6.3, 6.401960784313727, 6.563636363636364, 6.585064935064935, 6.6571428571428575, 6.773387096774192, 6.85263157894737, 6.898305084745762, 6.9, 6.939622641509434, 6.9785714285714295, 6.996153846153844, 7.021590909090909, 7.032417582417582, 7.0425, 7.315789473684211, 7.589999999999999, 8.163636363636364], \"yaxis\": \"y\"}],\n",
              "                        {\"barmode\": \"relative\", \"legend\": {\"tracegroupgap\": 0}, \"margin\": {\"t\": 60}, \"template\": {\"data\": {\"bar\": [{\"error_x\": {\"color\": \"#2a3f5f\"}, \"error_y\": {\"color\": \"#2a3f5f\"}, \"marker\": {\"line\": {\"color\": \"#E5ECF6\", \"width\": 0.5}}, \"type\": \"bar\"}], \"barpolar\": [{\"marker\": {\"line\": {\"color\": \"#E5ECF6\", \"width\": 0.5}}, \"type\": \"barpolar\"}], \"carpet\": [{\"aaxis\": {\"endlinecolor\": \"#2a3f5f\", \"gridcolor\": \"white\", \"linecolor\": \"white\", \"minorgridcolor\": \"white\", \"startlinecolor\": \"#2a3f5f\"}, \"baxis\": {\"endlinecolor\": \"#2a3f5f\", \"gridcolor\": \"white\", \"linecolor\": \"white\", \"minorgridcolor\": \"white\", \"startlinecolor\": \"#2a3f5f\"}, \"type\": \"carpet\"}], \"choropleth\": [{\"colorbar\": {\"outlinewidth\": 0, \"ticks\": \"\"}, \"type\": \"choropleth\"}], \"contour\": [{\"colorbar\": {\"outlinewidth\": 0, \"ticks\": \"\"}, \"colorscale\": [[0.0, \"#0d0887\"], [0.1111111111111111, \"#46039f\"], [0.2222222222222222, \"#7201a8\"], [0.3333333333333333, \"#9c179e\"], [0.4444444444444444, \"#bd3786\"], [0.5555555555555556, \"#d8576b\"], [0.6666666666666666, \"#ed7953\"], [0.7777777777777778, \"#fb9f3a\"], [0.8888888888888888, \"#fdca26\"], [1.0, \"#f0f921\"]], \"type\": \"contour\"}], \"contourcarpet\": [{\"colorbar\": {\"outlinewidth\": 0, \"ticks\": \"\"}, \"type\": \"contourcarpet\"}], \"heatmap\": [{\"colorbar\": {\"outlinewidth\": 0, \"ticks\": \"\"}, \"colorscale\": [[0.0, \"#0d0887\"], [0.1111111111111111, \"#46039f\"], [0.2222222222222222, \"#7201a8\"], [0.3333333333333333, \"#9c179e\"], [0.4444444444444444, \"#bd3786\"], [0.5555555555555556, \"#d8576b\"], [0.6666666666666666, \"#ed7953\"], [0.7777777777777778, \"#fb9f3a\"], [0.8888888888888888, \"#fdca26\"], [1.0, \"#f0f921\"]], \"type\": \"heatmap\"}], \"heatmapgl\": [{\"colorbar\": {\"outlinewidth\": 0, \"ticks\": \"\"}, \"colorscale\": [[0.0, \"#0d0887\"], [0.1111111111111111, \"#46039f\"], [0.2222222222222222, \"#7201a8\"], [0.3333333333333333, \"#9c179e\"], [0.4444444444444444, \"#bd3786\"], [0.5555555555555556, \"#d8576b\"], [0.6666666666666666, \"#ed7953\"], [0.7777777777777778, \"#fb9f3a\"], [0.8888888888888888, \"#fdca26\"], [1.0, \"#f0f921\"]], \"type\": \"heatmapgl\"}], \"histogram\": [{\"marker\": {\"colorbar\": {\"outlinewidth\": 0, \"ticks\": \"\"}}, \"type\": \"histogram\"}], \"histogram2d\": [{\"colorbar\": {\"outlinewidth\": 0, \"ticks\": \"\"}, \"colorscale\": [[0.0, \"#0d0887\"], [0.1111111111111111, \"#46039f\"], [0.2222222222222222, \"#7201a8\"], [0.3333333333333333, \"#9c179e\"], [0.4444444444444444, \"#bd3786\"], [0.5555555555555556, \"#d8576b\"], [0.6666666666666666, \"#ed7953\"], [0.7777777777777778, \"#fb9f3a\"], [0.8888888888888888, \"#fdca26\"], [1.0, \"#f0f921\"]], \"type\": \"histogram2d\"}], \"histogram2dcontour\": [{\"colorbar\": {\"outlinewidth\": 0, \"ticks\": \"\"}, \"colorscale\": [[0.0, \"#0d0887\"], [0.1111111111111111, \"#46039f\"], [0.2222222222222222, \"#7201a8\"], [0.3333333333333333, \"#9c179e\"], [0.4444444444444444, \"#bd3786\"], [0.5555555555555556, \"#d8576b\"], [0.6666666666666666, \"#ed7953\"], [0.7777777777777778, \"#fb9f3a\"], [0.8888888888888888, \"#fdca26\"], [1.0, \"#f0f921\"]], \"type\": \"histogram2dcontour\"}], \"mesh3d\": [{\"colorbar\": {\"outlinewidth\": 0, \"ticks\": \"\"}, \"type\": \"mesh3d\"}], \"parcoords\": [{\"line\": {\"colorbar\": {\"outlinewidth\": 0, \"ticks\": \"\"}}, \"type\": \"parcoords\"}], \"pie\": [{\"automargin\": true, \"type\": \"pie\"}], \"scatter\": [{\"marker\": {\"colorbar\": {\"outlinewidth\": 0, \"ticks\": \"\"}}, \"type\": \"scatter\"}], \"scatter3d\": [{\"line\": {\"colorbar\": {\"outlinewidth\": 0, \"ticks\": \"\"}}, \"marker\": {\"colorbar\": {\"outlinewidth\": 0, \"ticks\": \"\"}}, \"type\": \"scatter3d\"}], \"scattercarpet\": [{\"marker\": {\"colorbar\": {\"outlinewidth\": 0, \"ticks\": \"\"}}, \"type\": \"scattercarpet\"}], \"scattergeo\": [{\"marker\": {\"colorbar\": {\"outlinewidth\": 0, \"ticks\": \"\"}}, \"type\": \"scattergeo\"}], \"scattergl\": [{\"marker\": {\"colorbar\": {\"outlinewidth\": 0, \"ticks\": \"\"}}, \"type\": \"scattergl\"}], \"scattermapbox\": [{\"marker\": {\"colorbar\": {\"outlinewidth\": 0, \"ticks\": \"\"}}, \"type\": \"scattermapbox\"}], \"scatterpolar\": [{\"marker\": {\"colorbar\": {\"outlinewidth\": 0, \"ticks\": \"\"}}, \"type\": \"scatterpolar\"}], \"scatterpolargl\": [{\"marker\": {\"colorbar\": {\"outlinewidth\": 0, \"ticks\": \"\"}}, \"type\": \"scatterpolargl\"}], \"scatterternary\": [{\"marker\": {\"colorbar\": {\"outlinewidth\": 0, \"ticks\": \"\"}}, \"type\": \"scatterternary\"}], \"surface\": [{\"colorbar\": {\"outlinewidth\": 0, \"ticks\": \"\"}, \"colorscale\": [[0.0, \"#0d0887\"], [0.1111111111111111, \"#46039f\"], [0.2222222222222222, \"#7201a8\"], [0.3333333333333333, \"#9c179e\"], [0.4444444444444444, \"#bd3786\"], [0.5555555555555556, \"#d8576b\"], [0.6666666666666666, \"#ed7953\"], [0.7777777777777778, \"#fb9f3a\"], [0.8888888888888888, \"#fdca26\"], [1.0, \"#f0f921\"]], \"type\": \"surface\"}], \"table\": [{\"cells\": {\"fill\": {\"color\": \"#EBF0F8\"}, \"line\": {\"color\": \"white\"}}, \"header\": {\"fill\": {\"color\": \"#C8D4E3\"}, \"line\": {\"color\": \"white\"}}, \"type\": \"table\"}]}, \"layout\": {\"annotationdefaults\": {\"arrowcolor\": \"#2a3f5f\", \"arrowhead\": 0, \"arrowwidth\": 1}, \"coloraxis\": {\"colorbar\": {\"outlinewidth\": 0, \"ticks\": \"\"}}, \"colorscale\": {\"diverging\": [[0, \"#8e0152\"], [0.1, \"#c51b7d\"], [0.2, \"#de77ae\"], [0.3, \"#f1b6da\"], [0.4, \"#fde0ef\"], [0.5, \"#f7f7f7\"], [0.6, \"#e6f5d0\"], [0.7, \"#b8e186\"], [0.8, \"#7fbc41\"], [0.9, \"#4d9221\"], [1, \"#276419\"]], \"sequential\": [[0.0, \"#0d0887\"], [0.1111111111111111, \"#46039f\"], [0.2222222222222222, \"#7201a8\"], [0.3333333333333333, \"#9c179e\"], [0.4444444444444444, \"#bd3786\"], [0.5555555555555556, \"#d8576b\"], [0.6666666666666666, \"#ed7953\"], [0.7777777777777778, \"#fb9f3a\"], [0.8888888888888888, \"#fdca26\"], [1.0, \"#f0f921\"]], \"sequentialminus\": [[0.0, \"#0d0887\"], [0.1111111111111111, \"#46039f\"], [0.2222222222222222, \"#7201a8\"], [0.3333333333333333, \"#9c179e\"], [0.4444444444444444, \"#bd3786\"], [0.5555555555555556, \"#d8576b\"], [0.6666666666666666, \"#ed7953\"], [0.7777777777777778, \"#fb9f3a\"], [0.8888888888888888, \"#fdca26\"], [1.0, \"#f0f921\"]]}, \"colorway\": [\"#636efa\", \"#EF553B\", \"#00cc96\", \"#ab63fa\", \"#FFA15A\", \"#19d3f3\", \"#FF6692\", \"#B6E880\", \"#FF97FF\", \"#FECB52\"], \"font\": {\"color\": \"#2a3f5f\"}, \"geo\": {\"bgcolor\": \"white\", \"lakecolor\": \"white\", \"landcolor\": \"#E5ECF6\", \"showlakes\": true, \"showland\": true, \"subunitcolor\": \"white\"}, \"hoverlabel\": {\"align\": \"left\"}, \"hovermode\": \"closest\", \"mapbox\": {\"style\": \"light\"}, \"paper_bgcolor\": \"white\", \"plot_bgcolor\": \"#E5ECF6\", \"polar\": {\"angularaxis\": {\"gridcolor\": \"white\", \"linecolor\": \"white\", \"ticks\": \"\"}, \"bgcolor\": \"#E5ECF6\", \"radialaxis\": {\"gridcolor\": \"white\", \"linecolor\": \"white\", \"ticks\": \"\"}}, \"scene\": {\"xaxis\": {\"backgroundcolor\": \"#E5ECF6\", \"gridcolor\": \"white\", \"gridwidth\": 2, \"linecolor\": \"white\", \"showbackground\": true, \"ticks\": \"\", \"zerolinecolor\": \"white\"}, \"yaxis\": {\"backgroundcolor\": \"#E5ECF6\", \"gridcolor\": \"white\", \"gridwidth\": 2, \"linecolor\": \"white\", \"showbackground\": true, \"ticks\": \"\", \"zerolinecolor\": \"white\"}, \"zaxis\": {\"backgroundcolor\": \"#E5ECF6\", \"gridcolor\": \"white\", \"gridwidth\": 2, \"linecolor\": \"white\", \"showbackground\": true, \"ticks\": \"\", \"zerolinecolor\": \"white\"}}, \"shapedefaults\": {\"line\": {\"color\": \"#2a3f5f\"}}, \"ternary\": {\"aaxis\": {\"gridcolor\": \"white\", \"linecolor\": \"white\", \"ticks\": \"\"}, \"baxis\": {\"gridcolor\": \"white\", \"linecolor\": \"white\", \"ticks\": \"\"}, \"bgcolor\": \"#E5ECF6\", \"caxis\": {\"gridcolor\": \"white\", \"linecolor\": \"white\", \"ticks\": \"\"}}, \"title\": {\"x\": 0.05}, \"xaxis\": {\"automargin\": true, \"gridcolor\": \"white\", \"linecolor\": \"white\", \"ticks\": \"\", \"title\": {\"standoff\": 15}, \"zerolinecolor\": \"white\", \"zerolinewidth\": 2}, \"yaxis\": {\"automargin\": true, \"gridcolor\": \"white\", \"linecolor\": \"white\", \"ticks\": \"\", \"title\": {\"standoff\": 15}, \"zerolinecolor\": \"white\", \"zerolinewidth\": 2}}}, \"xaxis\": {\"anchor\": \"y\", \"domain\": [0.0, 1.0], \"title\": {\"text\": \"Platform\"}}, \"yaxis\": {\"anchor\": \"x\", \"domain\": [0.0, 1.0], \"title\": {\"text\": \"Racing\"}}},\n",
              "                        {\"responsive\": true}\n",
              "                    ).then(function(){\n",
              "                            \n",
              "var gd = document.getElementById('ba2892d9-f481-48e3-a6cb-e65167de4446');\n",
              "var x = new MutationObserver(function (mutations, observer) {{\n",
              "        var display = window.getComputedStyle(gd).display;\n",
              "        if (!display || display === 'none') {{\n",
              "            console.log([gd, 'removed!']);\n",
              "            Plotly.purge(gd);\n",
              "            observer.disconnect();\n",
              "        }}\n",
              "}});\n",
              "\n",
              "// Listen for the removal of the full notebook cells\n",
              "var notebookContainer = gd.closest('#notebook-container');\n",
              "if (notebookContainer) {{\n",
              "    x.observe(notebookContainer, {childList: true});\n",
              "}}\n",
              "\n",
              "// Listen for the clearing of the current output cell\n",
              "var outputEl = gd.closest('.output');\n",
              "if (outputEl) {{\n",
              "    x.observe(outputEl, {childList: true});\n",
              "}}\n",
              "\n",
              "                        })\n",
              "                };\n",
              "                \n",
              "            </script>\n",
              "        </div>\n",
              "</body>\n",
              "</html>"
            ]
          },
          "metadata": {
            "tags": []
          }
        }
      ]
    },
    {
      "cell_type": "code",
      "metadata": {
        "id": "_Dm7v506eeLn",
        "colab_type": "code",
        "colab": {}
      },
      "source": [
        ""
      ],
      "execution_count": 0,
      "outputs": []
    },
    {
      "cell_type": "code",
      "metadata": {
        "id": "zXrOeYwmeeA3",
        "colab_type": "code",
        "colab": {}
      },
      "source": [
        ""
      ],
      "execution_count": 0,
      "outputs": []
    },
    {
      "cell_type": "code",
      "metadata": {
        "id": "5TPBkqgPedxA",
        "colab_type": "code",
        "colab": {}
      },
      "source": [
        ""
      ],
      "execution_count": 0,
      "outputs": []
    },
    {
      "cell_type": "markdown",
      "metadata": {
        "id": "87uD7tEpgeel",
        "colab_type": "text"
      },
      "source": [
        "__Nhận xét.__\n",
        "- 1) Xét về mặt _\"Racing\"_; các game trên _\"Wii\"_ còn rất yếu \n",
        "- 2) Các game trên _\"Xbox One\"_ được đánh giá tính _\"racing\"_ cao hơn cả."
      ]
    },
    {
      "cell_type": "markdown",
      "metadata": {
        "id": "YqPqbRnMgeer",
        "colab_type": "text"
      },
      "source": [
        "===================================================================================================\n",
        "\n",
        "__Target 3.__ Eventually, you decide against creating a racing game for Wii, but you're still committed to creating your own video game!  Since your gaming interests are pretty broad (_... you generally love most video games_), you decide to use the IGN data to inform your new choice of genre and platform.\n",
        "\n",
        "#### Step 1.\n",
        "Use the data to create a heatmap of average score by genre and platform.  \n",
        "\n",
        "#### Step 2.\n",
        "Which combination of genre and platform receives the highest average ratings?  Which combination receives the lowest average rankings?\n",
        "\n",
        "==================================================================================================="
      ]
    },
    {
      "cell_type": "code",
      "metadata": {
        "id": "h1SUACRhfIwX",
        "colab_type": "code",
        "colab": {
          "base_uri": "https://localhost:8080/",
          "height": 542
        },
        "outputId": "c4817964-87a9-4a94-910a-ae73a6a8671f"
      },
      "source": [
        "# px.imshow(data.drop('Platform',axis=1), x=list(data), y=list(data.transpose()))\n",
        "x = data.set_index('Platform')\n",
        "go.Figure(data=go.Heatmap(\n",
        "                   z=x,\n",
        "                   x=list(x),\n",
        "                   y=list(x.transpose()),\n",
        "                   hoverongaps = False))"
      ],
      "execution_count": 26,
      "outputs": [
        {
          "output_type": "display_data",
          "data": {
            "text/html": [
              "<html>\n",
              "<head><meta charset=\"utf-8\" /></head>\n",
              "<body>\n",
              "    <div>\n",
              "            <script src=\"https://cdnjs.cloudflare.com/ajax/libs/mathjax/2.7.5/MathJax.js?config=TeX-AMS-MML_SVG\"></script><script type=\"text/javascript\">if (window.MathJax) {MathJax.Hub.Config({SVG: {font: \"STIX-Web\"}});}</script>\n",
              "                <script type=\"text/javascript\">window.PlotlyConfig = {MathJaxConfig: 'local'};</script>\n",
              "        <script src=\"https://cdn.plot.ly/plotly-latest.min.js\"></script>    \n",
              "            <div id=\"835b9efc-e975-43de-9d86-b7c8ad5b6f4b\" class=\"plotly-graph-div\" style=\"height:525px; width:100%;\"></div>\n",
              "            <script type=\"text/javascript\">\n",
              "                \n",
              "                    window.PLOTLYENV=window.PLOTLYENV || {};\n",
              "                    \n",
              "                if (document.getElementById(\"835b9efc-e975-43de-9d86-b7c8ad5b6f4b\")) {\n",
              "                    Plotly.newPlot(\n",
              "                        '835b9efc-e975-43de-9d86-b7c8ad5b6f4b',\n",
              "                        [{\"hoverongaps\": false, \"type\": \"heatmap\", \"x\": [\"Action\", \"Action, Adventure\", \"Adventure\", \"Fighting\", \"Platformer\", \"Puzzle\", \"RPG\", \"Racing\", \"Shooter\", \"Simulation\", \"Sports\", \"Strategy\"], \"y\": [\"Dreamcast\", \"Game Boy Advance\", \"Game Boy Color\", \"GameCube\", \"Nintendo 3DS\", \"Nintendo 64\", \"Nintendo DS\", \"Nintendo DSi\", \"PC\", \"PlayStation\", \"PlayStation 2\", \"PlayStation 3\", \"PlayStation 4\", \"PlayStation Portable\", \"PlayStation Vita\", \"Wii\", \"Wireless\", \"Xbox\", \"Xbox 360\", \"Xbox One\", \"iPhone\"], \"z\": [[6.882857142857144, 7.51111111111111, 6.281818181818181, 8.2, 8.34, 8.088888888888889, 7.7, 7.0425, 7.616666666666667, 7.628571428571428, 7.272222222222222, 6.433333333333333], [6.373076923076923, 7.5076923076923086, 6.057142857142857, 6.226315789473684, 6.970588235294117, 6.5321428571428575, 7.542857142857143, 6.6571428571428575, 6.4444444444444455, 6.928571428571429, 6.694444444444443, 7.175000000000002], [6.2727272727272725, 8.166666666666666, 5.307692307692308, 4.5, 6.352941176470589, 6.583333333333332, 7.2857142857142865, 5.897435897435898, 4.5, 5.9, 5.790697674418603, 7.4], [6.53258426966292, 7.608333333333333, 6.753846153846153, 7.4222222222222225, 6.665714285714286, 6.133333333333333, 7.8909090909090915, 6.85263157894737, 6.981818181818182, 8.028571428571428, 7.48131868131868, 7.116666666666667], [6.6708333333333325, 7.481818181818181, 7.414285714285714, 6.614285714285713, 7.503448275862071, 7.999999999999999, 7.71923076923077, 6.9, 7.033333333333332, 7.7, 6.388888888888888, 7.900000000000001], [6.649056603773586, 8.25, 7.0, 5.68125, 6.889655172413795, 7.461538461538463, 6.050000000000002, 6.939622641509434, 8.042857142857143, 5.675, 6.967857142857146, 6.9], [5.90360824742268, 7.239999999999998, 6.259803921568627, 6.32, 6.839999999999999, 6.604615384615385, 7.222619047619048, 6.038636363636365, 6.965217391304347, 5.874358974358975, 5.936666666666667, 6.644736842105262], [6.827027027027028, 8.5, 6.090909090909091, 7.5, 7.25, 6.810526315789473, 7.166666666666668, 6.563636363636364, 6.5, 5.195652173913044, 5.644444444444443, 6.566666666666667], [6.805790645879736, 7.334745762711863, 7.136797752808991, 7.166666666666668, 7.4109375, 6.924705882352942, 7.759930313588848, 7.032417582417582, 7.0848780487804905, 7.104888888888887, 6.9024242424242415, 7.310207336523128], [6.016406249999998, 7.933333333333334, 6.31372549019608, 6.553731343283582, 6.579069767441861, 6.757894736842107, 7.909999999999998, 6.773387096774192, 6.424, 6.918181818181817, 6.751219512195119, 6.496875], [6.467361111111113, 7.249999999999999, 6.315151515151516, 7.306349206349207, 7.06842105263158, 6.354545454545455, 7.473076923076923, 6.585064935064935, 6.641666666666668, 7.152631578947368, 7.197826086956522, 7.23888888888889], [6.853819444444443, 7.306153846153847, 6.820987654320987, 7.710937500000001, 7.735714285714286, 7.35, 7.436111111111112, 6.9785714285714295, 7.219553072625698, 7.142857142857142, 7.485815602836878, 7.355172413793103], [7.55, 7.835294117647058, 7.38857142857143, 7.2799999999999985, 8.39090909090909, 7.399999999999999, 7.944, 7.589999999999999, 7.804444444444441, 9.25, 7.4300000000000015, 6.566666666666666], [6.467796610169487, 7.0, 6.938095238095237, 6.822222222222222, 7.194736842105263, 6.726666666666667, 6.817777777777778, 6.401960784313727, 7.071052631578947, 6.761538461538462, 6.9567901234567895, 6.550000000000002], [7.1730769230769225, 6.133333333333334, 8.057142857142859, 7.527272727272727, 8.56875, 8.25, 7.3375, 6.3, 7.659999999999998, 5.725, 7.130000000000001, 8.9], [6.262717770034842, 7.294642857142858, 6.2340425531914905, 6.7333333333333325, 7.054255319148935, 6.426984126984126, 7.410344827586206, 5.0116666666666685, 6.479797979797981, 6.327027027027026, 5.966901408450704, 6.9750000000000005], [7.041698841698843, 7.3125, 6.972413793103447, 6.739999999999998, 7.509090909090909, 7.3605504587155925, 8.26, 6.898305084745762, 6.906779661016945, 7.8028571428571425, 7.4176991150442495, 7.542857142857144], [6.819512195121948, 7.479032258064515, 6.821428571428571, 7.02962962962963, 7.3034482758620705, 5.125, 8.277777777777779, 7.021590909090909, 7.4854166666666675, 7.155555555555557, 7.884397163120563, 7.313333333333333], [6.7190476190476165, 7.1378378378378375, 6.85735294117647, 7.5522388059701475, 7.559574468085106, 7.141025641025642, 7.649999999999999, 6.996153846153844, 7.338152610441768, 7.325, 7.3178571428571395, 7.112244897959185], [7.702857142857144, 7.566666666666667, 7.254545454545454, 7.171428571428571, 6.7333333333333325, 8.1, 8.291666666666666, 8.163636363636364, 8.019999999999998, 7.7333333333333325, 7.331818181818183, 8.5], [6.8654450261780084, 7.764285714285713, 7.745833333333334, 6.0875, 7.4719298245614025, 7.810784313725488, 7.185185185185184, 7.315789473684211, 6.995588235294116, 7.328571428571428, 7.152173913043479, 7.534920634920634]]}],\n",
              "                        {\"template\": {\"data\": {\"bar\": [{\"error_x\": {\"color\": \"#2a3f5f\"}, \"error_y\": {\"color\": \"#2a3f5f\"}, \"marker\": {\"line\": {\"color\": \"#E5ECF6\", \"width\": 0.5}}, \"type\": \"bar\"}], \"barpolar\": [{\"marker\": {\"line\": {\"color\": \"#E5ECF6\", \"width\": 0.5}}, \"type\": \"barpolar\"}], \"carpet\": [{\"aaxis\": {\"endlinecolor\": \"#2a3f5f\", \"gridcolor\": \"white\", \"linecolor\": \"white\", \"minorgridcolor\": \"white\", \"startlinecolor\": \"#2a3f5f\"}, \"baxis\": {\"endlinecolor\": \"#2a3f5f\", \"gridcolor\": \"white\", \"linecolor\": \"white\", \"minorgridcolor\": \"white\", \"startlinecolor\": \"#2a3f5f\"}, \"type\": \"carpet\"}], \"choropleth\": [{\"colorbar\": {\"outlinewidth\": 0, \"ticks\": \"\"}, \"type\": \"choropleth\"}], \"contour\": [{\"colorbar\": {\"outlinewidth\": 0, \"ticks\": \"\"}, \"colorscale\": [[0.0, \"#0d0887\"], [0.1111111111111111, \"#46039f\"], [0.2222222222222222, \"#7201a8\"], [0.3333333333333333, \"#9c179e\"], [0.4444444444444444, \"#bd3786\"], [0.5555555555555556, \"#d8576b\"], [0.6666666666666666, \"#ed7953\"], [0.7777777777777778, \"#fb9f3a\"], [0.8888888888888888, \"#fdca26\"], [1.0, \"#f0f921\"]], \"type\": \"contour\"}], \"contourcarpet\": [{\"colorbar\": {\"outlinewidth\": 0, \"ticks\": \"\"}, \"type\": \"contourcarpet\"}], \"heatmap\": [{\"colorbar\": {\"outlinewidth\": 0, \"ticks\": \"\"}, \"colorscale\": [[0.0, \"#0d0887\"], [0.1111111111111111, \"#46039f\"], [0.2222222222222222, \"#7201a8\"], [0.3333333333333333, \"#9c179e\"], [0.4444444444444444, \"#bd3786\"], [0.5555555555555556, \"#d8576b\"], [0.6666666666666666, \"#ed7953\"], [0.7777777777777778, \"#fb9f3a\"], [0.8888888888888888, \"#fdca26\"], [1.0, \"#f0f921\"]], \"type\": \"heatmap\"}], \"heatmapgl\": [{\"colorbar\": {\"outlinewidth\": 0, \"ticks\": \"\"}, \"colorscale\": [[0.0, \"#0d0887\"], [0.1111111111111111, \"#46039f\"], [0.2222222222222222, \"#7201a8\"], [0.3333333333333333, \"#9c179e\"], [0.4444444444444444, \"#bd3786\"], [0.5555555555555556, \"#d8576b\"], [0.6666666666666666, \"#ed7953\"], [0.7777777777777778, \"#fb9f3a\"], [0.8888888888888888, \"#fdca26\"], [1.0, \"#f0f921\"]], \"type\": \"heatmapgl\"}], \"histogram\": [{\"marker\": {\"colorbar\": {\"outlinewidth\": 0, \"ticks\": \"\"}}, \"type\": \"histogram\"}], \"histogram2d\": [{\"colorbar\": {\"outlinewidth\": 0, \"ticks\": \"\"}, \"colorscale\": [[0.0, \"#0d0887\"], [0.1111111111111111, \"#46039f\"], [0.2222222222222222, \"#7201a8\"], [0.3333333333333333, \"#9c179e\"], [0.4444444444444444, \"#bd3786\"], [0.5555555555555556, \"#d8576b\"], [0.6666666666666666, \"#ed7953\"], [0.7777777777777778, \"#fb9f3a\"], [0.8888888888888888, \"#fdca26\"], [1.0, \"#f0f921\"]], \"type\": \"histogram2d\"}], \"histogram2dcontour\": [{\"colorbar\": {\"outlinewidth\": 0, \"ticks\": \"\"}, \"colorscale\": [[0.0, \"#0d0887\"], [0.1111111111111111, \"#46039f\"], [0.2222222222222222, \"#7201a8\"], [0.3333333333333333, \"#9c179e\"], [0.4444444444444444, \"#bd3786\"], [0.5555555555555556, \"#d8576b\"], [0.6666666666666666, \"#ed7953\"], [0.7777777777777778, \"#fb9f3a\"], [0.8888888888888888, \"#fdca26\"], [1.0, \"#f0f921\"]], \"type\": \"histogram2dcontour\"}], \"mesh3d\": [{\"colorbar\": {\"outlinewidth\": 0, \"ticks\": \"\"}, \"type\": \"mesh3d\"}], \"parcoords\": [{\"line\": {\"colorbar\": {\"outlinewidth\": 0, \"ticks\": \"\"}}, \"type\": \"parcoords\"}], \"pie\": [{\"automargin\": true, \"type\": \"pie\"}], \"scatter\": [{\"marker\": {\"colorbar\": {\"outlinewidth\": 0, \"ticks\": \"\"}}, \"type\": \"scatter\"}], \"scatter3d\": [{\"line\": {\"colorbar\": {\"outlinewidth\": 0, \"ticks\": \"\"}}, \"marker\": {\"colorbar\": {\"outlinewidth\": 0, \"ticks\": \"\"}}, \"type\": \"scatter3d\"}], \"scattercarpet\": [{\"marker\": {\"colorbar\": {\"outlinewidth\": 0, \"ticks\": \"\"}}, \"type\": \"scattercarpet\"}], \"scattergeo\": [{\"marker\": {\"colorbar\": {\"outlinewidth\": 0, \"ticks\": \"\"}}, \"type\": \"scattergeo\"}], \"scattergl\": [{\"marker\": {\"colorbar\": {\"outlinewidth\": 0, \"ticks\": \"\"}}, \"type\": \"scattergl\"}], \"scattermapbox\": [{\"marker\": {\"colorbar\": {\"outlinewidth\": 0, \"ticks\": \"\"}}, \"type\": \"scattermapbox\"}], \"scatterpolar\": [{\"marker\": {\"colorbar\": {\"outlinewidth\": 0, \"ticks\": \"\"}}, \"type\": \"scatterpolar\"}], \"scatterpolargl\": [{\"marker\": {\"colorbar\": {\"outlinewidth\": 0, \"ticks\": \"\"}}, \"type\": \"scatterpolargl\"}], \"scatterternary\": [{\"marker\": {\"colorbar\": {\"outlinewidth\": 0, \"ticks\": \"\"}}, \"type\": \"scatterternary\"}], \"surface\": [{\"colorbar\": {\"outlinewidth\": 0, \"ticks\": \"\"}, \"colorscale\": [[0.0, \"#0d0887\"], [0.1111111111111111, \"#46039f\"], [0.2222222222222222, \"#7201a8\"], [0.3333333333333333, \"#9c179e\"], [0.4444444444444444, \"#bd3786\"], [0.5555555555555556, \"#d8576b\"], [0.6666666666666666, \"#ed7953\"], [0.7777777777777778, \"#fb9f3a\"], [0.8888888888888888, \"#fdca26\"], [1.0, \"#f0f921\"]], \"type\": \"surface\"}], \"table\": [{\"cells\": {\"fill\": {\"color\": \"#EBF0F8\"}, \"line\": {\"color\": \"white\"}}, \"header\": {\"fill\": {\"color\": \"#C8D4E3\"}, \"line\": {\"color\": \"white\"}}, \"type\": \"table\"}]}, \"layout\": {\"annotationdefaults\": {\"arrowcolor\": \"#2a3f5f\", \"arrowhead\": 0, \"arrowwidth\": 1}, \"coloraxis\": {\"colorbar\": {\"outlinewidth\": 0, \"ticks\": \"\"}}, \"colorscale\": {\"diverging\": [[0, \"#8e0152\"], [0.1, \"#c51b7d\"], [0.2, \"#de77ae\"], [0.3, \"#f1b6da\"], [0.4, \"#fde0ef\"], [0.5, \"#f7f7f7\"], [0.6, \"#e6f5d0\"], [0.7, \"#b8e186\"], [0.8, \"#7fbc41\"], [0.9, \"#4d9221\"], [1, \"#276419\"]], \"sequential\": [[0.0, \"#0d0887\"], [0.1111111111111111, \"#46039f\"], [0.2222222222222222, \"#7201a8\"], [0.3333333333333333, \"#9c179e\"], [0.4444444444444444, \"#bd3786\"], [0.5555555555555556, \"#d8576b\"], [0.6666666666666666, \"#ed7953\"], [0.7777777777777778, \"#fb9f3a\"], [0.8888888888888888, \"#fdca26\"], [1.0, \"#f0f921\"]], \"sequentialminus\": [[0.0, \"#0d0887\"], [0.1111111111111111, \"#46039f\"], [0.2222222222222222, \"#7201a8\"], [0.3333333333333333, \"#9c179e\"], [0.4444444444444444, \"#bd3786\"], [0.5555555555555556, \"#d8576b\"], [0.6666666666666666, \"#ed7953\"], [0.7777777777777778, \"#fb9f3a\"], [0.8888888888888888, \"#fdca26\"], [1.0, \"#f0f921\"]]}, \"colorway\": [\"#636efa\", \"#EF553B\", \"#00cc96\", \"#ab63fa\", \"#FFA15A\", \"#19d3f3\", \"#FF6692\", \"#B6E880\", \"#FF97FF\", \"#FECB52\"], \"font\": {\"color\": \"#2a3f5f\"}, \"geo\": {\"bgcolor\": \"white\", \"lakecolor\": \"white\", \"landcolor\": \"#E5ECF6\", \"showlakes\": true, \"showland\": true, \"subunitcolor\": \"white\"}, \"hoverlabel\": {\"align\": \"left\"}, \"hovermode\": \"closest\", \"mapbox\": {\"style\": \"light\"}, \"paper_bgcolor\": \"white\", \"plot_bgcolor\": \"#E5ECF6\", \"polar\": {\"angularaxis\": {\"gridcolor\": \"white\", \"linecolor\": \"white\", \"ticks\": \"\"}, \"bgcolor\": \"#E5ECF6\", \"radialaxis\": {\"gridcolor\": \"white\", \"linecolor\": \"white\", \"ticks\": \"\"}}, \"scene\": {\"xaxis\": {\"backgroundcolor\": \"#E5ECF6\", \"gridcolor\": \"white\", \"gridwidth\": 2, \"linecolor\": \"white\", \"showbackground\": true, \"ticks\": \"\", \"zerolinecolor\": \"white\"}, \"yaxis\": {\"backgroundcolor\": \"#E5ECF6\", \"gridcolor\": \"white\", \"gridwidth\": 2, \"linecolor\": \"white\", \"showbackground\": true, \"ticks\": \"\", \"zerolinecolor\": \"white\"}, \"zaxis\": {\"backgroundcolor\": \"#E5ECF6\", \"gridcolor\": \"white\", \"gridwidth\": 2, \"linecolor\": \"white\", \"showbackground\": true, \"ticks\": \"\", \"zerolinecolor\": \"white\"}}, \"shapedefaults\": {\"line\": {\"color\": \"#2a3f5f\"}}, \"ternary\": {\"aaxis\": {\"gridcolor\": \"white\", \"linecolor\": \"white\", \"ticks\": \"\"}, \"baxis\": {\"gridcolor\": \"white\", \"linecolor\": \"white\", \"ticks\": \"\"}, \"bgcolor\": \"#E5ECF6\", \"caxis\": {\"gridcolor\": \"white\", \"linecolor\": \"white\", \"ticks\": \"\"}}, \"title\": {\"x\": 0.05}, \"xaxis\": {\"automargin\": true, \"gridcolor\": \"white\", \"linecolor\": \"white\", \"ticks\": \"\", \"title\": {\"standoff\": 15}, \"zerolinecolor\": \"white\", \"zerolinewidth\": 2}, \"yaxis\": {\"automargin\": true, \"gridcolor\": \"white\", \"linecolor\": \"white\", \"ticks\": \"\", \"title\": {\"standoff\": 15}, \"zerolinecolor\": \"white\", \"zerolinewidth\": 2}}}},\n",
              "                        {\"responsive\": true}\n",
              "                    ).then(function(){\n",
              "                            \n",
              "var gd = document.getElementById('835b9efc-e975-43de-9d86-b7c8ad5b6f4b');\n",
              "var x = new MutationObserver(function (mutations, observer) {{\n",
              "        var display = window.getComputedStyle(gd).display;\n",
              "        if (!display || display === 'none') {{\n",
              "            console.log([gd, 'removed!']);\n",
              "            Plotly.purge(gd);\n",
              "            observer.disconnect();\n",
              "        }}\n",
              "}});\n",
              "\n",
              "// Listen for the removal of the full notebook cells\n",
              "var notebookContainer = gd.closest('#notebook-container');\n",
              "if (notebookContainer) {{\n",
              "    x.observe(notebookContainer, {childList: true});\n",
              "}}\n",
              "\n",
              "// Listen for the clearing of the current output cell\n",
              "var outputEl = gd.closest('.output');\n",
              "if (outputEl) {{\n",
              "    x.observe(outputEl, {childList: true});\n",
              "}}\n",
              "\n",
              "                        })\n",
              "                };\n",
              "                \n",
              "            </script>\n",
              "        </div>\n",
              "</body>\n",
              "</html>"
            ]
          },
          "metadata": {
            "tags": []
          }
        }
      ]
    },
    {
      "cell_type": "markdown",
      "metadata": {
        "id": "4utIefPZgeeu",
        "colab_type": "text"
      },
      "source": [
        "# Topic 3. Inferences in Pie & count charts\n",
        "__Renaming then Viewing data set.__"
      ]
    },
    {
      "cell_type": "markdown",
      "metadata": {
        "id": "1eqzPKn0geez",
        "colab_type": "text"
      },
      "source": [
        "__Target 1.__ _Using pie and count charts_ \n",
        "\n",
        "Using pie chart show name of ten club have the most age"
      ]
    },
    {
      "cell_type": "code",
      "metadata": {
        "id": "b3SQZnaHiMuM",
        "colab_type": "code",
        "colab": {
          "base_uri": "https://localhost:8080/",
          "height": 309
        },
        "outputId": "5ff0ce03-e31b-45ed-ecf3-5441ec822bc5"
      },
      "source": [
        "data = pd.read_csv('https://raw.githubusercontent.com/hothienlac/CS441/master/Assignment%201/dataset/epldata_final.csv')\n",
        "data.head()"
      ],
      "execution_count": 95,
      "outputs": [
        {
          "output_type": "execute_result",
          "data": {
            "text/html": [
              "<div>\n",
              "<style scoped>\n",
              "    .dataframe tbody tr th:only-of-type {\n",
              "        vertical-align: middle;\n",
              "    }\n",
              "\n",
              "    .dataframe tbody tr th {\n",
              "        vertical-align: top;\n",
              "    }\n",
              "\n",
              "    .dataframe thead th {\n",
              "        text-align: right;\n",
              "    }\n",
              "</style>\n",
              "<table border=\"1\" class=\"dataframe\">\n",
              "  <thead>\n",
              "    <tr style=\"text-align: right;\">\n",
              "      <th></th>\n",
              "      <th>name</th>\n",
              "      <th>club</th>\n",
              "      <th>age</th>\n",
              "      <th>position</th>\n",
              "      <th>position_cat</th>\n",
              "      <th>market_value</th>\n",
              "      <th>page_views</th>\n",
              "      <th>fpl_value</th>\n",
              "      <th>fpl_sel</th>\n",
              "      <th>fpl_points</th>\n",
              "      <th>region</th>\n",
              "      <th>nationality</th>\n",
              "      <th>new_foreign</th>\n",
              "      <th>age_cat</th>\n",
              "      <th>club_id</th>\n",
              "      <th>big_club</th>\n",
              "      <th>new_signing</th>\n",
              "    </tr>\n",
              "  </thead>\n",
              "  <tbody>\n",
              "    <tr>\n",
              "      <th>0</th>\n",
              "      <td>Alexis Sanchez</td>\n",
              "      <td>Arsenal</td>\n",
              "      <td>28</td>\n",
              "      <td>LW</td>\n",
              "      <td>1</td>\n",
              "      <td>65.0</td>\n",
              "      <td>4329</td>\n",
              "      <td>12.0</td>\n",
              "      <td>17.10%</td>\n",
              "      <td>264</td>\n",
              "      <td>3.0</td>\n",
              "      <td>Chile</td>\n",
              "      <td>0</td>\n",
              "      <td>4</td>\n",
              "      <td>1</td>\n",
              "      <td>1</td>\n",
              "      <td>0</td>\n",
              "    </tr>\n",
              "    <tr>\n",
              "      <th>1</th>\n",
              "      <td>Mesut Ozil</td>\n",
              "      <td>Arsenal</td>\n",
              "      <td>28</td>\n",
              "      <td>AM</td>\n",
              "      <td>1</td>\n",
              "      <td>50.0</td>\n",
              "      <td>4395</td>\n",
              "      <td>9.5</td>\n",
              "      <td>5.60%</td>\n",
              "      <td>167</td>\n",
              "      <td>2.0</td>\n",
              "      <td>Germany</td>\n",
              "      <td>0</td>\n",
              "      <td>4</td>\n",
              "      <td>1</td>\n",
              "      <td>1</td>\n",
              "      <td>0</td>\n",
              "    </tr>\n",
              "    <tr>\n",
              "      <th>2</th>\n",
              "      <td>Petr Cech</td>\n",
              "      <td>Arsenal</td>\n",
              "      <td>35</td>\n",
              "      <td>GK</td>\n",
              "      <td>4</td>\n",
              "      <td>7.0</td>\n",
              "      <td>1529</td>\n",
              "      <td>5.5</td>\n",
              "      <td>5.90%</td>\n",
              "      <td>134</td>\n",
              "      <td>2.0</td>\n",
              "      <td>Czech Republic</td>\n",
              "      <td>0</td>\n",
              "      <td>6</td>\n",
              "      <td>1</td>\n",
              "      <td>1</td>\n",
              "      <td>0</td>\n",
              "    </tr>\n",
              "    <tr>\n",
              "      <th>3</th>\n",
              "      <td>Theo Walcott</td>\n",
              "      <td>Arsenal</td>\n",
              "      <td>28</td>\n",
              "      <td>RW</td>\n",
              "      <td>1</td>\n",
              "      <td>20.0</td>\n",
              "      <td>2393</td>\n",
              "      <td>7.5</td>\n",
              "      <td>1.50%</td>\n",
              "      <td>122</td>\n",
              "      <td>1.0</td>\n",
              "      <td>England</td>\n",
              "      <td>0</td>\n",
              "      <td>4</td>\n",
              "      <td>1</td>\n",
              "      <td>1</td>\n",
              "      <td>0</td>\n",
              "    </tr>\n",
              "    <tr>\n",
              "      <th>4</th>\n",
              "      <td>Laurent Koscielny</td>\n",
              "      <td>Arsenal</td>\n",
              "      <td>31</td>\n",
              "      <td>CB</td>\n",
              "      <td>3</td>\n",
              "      <td>22.0</td>\n",
              "      <td>912</td>\n",
              "      <td>6.0</td>\n",
              "      <td>0.70%</td>\n",
              "      <td>121</td>\n",
              "      <td>2.0</td>\n",
              "      <td>France</td>\n",
              "      <td>0</td>\n",
              "      <td>4</td>\n",
              "      <td>1</td>\n",
              "      <td>1</td>\n",
              "      <td>0</td>\n",
              "    </tr>\n",
              "  </tbody>\n",
              "</table>\n",
              "</div>"
            ],
            "text/plain": [
              "                name     club  age  ... club_id  big_club  new_signing\n",
              "0     Alexis Sanchez  Arsenal   28  ...       1         1            0\n",
              "1         Mesut Ozil  Arsenal   28  ...       1         1            0\n",
              "2          Petr Cech  Arsenal   35  ...       1         1            0\n",
              "3       Theo Walcott  Arsenal   28  ...       1         1            0\n",
              "4  Laurent Koscielny  Arsenal   31  ...       1         1            0\n",
              "\n",
              "[5 rows x 17 columns]"
            ]
          },
          "metadata": {
            "tags": []
          },
          "execution_count": 95
        }
      ]
    },
    {
      "cell_type": "code",
      "metadata": {
        "id": "uGqsjqQRiMWJ",
        "colab_type": "code",
        "colab": {
          "base_uri": "https://localhost:8080/",
          "height": 391
        },
        "outputId": "dd0eb5c4-f5bc-431d-8261-4cde55cea7d3"
      },
      "source": [
        "data.info()"
      ],
      "execution_count": 96,
      "outputs": [
        {
          "output_type": "stream",
          "text": [
            "<class 'pandas.core.frame.DataFrame'>\n",
            "RangeIndex: 461 entries, 0 to 460\n",
            "Data columns (total 17 columns):\n",
            "name            461 non-null object\n",
            "club            461 non-null object\n",
            "age             461 non-null int64\n",
            "position        461 non-null object\n",
            "position_cat    461 non-null int64\n",
            "market_value    461 non-null float64\n",
            "page_views      461 non-null int64\n",
            "fpl_value       461 non-null float64\n",
            "fpl_sel         461 non-null object\n",
            "fpl_points      461 non-null int64\n",
            "region          460 non-null float64\n",
            "nationality     461 non-null object\n",
            "new_foreign     461 non-null int64\n",
            "age_cat         461 non-null int64\n",
            "club_id         461 non-null int64\n",
            "big_club        461 non-null int64\n",
            "new_signing     461 non-null int64\n",
            "dtypes: float64(3), int64(9), object(5)\n",
            "memory usage: 61.4+ KB\n"
          ],
          "name": "stdout"
        }
      ]
    },
    {
      "cell_type": "code",
      "metadata": {
        "id": "yD_d0K0MiMOL",
        "colab_type": "code",
        "colab": {
          "base_uri": "https://localhost:8080/",
          "height": 204
        },
        "outputId": "e3992cc9-c6d5-4fd1-f96c-316cd0c863bb"
      },
      "source": [
        "age = data[['club','age']]\n",
        "age.head()"
      ],
      "execution_count": 98,
      "outputs": [
        {
          "output_type": "execute_result",
          "data": {
            "text/html": [
              "<div>\n",
              "<style scoped>\n",
              "    .dataframe tbody tr th:only-of-type {\n",
              "        vertical-align: middle;\n",
              "    }\n",
              "\n",
              "    .dataframe tbody tr th {\n",
              "        vertical-align: top;\n",
              "    }\n",
              "\n",
              "    .dataframe thead th {\n",
              "        text-align: right;\n",
              "    }\n",
              "</style>\n",
              "<table border=\"1\" class=\"dataframe\">\n",
              "  <thead>\n",
              "    <tr style=\"text-align: right;\">\n",
              "      <th></th>\n",
              "      <th>club</th>\n",
              "      <th>age</th>\n",
              "    </tr>\n",
              "  </thead>\n",
              "  <tbody>\n",
              "    <tr>\n",
              "      <th>0</th>\n",
              "      <td>Arsenal</td>\n",
              "      <td>28</td>\n",
              "    </tr>\n",
              "    <tr>\n",
              "      <th>1</th>\n",
              "      <td>Arsenal</td>\n",
              "      <td>28</td>\n",
              "    </tr>\n",
              "    <tr>\n",
              "      <th>2</th>\n",
              "      <td>Arsenal</td>\n",
              "      <td>35</td>\n",
              "    </tr>\n",
              "    <tr>\n",
              "      <th>3</th>\n",
              "      <td>Arsenal</td>\n",
              "      <td>28</td>\n",
              "    </tr>\n",
              "    <tr>\n",
              "      <th>4</th>\n",
              "      <td>Arsenal</td>\n",
              "      <td>31</td>\n",
              "    </tr>\n",
              "  </tbody>\n",
              "</table>\n",
              "</div>"
            ],
            "text/plain": [
              "      club  age\n",
              "0  Arsenal   28\n",
              "1  Arsenal   28\n",
              "2  Arsenal   35\n",
              "3  Arsenal   28\n",
              "4  Arsenal   31"
            ]
          },
          "metadata": {
            "tags": []
          },
          "execution_count": 98
        }
      ]
    },
    {
      "cell_type": "code",
      "metadata": {
        "id": "2P4cV_Vqg2sS",
        "colab_type": "code",
        "colab": {
          "base_uri": "https://localhost:8080/",
          "height": 390
        },
        "outputId": "5b3ecaed-0c18-45ff-b400-63dca943de21"
      },
      "source": [
        "top = age.groupby('club').mean().sort_values('age').head(10)\n",
        "top"
      ],
      "execution_count": 103,
      "outputs": [
        {
          "output_type": "execute_result",
          "data": {
            "text/html": [
              "<div>\n",
              "<style scoped>\n",
              "    .dataframe tbody tr th:only-of-type {\n",
              "        vertical-align: middle;\n",
              "    }\n",
              "\n",
              "    .dataframe tbody tr th {\n",
              "        vertical-align: top;\n",
              "    }\n",
              "\n",
              "    .dataframe thead th {\n",
              "        text-align: right;\n",
              "    }\n",
              "</style>\n",
              "<table border=\"1\" class=\"dataframe\">\n",
              "  <thead>\n",
              "    <tr style=\"text-align: right;\">\n",
              "      <th></th>\n",
              "      <th>age</th>\n",
              "    </tr>\n",
              "    <tr>\n",
              "      <th>club</th>\n",
              "      <th></th>\n",
              "    </tr>\n",
              "  </thead>\n",
              "  <tbody>\n",
              "    <tr>\n",
              "      <th>Liverpool</th>\n",
              "      <td>24.777778</td>\n",
              "    </tr>\n",
              "    <tr>\n",
              "      <th>Southampton</th>\n",
              "      <td>24.956522</td>\n",
              "    </tr>\n",
              "    <tr>\n",
              "      <th>Manchester+United</th>\n",
              "      <td>25.560000</td>\n",
              "    </tr>\n",
              "    <tr>\n",
              "      <th>Tottenham</th>\n",
              "      <td>25.650000</td>\n",
              "    </tr>\n",
              "    <tr>\n",
              "      <th>Huddersfield</th>\n",
              "      <td>26.000000</td>\n",
              "    </tr>\n",
              "    <tr>\n",
              "      <th>Everton</th>\n",
              "      <td>26.214286</td>\n",
              "    </tr>\n",
              "    <tr>\n",
              "      <th>Newcastle+United</th>\n",
              "      <td>26.428571</td>\n",
              "    </tr>\n",
              "    <tr>\n",
              "      <th>Arsenal</th>\n",
              "      <td>26.678571</td>\n",
              "    </tr>\n",
              "    <tr>\n",
              "      <th>Bournemouth</th>\n",
              "      <td>26.875000</td>\n",
              "    </tr>\n",
              "    <tr>\n",
              "      <th>Manchester+City</th>\n",
              "      <td>27.000000</td>\n",
              "    </tr>\n",
              "  </tbody>\n",
              "</table>\n",
              "</div>"
            ],
            "text/plain": [
              "                         age\n",
              "club                        \n",
              "Liverpool          24.777778\n",
              "Southampton        24.956522\n",
              "Manchester+United  25.560000\n",
              "Tottenham          25.650000\n",
              "Huddersfield       26.000000\n",
              "Everton            26.214286\n",
              "Newcastle+United   26.428571\n",
              "Arsenal            26.678571\n",
              "Bournemouth        26.875000\n",
              "Manchester+City    27.000000"
            ]
          },
          "metadata": {
            "tags": []
          },
          "execution_count": 103
        }
      ]
    },
    {
      "cell_type": "code",
      "metadata": {
        "id": "BbY0L-Nmg2lr",
        "colab_type": "code",
        "colab": {
          "base_uri": "https://localhost:8080/",
          "height": 542
        },
        "outputId": "de2d7bdb-873b-4a41-f7cb-e76df2cef794"
      },
      "source": [
        "px.bar(top, x=top.index, y='age')"
      ],
      "execution_count": 106,
      "outputs": [
        {
          "output_type": "display_data",
          "data": {
            "text/html": [
              "<html>\n",
              "<head><meta charset=\"utf-8\" /></head>\n",
              "<body>\n",
              "    <div>\n",
              "            <script src=\"https://cdnjs.cloudflare.com/ajax/libs/mathjax/2.7.5/MathJax.js?config=TeX-AMS-MML_SVG\"></script><script type=\"text/javascript\">if (window.MathJax) {MathJax.Hub.Config({SVG: {font: \"STIX-Web\"}});}</script>\n",
              "                <script type=\"text/javascript\">window.PlotlyConfig = {MathJaxConfig: 'local'};</script>\n",
              "        <script src=\"https://cdn.plot.ly/plotly-latest.min.js\"></script>    \n",
              "            <div id=\"85b5fbd2-ccae-49ee-abce-9b48fe025610\" class=\"plotly-graph-div\" style=\"height:525px; width:100%;\"></div>\n",
              "            <script type=\"text/javascript\">\n",
              "                \n",
              "                    window.PLOTLYENV=window.PLOTLYENV || {};\n",
              "                    \n",
              "                if (document.getElementById(\"85b5fbd2-ccae-49ee-abce-9b48fe025610\")) {\n",
              "                    Plotly.newPlot(\n",
              "                        '85b5fbd2-ccae-49ee-abce-9b48fe025610',\n",
              "                        [{\"alignmentgroup\": \"True\", \"hoverlabel\": {\"namelength\": 0}, \"hovertemplate\": \"x=%{x}<br>age=%{y}\", \"legendgroup\": \"\", \"marker\": {\"color\": \"#636efa\"}, \"name\": \"\", \"offsetgroup\": \"\", \"orientation\": \"v\", \"showlegend\": false, \"textposition\": \"auto\", \"type\": \"bar\", \"x\": [\"Liverpool\", \"Southampton\", \"Manchester+United\", \"Tottenham\", \"Huddersfield\", \"Everton\", \"Newcastle+United\", \"Arsenal\", \"Bournemouth\", \"Manchester+City\"], \"xaxis\": \"x\", \"y\": [24.77777777777778, 24.956521739130434, 25.56, 25.65, 26.0, 26.214285714285715, 26.428571428571427, 26.678571428571427, 26.875, 27.0], \"yaxis\": \"y\"}],\n",
              "                        {\"barmode\": \"relative\", \"legend\": {\"tracegroupgap\": 0}, \"margin\": {\"t\": 60}, \"template\": {\"data\": {\"bar\": [{\"error_x\": {\"color\": \"#2a3f5f\"}, \"error_y\": {\"color\": \"#2a3f5f\"}, \"marker\": {\"line\": {\"color\": \"#E5ECF6\", \"width\": 0.5}}, \"type\": \"bar\"}], \"barpolar\": [{\"marker\": {\"line\": {\"color\": \"#E5ECF6\", \"width\": 0.5}}, \"type\": \"barpolar\"}], \"carpet\": [{\"aaxis\": {\"endlinecolor\": \"#2a3f5f\", \"gridcolor\": \"white\", \"linecolor\": \"white\", \"minorgridcolor\": \"white\", \"startlinecolor\": \"#2a3f5f\"}, \"baxis\": {\"endlinecolor\": \"#2a3f5f\", \"gridcolor\": \"white\", \"linecolor\": \"white\", \"minorgridcolor\": \"white\", \"startlinecolor\": \"#2a3f5f\"}, \"type\": \"carpet\"}], \"choropleth\": [{\"colorbar\": {\"outlinewidth\": 0, \"ticks\": \"\"}, \"type\": \"choropleth\"}], \"contour\": [{\"colorbar\": {\"outlinewidth\": 0, \"ticks\": \"\"}, \"colorscale\": [[0.0, \"#0d0887\"], [0.1111111111111111, \"#46039f\"], [0.2222222222222222, \"#7201a8\"], [0.3333333333333333, \"#9c179e\"], [0.4444444444444444, \"#bd3786\"], [0.5555555555555556, \"#d8576b\"], [0.6666666666666666, \"#ed7953\"], [0.7777777777777778, \"#fb9f3a\"], [0.8888888888888888, \"#fdca26\"], [1.0, \"#f0f921\"]], \"type\": \"contour\"}], \"contourcarpet\": [{\"colorbar\": {\"outlinewidth\": 0, \"ticks\": \"\"}, \"type\": \"contourcarpet\"}], \"heatmap\": [{\"colorbar\": {\"outlinewidth\": 0, \"ticks\": \"\"}, \"colorscale\": [[0.0, \"#0d0887\"], [0.1111111111111111, \"#46039f\"], [0.2222222222222222, \"#7201a8\"], [0.3333333333333333, \"#9c179e\"], [0.4444444444444444, \"#bd3786\"], [0.5555555555555556, \"#d8576b\"], [0.6666666666666666, \"#ed7953\"], [0.7777777777777778, \"#fb9f3a\"], [0.8888888888888888, \"#fdca26\"], [1.0, \"#f0f921\"]], \"type\": \"heatmap\"}], \"heatmapgl\": [{\"colorbar\": {\"outlinewidth\": 0, \"ticks\": \"\"}, \"colorscale\": [[0.0, \"#0d0887\"], [0.1111111111111111, \"#46039f\"], [0.2222222222222222, \"#7201a8\"], [0.3333333333333333, \"#9c179e\"], [0.4444444444444444, \"#bd3786\"], [0.5555555555555556, \"#d8576b\"], [0.6666666666666666, \"#ed7953\"], [0.7777777777777778, \"#fb9f3a\"], [0.8888888888888888, \"#fdca26\"], [1.0, \"#f0f921\"]], \"type\": \"heatmapgl\"}], \"histogram\": [{\"marker\": {\"colorbar\": {\"outlinewidth\": 0, \"ticks\": \"\"}}, \"type\": \"histogram\"}], \"histogram2d\": [{\"colorbar\": {\"outlinewidth\": 0, \"ticks\": \"\"}, \"colorscale\": [[0.0, \"#0d0887\"], [0.1111111111111111, \"#46039f\"], [0.2222222222222222, \"#7201a8\"], [0.3333333333333333, \"#9c179e\"], [0.4444444444444444, \"#bd3786\"], [0.5555555555555556, \"#d8576b\"], [0.6666666666666666, \"#ed7953\"], [0.7777777777777778, \"#fb9f3a\"], [0.8888888888888888, \"#fdca26\"], [1.0, \"#f0f921\"]], \"type\": \"histogram2d\"}], \"histogram2dcontour\": [{\"colorbar\": {\"outlinewidth\": 0, \"ticks\": \"\"}, \"colorscale\": [[0.0, \"#0d0887\"], [0.1111111111111111, \"#46039f\"], [0.2222222222222222, \"#7201a8\"], [0.3333333333333333, \"#9c179e\"], [0.4444444444444444, \"#bd3786\"], [0.5555555555555556, \"#d8576b\"], [0.6666666666666666, \"#ed7953\"], [0.7777777777777778, \"#fb9f3a\"], [0.8888888888888888, \"#fdca26\"], [1.0, \"#f0f921\"]], \"type\": \"histogram2dcontour\"}], \"mesh3d\": [{\"colorbar\": {\"outlinewidth\": 0, \"ticks\": \"\"}, \"type\": \"mesh3d\"}], \"parcoords\": [{\"line\": {\"colorbar\": {\"outlinewidth\": 0, \"ticks\": \"\"}}, \"type\": \"parcoords\"}], \"pie\": [{\"automargin\": true, \"type\": \"pie\"}], \"scatter\": [{\"marker\": {\"colorbar\": {\"outlinewidth\": 0, \"ticks\": \"\"}}, \"type\": \"scatter\"}], \"scatter3d\": [{\"line\": {\"colorbar\": {\"outlinewidth\": 0, \"ticks\": \"\"}}, \"marker\": {\"colorbar\": {\"outlinewidth\": 0, \"ticks\": \"\"}}, \"type\": \"scatter3d\"}], \"scattercarpet\": [{\"marker\": {\"colorbar\": {\"outlinewidth\": 0, \"ticks\": \"\"}}, \"type\": \"scattercarpet\"}], \"scattergeo\": [{\"marker\": {\"colorbar\": {\"outlinewidth\": 0, \"ticks\": \"\"}}, \"type\": \"scattergeo\"}], \"scattergl\": [{\"marker\": {\"colorbar\": {\"outlinewidth\": 0, \"ticks\": \"\"}}, \"type\": \"scattergl\"}], \"scattermapbox\": [{\"marker\": {\"colorbar\": {\"outlinewidth\": 0, \"ticks\": \"\"}}, \"type\": \"scattermapbox\"}], \"scatterpolar\": [{\"marker\": {\"colorbar\": {\"outlinewidth\": 0, \"ticks\": \"\"}}, \"type\": \"scatterpolar\"}], \"scatterpolargl\": [{\"marker\": {\"colorbar\": {\"outlinewidth\": 0, \"ticks\": \"\"}}, \"type\": \"scatterpolargl\"}], \"scatterternary\": [{\"marker\": {\"colorbar\": {\"outlinewidth\": 0, \"ticks\": \"\"}}, \"type\": \"scatterternary\"}], \"surface\": [{\"colorbar\": {\"outlinewidth\": 0, \"ticks\": \"\"}, \"colorscale\": [[0.0, \"#0d0887\"], [0.1111111111111111, \"#46039f\"], [0.2222222222222222, \"#7201a8\"], [0.3333333333333333, \"#9c179e\"], [0.4444444444444444, \"#bd3786\"], [0.5555555555555556, \"#d8576b\"], [0.6666666666666666, \"#ed7953\"], [0.7777777777777778, \"#fb9f3a\"], [0.8888888888888888, \"#fdca26\"], [1.0, \"#f0f921\"]], \"type\": \"surface\"}], \"table\": [{\"cells\": {\"fill\": {\"color\": \"#EBF0F8\"}, \"line\": {\"color\": \"white\"}}, \"header\": {\"fill\": {\"color\": \"#C8D4E3\"}, \"line\": {\"color\": \"white\"}}, \"type\": \"table\"}]}, \"layout\": {\"annotationdefaults\": {\"arrowcolor\": \"#2a3f5f\", \"arrowhead\": 0, \"arrowwidth\": 1}, \"coloraxis\": {\"colorbar\": {\"outlinewidth\": 0, \"ticks\": \"\"}}, \"colorscale\": {\"diverging\": [[0, \"#8e0152\"], [0.1, \"#c51b7d\"], [0.2, \"#de77ae\"], [0.3, \"#f1b6da\"], [0.4, \"#fde0ef\"], [0.5, \"#f7f7f7\"], [0.6, \"#e6f5d0\"], [0.7, \"#b8e186\"], [0.8, \"#7fbc41\"], [0.9, \"#4d9221\"], [1, \"#276419\"]], \"sequential\": [[0.0, \"#0d0887\"], [0.1111111111111111, \"#46039f\"], [0.2222222222222222, \"#7201a8\"], [0.3333333333333333, \"#9c179e\"], [0.4444444444444444, \"#bd3786\"], [0.5555555555555556, \"#d8576b\"], [0.6666666666666666, \"#ed7953\"], [0.7777777777777778, \"#fb9f3a\"], [0.8888888888888888, \"#fdca26\"], [1.0, \"#f0f921\"]], \"sequentialminus\": [[0.0, \"#0d0887\"], [0.1111111111111111, \"#46039f\"], [0.2222222222222222, \"#7201a8\"], [0.3333333333333333, \"#9c179e\"], [0.4444444444444444, \"#bd3786\"], [0.5555555555555556, \"#d8576b\"], [0.6666666666666666, \"#ed7953\"], [0.7777777777777778, \"#fb9f3a\"], [0.8888888888888888, \"#fdca26\"], [1.0, \"#f0f921\"]]}, \"colorway\": [\"#636efa\", \"#EF553B\", \"#00cc96\", \"#ab63fa\", \"#FFA15A\", \"#19d3f3\", \"#FF6692\", \"#B6E880\", \"#FF97FF\", \"#FECB52\"], \"font\": {\"color\": \"#2a3f5f\"}, \"geo\": {\"bgcolor\": \"white\", \"lakecolor\": \"white\", \"landcolor\": \"#E5ECF6\", \"showlakes\": true, \"showland\": true, \"subunitcolor\": \"white\"}, \"hoverlabel\": {\"align\": \"left\"}, \"hovermode\": \"closest\", \"mapbox\": {\"style\": \"light\"}, \"paper_bgcolor\": \"white\", \"plot_bgcolor\": \"#E5ECF6\", \"polar\": {\"angularaxis\": {\"gridcolor\": \"white\", \"linecolor\": \"white\", \"ticks\": \"\"}, \"bgcolor\": \"#E5ECF6\", \"radialaxis\": {\"gridcolor\": \"white\", \"linecolor\": \"white\", \"ticks\": \"\"}}, \"scene\": {\"xaxis\": {\"backgroundcolor\": \"#E5ECF6\", \"gridcolor\": \"white\", \"gridwidth\": 2, \"linecolor\": \"white\", \"showbackground\": true, \"ticks\": \"\", \"zerolinecolor\": \"white\"}, \"yaxis\": {\"backgroundcolor\": \"#E5ECF6\", \"gridcolor\": \"white\", \"gridwidth\": 2, \"linecolor\": \"white\", \"showbackground\": true, \"ticks\": \"\", \"zerolinecolor\": \"white\"}, \"zaxis\": {\"backgroundcolor\": \"#E5ECF6\", \"gridcolor\": \"white\", \"gridwidth\": 2, \"linecolor\": \"white\", \"showbackground\": true, \"ticks\": \"\", \"zerolinecolor\": \"white\"}}, \"shapedefaults\": {\"line\": {\"color\": \"#2a3f5f\"}}, \"ternary\": {\"aaxis\": {\"gridcolor\": \"white\", \"linecolor\": \"white\", \"ticks\": \"\"}, \"baxis\": {\"gridcolor\": \"white\", \"linecolor\": \"white\", \"ticks\": \"\"}, \"bgcolor\": \"#E5ECF6\", \"caxis\": {\"gridcolor\": \"white\", \"linecolor\": \"white\", \"ticks\": \"\"}}, \"title\": {\"x\": 0.05}, \"xaxis\": {\"automargin\": true, \"gridcolor\": \"white\", \"linecolor\": \"white\", \"ticks\": \"\", \"title\": {\"standoff\": 15}, \"zerolinecolor\": \"white\", \"zerolinewidth\": 2}, \"yaxis\": {\"automargin\": true, \"gridcolor\": \"white\", \"linecolor\": \"white\", \"ticks\": \"\", \"title\": {\"standoff\": 15}, \"zerolinecolor\": \"white\", \"zerolinewidth\": 2}}}, \"xaxis\": {\"anchor\": \"y\", \"domain\": [0.0, 1.0], \"title\": {\"text\": \"x\"}}, \"yaxis\": {\"anchor\": \"x\", \"domain\": [0.0, 1.0], \"title\": {\"text\": \"age\"}}},\n",
              "                        {\"responsive\": true}\n",
              "                    ).then(function(){\n",
              "                            \n",
              "var gd = document.getElementById('85b5fbd2-ccae-49ee-abce-9b48fe025610');\n",
              "var x = new MutationObserver(function (mutations, observer) {{\n",
              "        var display = window.getComputedStyle(gd).display;\n",
              "        if (!display || display === 'none') {{\n",
              "            console.log([gd, 'removed!']);\n",
              "            Plotly.purge(gd);\n",
              "            observer.disconnect();\n",
              "        }}\n",
              "}});\n",
              "\n",
              "// Listen for the removal of the full notebook cells\n",
              "var notebookContainer = gd.closest('#notebook-container');\n",
              "if (notebookContainer) {{\n",
              "    x.observe(notebookContainer, {childList: true});\n",
              "}}\n",
              "\n",
              "// Listen for the clearing of the current output cell\n",
              "var outputEl = gd.closest('.output');\n",
              "if (outputEl) {{\n",
              "    x.observe(outputEl, {childList: true});\n",
              "}}\n",
              "\n",
              "                        })\n",
              "                };\n",
              "                \n",
              "            </script>\n",
              "        </div>\n",
              "</body>\n",
              "</html>"
            ]
          },
          "metadata": {
            "tags": []
          }
        }
      ]
    },
    {
      "cell_type": "code",
      "metadata": {
        "id": "ltsTjWwlinud",
        "colab_type": "code",
        "colab": {}
      },
      "source": [
        ""
      ],
      "execution_count": 0,
      "outputs": []
    },
    {
      "cell_type": "code",
      "metadata": {
        "id": "3J598IuQinpR",
        "colab_type": "code",
        "colab": {}
      },
      "source": [
        ""
      ],
      "execution_count": 0,
      "outputs": []
    },
    {
      "cell_type": "code",
      "metadata": {
        "id": "5ATlMmsXiL_o",
        "colab_type": "code",
        "colab": {}
      },
      "source": [
        ""
      ],
      "execution_count": 0,
      "outputs": []
    },
    {
      "cell_type": "markdown",
      "metadata": {
        "colab_type": "text",
        "id": "QLB6Zsj2is61"
      },
      "source": [
        "__Target 2.__\n",
        "using catplot number of people in each postion"
      ]
    },
    {
      "cell_type": "code",
      "metadata": {
        "id": "nPF8dUg5ilNS",
        "colab_type": "code",
        "colab": {}
      },
      "source": [
        ""
      ],
      "execution_count": 0,
      "outputs": []
    },
    {
      "cell_type": "markdown",
      "metadata": {
        "id": "jpWuHZaOgee9",
        "colab_type": "text"
      },
      "source": [
        "# Topic 4. Histogram\n",
        "We have 2 dataset in this Section: The data file corresponding to benign tumors into a DataFrame called cancer_b_data; while another is corresponding to malignant tumors."
      ]
    },
    {
      "cell_type": "code",
      "metadata": {
        "ExecuteTime": {
          "end_time": "2020-02-14T18:22:01.881890Z",
          "start_time": "2020-02-14T18:22:01.877730Z"
        },
        "id": "0hHtIBqMgefC",
        "colab_type": "code",
        "colab": {
          "base_uri": "https://localhost:8080/",
          "height": 258
        },
        "outputId": "39445b40-eb9a-404d-bd1d-0ec10e7aa339"
      },
      "source": [
        "# Read and show Cancer_b dataset\n",
        "Cancer_b = pd.read_csv('https://raw.githubusercontent.com/hothienlac/CS441/master/Assignment%201/dataset/cancer_b.csv')\n",
        "Cancer_b.head()"
      ],
      "execution_count": 29,
      "outputs": [
        {
          "output_type": "execute_result",
          "data": {
            "text/html": [
              "<div>\n",
              "<style scoped>\n",
              "    .dataframe tbody tr th:only-of-type {\n",
              "        vertical-align: middle;\n",
              "    }\n",
              "\n",
              "    .dataframe tbody tr th {\n",
              "        vertical-align: top;\n",
              "    }\n",
              "\n",
              "    .dataframe thead th {\n",
              "        text-align: right;\n",
              "    }\n",
              "</style>\n",
              "<table border=\"1\" class=\"dataframe\">\n",
              "  <thead>\n",
              "    <tr style=\"text-align: right;\">\n",
              "      <th></th>\n",
              "      <th>Id</th>\n",
              "      <th>Diagnosis</th>\n",
              "      <th>Radius (mean)</th>\n",
              "      <th>Texture (mean)</th>\n",
              "      <th>Perimeter (mean)</th>\n",
              "      <th>Area (mean)</th>\n",
              "      <th>Smoothness (mean)</th>\n",
              "      <th>Compactness (mean)</th>\n",
              "      <th>Concavity (mean)</th>\n",
              "      <th>Concave points (mean)</th>\n",
              "      <th>Symmetry (mean)</th>\n",
              "      <th>Fractal dimension (mean)</th>\n",
              "      <th>Radius (se)</th>\n",
              "      <th>Texture (se)</th>\n",
              "      <th>Perimeter (se)</th>\n",
              "      <th>Area (se)</th>\n",
              "      <th>Smoothness (se)</th>\n",
              "      <th>Compactness (se)</th>\n",
              "      <th>Concavity (se)</th>\n",
              "      <th>Concave points (se)</th>\n",
              "      <th>Symmetry (se)</th>\n",
              "      <th>Fractal dimension (se)</th>\n",
              "      <th>Radius (worst)</th>\n",
              "      <th>Texture (worst)</th>\n",
              "      <th>Perimeter (worst)</th>\n",
              "      <th>Area (worst)</th>\n",
              "      <th>Smoothness (worst)</th>\n",
              "      <th>Compactness (worst)</th>\n",
              "      <th>Concavity (worst)</th>\n",
              "      <th>Concave points (worst)</th>\n",
              "      <th>Symmetry (worst)</th>\n",
              "      <th>Fractal dimension (worst)</th>\n",
              "    </tr>\n",
              "  </thead>\n",
              "  <tbody>\n",
              "    <tr>\n",
              "      <th>0</th>\n",
              "      <td>8510426</td>\n",
              "      <td>B</td>\n",
              "      <td>13.540</td>\n",
              "      <td>14.36</td>\n",
              "      <td>87.46</td>\n",
              "      <td>566.3</td>\n",
              "      <td>0.09779</td>\n",
              "      <td>0.08129</td>\n",
              "      <td>0.06664</td>\n",
              "      <td>0.047810</td>\n",
              "      <td>0.1885</td>\n",
              "      <td>0.05766</td>\n",
              "      <td>0.2699</td>\n",
              "      <td>0.7886</td>\n",
              "      <td>2.058</td>\n",
              "      <td>23.560</td>\n",
              "      <td>0.008462</td>\n",
              "      <td>0.014600</td>\n",
              "      <td>0.02387</td>\n",
              "      <td>0.013150</td>\n",
              "      <td>0.01980</td>\n",
              "      <td>0.002300</td>\n",
              "      <td>15.110</td>\n",
              "      <td>19.26</td>\n",
              "      <td>99.70</td>\n",
              "      <td>711.2</td>\n",
              "      <td>0.14400</td>\n",
              "      <td>0.17730</td>\n",
              "      <td>0.23900</td>\n",
              "      <td>0.12880</td>\n",
              "      <td>0.2977</td>\n",
              "      <td>0.07259</td>\n",
              "    </tr>\n",
              "    <tr>\n",
              "      <th>1</th>\n",
              "      <td>8510653</td>\n",
              "      <td>B</td>\n",
              "      <td>13.080</td>\n",
              "      <td>15.71</td>\n",
              "      <td>85.63</td>\n",
              "      <td>520.0</td>\n",
              "      <td>0.10750</td>\n",
              "      <td>0.12700</td>\n",
              "      <td>0.04568</td>\n",
              "      <td>0.031100</td>\n",
              "      <td>0.1967</td>\n",
              "      <td>0.06811</td>\n",
              "      <td>0.1852</td>\n",
              "      <td>0.7477</td>\n",
              "      <td>1.383</td>\n",
              "      <td>14.670</td>\n",
              "      <td>0.004097</td>\n",
              "      <td>0.018980</td>\n",
              "      <td>0.01698</td>\n",
              "      <td>0.006490</td>\n",
              "      <td>0.01678</td>\n",
              "      <td>0.002425</td>\n",
              "      <td>14.500</td>\n",
              "      <td>20.49</td>\n",
              "      <td>96.09</td>\n",
              "      <td>630.5</td>\n",
              "      <td>0.13120</td>\n",
              "      <td>0.27760</td>\n",
              "      <td>0.18900</td>\n",
              "      <td>0.07283</td>\n",
              "      <td>0.3184</td>\n",
              "      <td>0.08183</td>\n",
              "    </tr>\n",
              "    <tr>\n",
              "      <th>2</th>\n",
              "      <td>8510824</td>\n",
              "      <td>B</td>\n",
              "      <td>9.504</td>\n",
              "      <td>12.44</td>\n",
              "      <td>60.34</td>\n",
              "      <td>273.9</td>\n",
              "      <td>0.10240</td>\n",
              "      <td>0.06492</td>\n",
              "      <td>0.02956</td>\n",
              "      <td>0.020760</td>\n",
              "      <td>0.1815</td>\n",
              "      <td>0.06905</td>\n",
              "      <td>0.2773</td>\n",
              "      <td>0.9768</td>\n",
              "      <td>1.909</td>\n",
              "      <td>15.700</td>\n",
              "      <td>0.009606</td>\n",
              "      <td>0.014320</td>\n",
              "      <td>0.01985</td>\n",
              "      <td>0.014210</td>\n",
              "      <td>0.02027</td>\n",
              "      <td>0.002968</td>\n",
              "      <td>10.230</td>\n",
              "      <td>15.66</td>\n",
              "      <td>65.13</td>\n",
              "      <td>314.9</td>\n",
              "      <td>0.13240</td>\n",
              "      <td>0.11480</td>\n",
              "      <td>0.08867</td>\n",
              "      <td>0.06227</td>\n",
              "      <td>0.2450</td>\n",
              "      <td>0.07773</td>\n",
              "    </tr>\n",
              "    <tr>\n",
              "      <th>3</th>\n",
              "      <td>854941</td>\n",
              "      <td>B</td>\n",
              "      <td>13.030</td>\n",
              "      <td>18.42</td>\n",
              "      <td>82.61</td>\n",
              "      <td>523.8</td>\n",
              "      <td>0.08983</td>\n",
              "      <td>0.03766</td>\n",
              "      <td>0.02562</td>\n",
              "      <td>0.029230</td>\n",
              "      <td>0.1467</td>\n",
              "      <td>0.05863</td>\n",
              "      <td>0.1839</td>\n",
              "      <td>2.3420</td>\n",
              "      <td>1.170</td>\n",
              "      <td>14.160</td>\n",
              "      <td>0.004352</td>\n",
              "      <td>0.004899</td>\n",
              "      <td>0.01343</td>\n",
              "      <td>0.011640</td>\n",
              "      <td>0.02671</td>\n",
              "      <td>0.001777</td>\n",
              "      <td>13.300</td>\n",
              "      <td>22.81</td>\n",
              "      <td>84.46</td>\n",
              "      <td>545.9</td>\n",
              "      <td>0.09701</td>\n",
              "      <td>0.04619</td>\n",
              "      <td>0.04833</td>\n",
              "      <td>0.05013</td>\n",
              "      <td>0.1987</td>\n",
              "      <td>0.06169</td>\n",
              "    </tr>\n",
              "    <tr>\n",
              "      <th>4</th>\n",
              "      <td>85713702</td>\n",
              "      <td>B</td>\n",
              "      <td>8.196</td>\n",
              "      <td>16.84</td>\n",
              "      <td>51.71</td>\n",
              "      <td>201.9</td>\n",
              "      <td>0.08600</td>\n",
              "      <td>0.05943</td>\n",
              "      <td>0.01588</td>\n",
              "      <td>0.005917</td>\n",
              "      <td>0.1769</td>\n",
              "      <td>0.06503</td>\n",
              "      <td>0.1563</td>\n",
              "      <td>0.9567</td>\n",
              "      <td>1.094</td>\n",
              "      <td>8.205</td>\n",
              "      <td>0.008968</td>\n",
              "      <td>0.016460</td>\n",
              "      <td>0.01588</td>\n",
              "      <td>0.005917</td>\n",
              "      <td>0.02574</td>\n",
              "      <td>0.002582</td>\n",
              "      <td>8.964</td>\n",
              "      <td>21.96</td>\n",
              "      <td>57.26</td>\n",
              "      <td>242.2</td>\n",
              "      <td>0.12970</td>\n",
              "      <td>0.13570</td>\n",
              "      <td>0.06880</td>\n",
              "      <td>0.02564</td>\n",
              "      <td>0.3105</td>\n",
              "      <td>0.07409</td>\n",
              "    </tr>\n",
              "  </tbody>\n",
              "</table>\n",
              "</div>"
            ],
            "text/plain": [
              "         Id Diagnosis  ...  Symmetry (worst)  Fractal dimension (worst)\n",
              "0   8510426         B  ...            0.2977                    0.07259\n",
              "1   8510653         B  ...            0.3184                    0.08183\n",
              "2   8510824         B  ...            0.2450                    0.07773\n",
              "3    854941         B  ...            0.1987                    0.06169\n",
              "4  85713702         B  ...            0.3105                    0.07409\n",
              "\n",
              "[5 rows x 32 columns]"
            ]
          },
          "metadata": {
            "tags": []
          },
          "execution_count": 29
        }
      ]
    },
    {
      "cell_type": "code",
      "metadata": {
        "id": "2-kx4Mnsy6ZF",
        "colab_type": "code",
        "colab": {
          "base_uri": "https://localhost:8080/",
          "height": 646
        },
        "outputId": "48008eff-704c-4be3-e6c0-27eebbe3ef8d"
      },
      "source": [
        "Cancer_b.info()"
      ],
      "execution_count": 30,
      "outputs": [
        {
          "output_type": "stream",
          "text": [
            "<class 'pandas.core.frame.DataFrame'>\n",
            "RangeIndex: 357 entries, 0 to 356\n",
            "Data columns (total 32 columns):\n",
            "Id                           357 non-null int64\n",
            "Diagnosis                    357 non-null object\n",
            "Radius (mean)                357 non-null float64\n",
            "Texture (mean)               357 non-null float64\n",
            "Perimeter (mean)             357 non-null float64\n",
            "Area (mean)                  357 non-null float64\n",
            "Smoothness (mean)            357 non-null float64\n",
            "Compactness (mean)           357 non-null float64\n",
            "Concavity (mean)             357 non-null float64\n",
            "Concave points (mean)        357 non-null float64\n",
            "Symmetry (mean)              357 non-null float64\n",
            "Fractal dimension (mean)     357 non-null float64\n",
            "Radius (se)                  357 non-null float64\n",
            "Texture (se)                 357 non-null float64\n",
            "Perimeter (se)               357 non-null float64\n",
            "Area (se)                    357 non-null float64\n",
            "Smoothness (se)              357 non-null float64\n",
            "Compactness (se)             357 non-null float64\n",
            "Concavity (se)               357 non-null float64\n",
            "Concave points (se)          357 non-null float64\n",
            "Symmetry (se)                357 non-null float64\n",
            "Fractal dimension (se)       357 non-null float64\n",
            "Radius (worst)               357 non-null float64\n",
            "Texture (worst)              357 non-null float64\n",
            "Perimeter (worst)            357 non-null float64\n",
            "Area (worst)                 357 non-null float64\n",
            "Smoothness (worst)           357 non-null float64\n",
            "Compactness (worst)          357 non-null float64\n",
            "Concavity (worst)            357 non-null float64\n",
            "Concave points (worst)       357 non-null float64\n",
            "Symmetry (worst)             357 non-null float64\n",
            "Fractal dimension (worst)    357 non-null float64\n",
            "dtypes: float64(30), int64(1), object(1)\n",
            "memory usage: 89.4+ KB\n"
          ],
          "name": "stdout"
        }
      ]
    },
    {
      "cell_type": "code",
      "metadata": {
        "ExecuteTime": {
          "end_time": "2020-02-14T18:22:12.195465Z",
          "start_time": "2020-02-14T18:22:12.193366Z"
        },
        "id": "p6HHwnicgefO",
        "colab_type": "code",
        "colab": {
          "base_uri": "https://localhost:8080/",
          "height": 258
        },
        "outputId": "c8494a1a-a03f-4a04-8ef6-df7f95dfd079"
      },
      "source": [
        "# Read and show Cancer_m dataset\n",
        "Cancer_m = pd.read_csv('https://raw.githubusercontent.com/hothienlac/CS441/master/Assignment%201/dataset/cancer_m.csv')\n",
        "Cancer_m.head()"
      ],
      "execution_count": 31,
      "outputs": [
        {
          "output_type": "execute_result",
          "data": {
            "text/html": [
              "<div>\n",
              "<style scoped>\n",
              "    .dataframe tbody tr th:only-of-type {\n",
              "        vertical-align: middle;\n",
              "    }\n",
              "\n",
              "    .dataframe tbody tr th {\n",
              "        vertical-align: top;\n",
              "    }\n",
              "\n",
              "    .dataframe thead th {\n",
              "        text-align: right;\n",
              "    }\n",
              "</style>\n",
              "<table border=\"1\" class=\"dataframe\">\n",
              "  <thead>\n",
              "    <tr style=\"text-align: right;\">\n",
              "      <th></th>\n",
              "      <th>Id</th>\n",
              "      <th>Diagnosis</th>\n",
              "      <th>Radius (mean)</th>\n",
              "      <th>Texture (mean)</th>\n",
              "      <th>Perimeter (mean)</th>\n",
              "      <th>Area (mean)</th>\n",
              "      <th>Smoothness (mean)</th>\n",
              "      <th>Compactness (mean)</th>\n",
              "      <th>Concavity (mean)</th>\n",
              "      <th>Concave points (mean)</th>\n",
              "      <th>Symmetry (mean)</th>\n",
              "      <th>Fractal dimension (mean)</th>\n",
              "      <th>Radius (se)</th>\n",
              "      <th>Texture (se)</th>\n",
              "      <th>Perimeter (se)</th>\n",
              "      <th>Area (se)</th>\n",
              "      <th>Smoothness (se)</th>\n",
              "      <th>Compactness (se)</th>\n",
              "      <th>Concavity (se)</th>\n",
              "      <th>Concave points (se)</th>\n",
              "      <th>Symmetry (se)</th>\n",
              "      <th>Fractal dimension (se)</th>\n",
              "      <th>Radius (worst)</th>\n",
              "      <th>Texture (worst)</th>\n",
              "      <th>Perimeter (worst)</th>\n",
              "      <th>Area (worst)</th>\n",
              "      <th>Smoothness (worst)</th>\n",
              "      <th>Compactness (worst)</th>\n",
              "      <th>Concavity (worst)</th>\n",
              "      <th>Concave points (worst)</th>\n",
              "      <th>Symmetry (worst)</th>\n",
              "      <th>Fractal dimension (worst)</th>\n",
              "    </tr>\n",
              "  </thead>\n",
              "  <tbody>\n",
              "    <tr>\n",
              "      <th>0</th>\n",
              "      <td>842302</td>\n",
              "      <td>M</td>\n",
              "      <td>17.99</td>\n",
              "      <td>10.38</td>\n",
              "      <td>122.80</td>\n",
              "      <td>1001.0</td>\n",
              "      <td>0.11840</td>\n",
              "      <td>0.27760</td>\n",
              "      <td>0.3001</td>\n",
              "      <td>0.14710</td>\n",
              "      <td>0.2419</td>\n",
              "      <td>0.07871</td>\n",
              "      <td>1.0950</td>\n",
              "      <td>0.9053</td>\n",
              "      <td>8.589</td>\n",
              "      <td>153.40</td>\n",
              "      <td>0.006399</td>\n",
              "      <td>0.04904</td>\n",
              "      <td>0.05373</td>\n",
              "      <td>0.01587</td>\n",
              "      <td>0.03003</td>\n",
              "      <td>0.006193</td>\n",
              "      <td>25.38</td>\n",
              "      <td>17.33</td>\n",
              "      <td>184.60</td>\n",
              "      <td>2019.0</td>\n",
              "      <td>0.1622</td>\n",
              "      <td>0.6656</td>\n",
              "      <td>0.7119</td>\n",
              "      <td>0.2654</td>\n",
              "      <td>0.4601</td>\n",
              "      <td>0.11890</td>\n",
              "    </tr>\n",
              "    <tr>\n",
              "      <th>1</th>\n",
              "      <td>842517</td>\n",
              "      <td>M</td>\n",
              "      <td>20.57</td>\n",
              "      <td>17.77</td>\n",
              "      <td>132.90</td>\n",
              "      <td>1326.0</td>\n",
              "      <td>0.08474</td>\n",
              "      <td>0.07864</td>\n",
              "      <td>0.0869</td>\n",
              "      <td>0.07017</td>\n",
              "      <td>0.1812</td>\n",
              "      <td>0.05667</td>\n",
              "      <td>0.5435</td>\n",
              "      <td>0.7339</td>\n",
              "      <td>3.398</td>\n",
              "      <td>74.08</td>\n",
              "      <td>0.005225</td>\n",
              "      <td>0.01308</td>\n",
              "      <td>0.01860</td>\n",
              "      <td>0.01340</td>\n",
              "      <td>0.01389</td>\n",
              "      <td>0.003532</td>\n",
              "      <td>24.99</td>\n",
              "      <td>23.41</td>\n",
              "      <td>158.80</td>\n",
              "      <td>1956.0</td>\n",
              "      <td>0.1238</td>\n",
              "      <td>0.1866</td>\n",
              "      <td>0.2416</td>\n",
              "      <td>0.1860</td>\n",
              "      <td>0.2750</td>\n",
              "      <td>0.08902</td>\n",
              "    </tr>\n",
              "    <tr>\n",
              "      <th>2</th>\n",
              "      <td>84300903</td>\n",
              "      <td>M</td>\n",
              "      <td>19.69</td>\n",
              "      <td>21.25</td>\n",
              "      <td>130.00</td>\n",
              "      <td>1203.0</td>\n",
              "      <td>0.10960</td>\n",
              "      <td>0.15990</td>\n",
              "      <td>0.1974</td>\n",
              "      <td>0.12790</td>\n",
              "      <td>0.2069</td>\n",
              "      <td>0.05999</td>\n",
              "      <td>0.7456</td>\n",
              "      <td>0.7869</td>\n",
              "      <td>4.585</td>\n",
              "      <td>94.03</td>\n",
              "      <td>0.006150</td>\n",
              "      <td>0.04006</td>\n",
              "      <td>0.03832</td>\n",
              "      <td>0.02058</td>\n",
              "      <td>0.02250</td>\n",
              "      <td>0.004571</td>\n",
              "      <td>23.57</td>\n",
              "      <td>25.53</td>\n",
              "      <td>152.50</td>\n",
              "      <td>1709.0</td>\n",
              "      <td>0.1444</td>\n",
              "      <td>0.4245</td>\n",
              "      <td>0.4504</td>\n",
              "      <td>0.2430</td>\n",
              "      <td>0.3613</td>\n",
              "      <td>0.08758</td>\n",
              "    </tr>\n",
              "    <tr>\n",
              "      <th>3</th>\n",
              "      <td>84348301</td>\n",
              "      <td>M</td>\n",
              "      <td>11.42</td>\n",
              "      <td>20.38</td>\n",
              "      <td>77.58</td>\n",
              "      <td>386.1</td>\n",
              "      <td>0.14250</td>\n",
              "      <td>0.28390</td>\n",
              "      <td>0.2414</td>\n",
              "      <td>0.10520</td>\n",
              "      <td>0.2597</td>\n",
              "      <td>0.09744</td>\n",
              "      <td>0.4956</td>\n",
              "      <td>1.1560</td>\n",
              "      <td>3.445</td>\n",
              "      <td>27.23</td>\n",
              "      <td>0.009110</td>\n",
              "      <td>0.07458</td>\n",
              "      <td>0.05661</td>\n",
              "      <td>0.01867</td>\n",
              "      <td>0.05963</td>\n",
              "      <td>0.009208</td>\n",
              "      <td>14.91</td>\n",
              "      <td>26.50</td>\n",
              "      <td>98.87</td>\n",
              "      <td>567.7</td>\n",
              "      <td>0.2098</td>\n",
              "      <td>0.8663</td>\n",
              "      <td>0.6869</td>\n",
              "      <td>0.2575</td>\n",
              "      <td>0.6638</td>\n",
              "      <td>0.17300</td>\n",
              "    </tr>\n",
              "    <tr>\n",
              "      <th>4</th>\n",
              "      <td>84358402</td>\n",
              "      <td>M</td>\n",
              "      <td>20.29</td>\n",
              "      <td>14.34</td>\n",
              "      <td>135.10</td>\n",
              "      <td>1297.0</td>\n",
              "      <td>0.10030</td>\n",
              "      <td>0.13280</td>\n",
              "      <td>0.1980</td>\n",
              "      <td>0.10430</td>\n",
              "      <td>0.1809</td>\n",
              "      <td>0.05883</td>\n",
              "      <td>0.7572</td>\n",
              "      <td>0.7813</td>\n",
              "      <td>5.438</td>\n",
              "      <td>94.44</td>\n",
              "      <td>0.011490</td>\n",
              "      <td>0.02461</td>\n",
              "      <td>0.05688</td>\n",
              "      <td>0.01885</td>\n",
              "      <td>0.01756</td>\n",
              "      <td>0.005115</td>\n",
              "      <td>22.54</td>\n",
              "      <td>16.67</td>\n",
              "      <td>152.20</td>\n",
              "      <td>1575.0</td>\n",
              "      <td>0.1374</td>\n",
              "      <td>0.2050</td>\n",
              "      <td>0.4000</td>\n",
              "      <td>0.1625</td>\n",
              "      <td>0.2364</td>\n",
              "      <td>0.07678</td>\n",
              "    </tr>\n",
              "  </tbody>\n",
              "</table>\n",
              "</div>"
            ],
            "text/plain": [
              "         Id Diagnosis  ...  Symmetry (worst)  Fractal dimension (worst)\n",
              "0    842302         M  ...            0.4601                    0.11890\n",
              "1    842517         M  ...            0.2750                    0.08902\n",
              "2  84300903         M  ...            0.3613                    0.08758\n",
              "3  84348301         M  ...            0.6638                    0.17300\n",
              "4  84358402         M  ...            0.2364                    0.07678\n",
              "\n",
              "[5 rows x 32 columns]"
            ]
          },
          "metadata": {
            "tags": []
          },
          "execution_count": 31
        }
      ]
    },
    {
      "cell_type": "markdown",
      "metadata": {
        "id": "kwrSf-yEgefa",
        "colab_type": "text"
      },
      "source": [
        "1) The data for benign tumors, what is the largest value for 'Perimeter (mean)'?"
      ]
    },
    {
      "cell_type": "code",
      "metadata": {
        "id": "KdHLK_bawHTh",
        "colab_type": "code",
        "colab": {
          "base_uri": "https://localhost:8080/",
          "height": 258
        },
        "outputId": "414a36e0-06b1-47b8-8dcf-8ead532d5941"
      },
      "source": [
        "Cancer_b.sort_values('Perimeter (mean)').head()"
      ],
      "execution_count": 32,
      "outputs": [
        {
          "output_type": "execute_result",
          "data": {
            "text/html": [
              "<div>\n",
              "<style scoped>\n",
              "    .dataframe tbody tr th:only-of-type {\n",
              "        vertical-align: middle;\n",
              "    }\n",
              "\n",
              "    .dataframe tbody tr th {\n",
              "        vertical-align: top;\n",
              "    }\n",
              "\n",
              "    .dataframe thead th {\n",
              "        text-align: right;\n",
              "    }\n",
              "</style>\n",
              "<table border=\"1\" class=\"dataframe\">\n",
              "  <thead>\n",
              "    <tr style=\"text-align: right;\">\n",
              "      <th></th>\n",
              "      <th>Id</th>\n",
              "      <th>Diagnosis</th>\n",
              "      <th>Radius (mean)</th>\n",
              "      <th>Texture (mean)</th>\n",
              "      <th>Perimeter (mean)</th>\n",
              "      <th>Area (mean)</th>\n",
              "      <th>Smoothness (mean)</th>\n",
              "      <th>Compactness (mean)</th>\n",
              "      <th>Concavity (mean)</th>\n",
              "      <th>Concave points (mean)</th>\n",
              "      <th>Symmetry (mean)</th>\n",
              "      <th>Fractal dimension (mean)</th>\n",
              "      <th>Radius (se)</th>\n",
              "      <th>Texture (se)</th>\n",
              "      <th>Perimeter (se)</th>\n",
              "      <th>Area (se)</th>\n",
              "      <th>Smoothness (se)</th>\n",
              "      <th>Compactness (se)</th>\n",
              "      <th>Concavity (se)</th>\n",
              "      <th>Concave points (se)</th>\n",
              "      <th>Symmetry (se)</th>\n",
              "      <th>Fractal dimension (se)</th>\n",
              "      <th>Radius (worst)</th>\n",
              "      <th>Texture (worst)</th>\n",
              "      <th>Perimeter (worst)</th>\n",
              "      <th>Area (worst)</th>\n",
              "      <th>Smoothness (worst)</th>\n",
              "      <th>Compactness (worst)</th>\n",
              "      <th>Concavity (worst)</th>\n",
              "      <th>Concave points (worst)</th>\n",
              "      <th>Symmetry (worst)</th>\n",
              "      <th>Fractal dimension (worst)</th>\n",
              "    </tr>\n",
              "  </thead>\n",
              "  <tbody>\n",
              "    <tr>\n",
              "      <th>35</th>\n",
              "      <td>862722</td>\n",
              "      <td>B</td>\n",
              "      <td>6.981</td>\n",
              "      <td>13.43</td>\n",
              "      <td>43.79</td>\n",
              "      <td>143.5</td>\n",
              "      <td>0.11700</td>\n",
              "      <td>0.07568</td>\n",
              "      <td>0.00000</td>\n",
              "      <td>0.000000</td>\n",
              "      <td>0.1930</td>\n",
              "      <td>0.07818</td>\n",
              "      <td>0.2241</td>\n",
              "      <td>1.5080</td>\n",
              "      <td>1.553</td>\n",
              "      <td>9.833</td>\n",
              "      <td>0.010190</td>\n",
              "      <td>0.010840</td>\n",
              "      <td>0.00000</td>\n",
              "      <td>0.000000</td>\n",
              "      <td>0.02659</td>\n",
              "      <td>0.004100</td>\n",
              "      <td>7.930</td>\n",
              "      <td>19.54</td>\n",
              "      <td>50.41</td>\n",
              "      <td>185.2</td>\n",
              "      <td>0.15840</td>\n",
              "      <td>0.12020</td>\n",
              "      <td>0.0000</td>\n",
              "      <td>0.00000</td>\n",
              "      <td>0.2932</td>\n",
              "      <td>0.09382</td>\n",
              "    </tr>\n",
              "    <tr>\n",
              "      <th>356</th>\n",
              "      <td>92751</td>\n",
              "      <td>B</td>\n",
              "      <td>7.760</td>\n",
              "      <td>24.54</td>\n",
              "      <td>47.92</td>\n",
              "      <td>181.0</td>\n",
              "      <td>0.05263</td>\n",
              "      <td>0.04362</td>\n",
              "      <td>0.00000</td>\n",
              "      <td>0.000000</td>\n",
              "      <td>0.1587</td>\n",
              "      <td>0.05884</td>\n",
              "      <td>0.3857</td>\n",
              "      <td>1.4280</td>\n",
              "      <td>2.548</td>\n",
              "      <td>19.150</td>\n",
              "      <td>0.007189</td>\n",
              "      <td>0.004660</td>\n",
              "      <td>0.00000</td>\n",
              "      <td>0.000000</td>\n",
              "      <td>0.02676</td>\n",
              "      <td>0.002783</td>\n",
              "      <td>9.456</td>\n",
              "      <td>30.37</td>\n",
              "      <td>59.16</td>\n",
              "      <td>268.6</td>\n",
              "      <td>0.08996</td>\n",
              "      <td>0.06444</td>\n",
              "      <td>0.0000</td>\n",
              "      <td>0.00000</td>\n",
              "      <td>0.2871</td>\n",
              "      <td>0.07039</td>\n",
              "    </tr>\n",
              "    <tr>\n",
              "      <th>332</th>\n",
              "      <td>921092</td>\n",
              "      <td>B</td>\n",
              "      <td>7.729</td>\n",
              "      <td>25.49</td>\n",
              "      <td>47.98</td>\n",
              "      <td>178.8</td>\n",
              "      <td>0.08098</td>\n",
              "      <td>0.04878</td>\n",
              "      <td>0.00000</td>\n",
              "      <td>0.000000</td>\n",
              "      <td>0.1870</td>\n",
              "      <td>0.07285</td>\n",
              "      <td>0.3777</td>\n",
              "      <td>1.4620</td>\n",
              "      <td>2.492</td>\n",
              "      <td>19.140</td>\n",
              "      <td>0.012660</td>\n",
              "      <td>0.009692</td>\n",
              "      <td>0.00000</td>\n",
              "      <td>0.000000</td>\n",
              "      <td>0.02882</td>\n",
              "      <td>0.006872</td>\n",
              "      <td>9.077</td>\n",
              "      <td>30.92</td>\n",
              "      <td>57.17</td>\n",
              "      <td>248.0</td>\n",
              "      <td>0.12560</td>\n",
              "      <td>0.08340</td>\n",
              "      <td>0.0000</td>\n",
              "      <td>0.00000</td>\n",
              "      <td>0.3058</td>\n",
              "      <td>0.09938</td>\n",
              "    </tr>\n",
              "    <tr>\n",
              "      <th>333</th>\n",
              "      <td>921362</td>\n",
              "      <td>B</td>\n",
              "      <td>7.691</td>\n",
              "      <td>25.44</td>\n",
              "      <td>48.34</td>\n",
              "      <td>170.4</td>\n",
              "      <td>0.08668</td>\n",
              "      <td>0.11990</td>\n",
              "      <td>0.09252</td>\n",
              "      <td>0.013640</td>\n",
              "      <td>0.2037</td>\n",
              "      <td>0.07751</td>\n",
              "      <td>0.2196</td>\n",
              "      <td>1.4790</td>\n",
              "      <td>1.445</td>\n",
              "      <td>11.730</td>\n",
              "      <td>0.015470</td>\n",
              "      <td>0.064570</td>\n",
              "      <td>0.09252</td>\n",
              "      <td>0.013640</td>\n",
              "      <td>0.02105</td>\n",
              "      <td>0.007551</td>\n",
              "      <td>8.678</td>\n",
              "      <td>31.89</td>\n",
              "      <td>54.49</td>\n",
              "      <td>223.6</td>\n",
              "      <td>0.15960</td>\n",
              "      <td>0.30640</td>\n",
              "      <td>0.3393</td>\n",
              "      <td>0.05000</td>\n",
              "      <td>0.2790</td>\n",
              "      <td>0.10660</td>\n",
              "    </tr>\n",
              "    <tr>\n",
              "      <th>4</th>\n",
              "      <td>85713702</td>\n",
              "      <td>B</td>\n",
              "      <td>8.196</td>\n",
              "      <td>16.84</td>\n",
              "      <td>51.71</td>\n",
              "      <td>201.9</td>\n",
              "      <td>0.08600</td>\n",
              "      <td>0.05943</td>\n",
              "      <td>0.01588</td>\n",
              "      <td>0.005917</td>\n",
              "      <td>0.1769</td>\n",
              "      <td>0.06503</td>\n",
              "      <td>0.1563</td>\n",
              "      <td>0.9567</td>\n",
              "      <td>1.094</td>\n",
              "      <td>8.205</td>\n",
              "      <td>0.008968</td>\n",
              "      <td>0.016460</td>\n",
              "      <td>0.01588</td>\n",
              "      <td>0.005917</td>\n",
              "      <td>0.02574</td>\n",
              "      <td>0.002582</td>\n",
              "      <td>8.964</td>\n",
              "      <td>21.96</td>\n",
              "      <td>57.26</td>\n",
              "      <td>242.2</td>\n",
              "      <td>0.12970</td>\n",
              "      <td>0.13570</td>\n",
              "      <td>0.0688</td>\n",
              "      <td>0.02564</td>\n",
              "      <td>0.3105</td>\n",
              "      <td>0.07409</td>\n",
              "    </tr>\n",
              "  </tbody>\n",
              "</table>\n",
              "</div>"
            ],
            "text/plain": [
              "           Id Diagnosis  ...  Symmetry (worst)  Fractal dimension (worst)\n",
              "35     862722         B  ...            0.2932                    0.09382\n",
              "356     92751         B  ...            0.2871                    0.07039\n",
              "332    921092         B  ...            0.3058                    0.09938\n",
              "333    921362         B  ...            0.2790                    0.10660\n",
              "4    85713702         B  ...            0.3105                    0.07409\n",
              "\n",
              "[5 rows x 32 columns]"
            ]
          },
          "metadata": {
            "tags": []
          },
          "execution_count": 32
        }
      ]
    },
    {
      "cell_type": "markdown",
      "metadata": {
        "id": "CVSKDyHxgefd",
        "colab_type": "text"
      },
      "source": [
        "2) What is the value for 'Radius (mean)' for the tumor with Id 842517"
      ]
    },
    {
      "cell_type": "code",
      "metadata": {
        "id": "sz4F53g1w87h",
        "colab_type": "code",
        "colab": {
          "base_uri": "https://localhost:8080/",
          "height": 134
        },
        "outputId": "58338f50-bc36-4650-d09d-4fa52cbad685"
      },
      "source": [
        "Cancer_m[Cancer_m['Id'] == 842517]"
      ],
      "execution_count": 33,
      "outputs": [
        {
          "output_type": "execute_result",
          "data": {
            "text/html": [
              "<div>\n",
              "<style scoped>\n",
              "    .dataframe tbody tr th:only-of-type {\n",
              "        vertical-align: middle;\n",
              "    }\n",
              "\n",
              "    .dataframe tbody tr th {\n",
              "        vertical-align: top;\n",
              "    }\n",
              "\n",
              "    .dataframe thead th {\n",
              "        text-align: right;\n",
              "    }\n",
              "</style>\n",
              "<table border=\"1\" class=\"dataframe\">\n",
              "  <thead>\n",
              "    <tr style=\"text-align: right;\">\n",
              "      <th></th>\n",
              "      <th>Id</th>\n",
              "      <th>Diagnosis</th>\n",
              "      <th>Radius (mean)</th>\n",
              "      <th>Texture (mean)</th>\n",
              "      <th>Perimeter (mean)</th>\n",
              "      <th>Area (mean)</th>\n",
              "      <th>Smoothness (mean)</th>\n",
              "      <th>Compactness (mean)</th>\n",
              "      <th>Concavity (mean)</th>\n",
              "      <th>Concave points (mean)</th>\n",
              "      <th>Symmetry (mean)</th>\n",
              "      <th>Fractal dimension (mean)</th>\n",
              "      <th>Radius (se)</th>\n",
              "      <th>Texture (se)</th>\n",
              "      <th>Perimeter (se)</th>\n",
              "      <th>Area (se)</th>\n",
              "      <th>Smoothness (se)</th>\n",
              "      <th>Compactness (se)</th>\n",
              "      <th>Concavity (se)</th>\n",
              "      <th>Concave points (se)</th>\n",
              "      <th>Symmetry (se)</th>\n",
              "      <th>Fractal dimension (se)</th>\n",
              "      <th>Radius (worst)</th>\n",
              "      <th>Texture (worst)</th>\n",
              "      <th>Perimeter (worst)</th>\n",
              "      <th>Area (worst)</th>\n",
              "      <th>Smoothness (worst)</th>\n",
              "      <th>Compactness (worst)</th>\n",
              "      <th>Concavity (worst)</th>\n",
              "      <th>Concave points (worst)</th>\n",
              "      <th>Symmetry (worst)</th>\n",
              "      <th>Fractal dimension (worst)</th>\n",
              "    </tr>\n",
              "  </thead>\n",
              "  <tbody>\n",
              "    <tr>\n",
              "      <th>1</th>\n",
              "      <td>842517</td>\n",
              "      <td>M</td>\n",
              "      <td>20.57</td>\n",
              "      <td>17.77</td>\n",
              "      <td>132.9</td>\n",
              "      <td>1326.0</td>\n",
              "      <td>0.08474</td>\n",
              "      <td>0.07864</td>\n",
              "      <td>0.0869</td>\n",
              "      <td>0.07017</td>\n",
              "      <td>0.1812</td>\n",
              "      <td>0.05667</td>\n",
              "      <td>0.5435</td>\n",
              "      <td>0.7339</td>\n",
              "      <td>3.398</td>\n",
              "      <td>74.08</td>\n",
              "      <td>0.005225</td>\n",
              "      <td>0.01308</td>\n",
              "      <td>0.0186</td>\n",
              "      <td>0.0134</td>\n",
              "      <td>0.01389</td>\n",
              "      <td>0.003532</td>\n",
              "      <td>24.99</td>\n",
              "      <td>23.41</td>\n",
              "      <td>158.8</td>\n",
              "      <td>1956.0</td>\n",
              "      <td>0.1238</td>\n",
              "      <td>0.1866</td>\n",
              "      <td>0.2416</td>\n",
              "      <td>0.186</td>\n",
              "      <td>0.275</td>\n",
              "      <td>0.08902</td>\n",
              "    </tr>\n",
              "  </tbody>\n",
              "</table>\n",
              "</div>"
            ],
            "text/plain": [
              "       Id Diagnosis  ...  Symmetry (worst)  Fractal dimension (worst)\n",
              "1  842517         M  ...             0.275                    0.08902\n",
              "\n",
              "[1 rows x 32 columns]"
            ]
          },
          "metadata": {
            "tags": []
          },
          "execution_count": 33
        }
      ]
    },
    {
      "cell_type": "markdown",
      "metadata": {
        "id": "TtzCG0Pagefg",
        "colab_type": "text"
      },
      "source": [
        "### Investigating differences\n",
        "Step 1. Create 2 histograms that show the distribution in values for `'Area (mean)'` for both benign and malignant tumors"
      ]
    },
    {
      "cell_type": "code",
      "metadata": {
        "id": "UIKEQg8Fzimj",
        "colab_type": "code",
        "colab": {
          "base_uri": "https://localhost:8080/",
          "height": 296
        },
        "outputId": "8f0cad56-ff45-4f14-e40c-ccdd9f34b3c4"
      },
      "source": [
        "sns.distplot(Cancer_b['Area (mean)'], kde=False)"
      ],
      "execution_count": 36,
      "outputs": [
        {
          "output_type": "execute_result",
          "data": {
            "text/plain": [
              "<matplotlib.axes._subplots.AxesSubplot at 0x7f0d3917fb70>"
            ]
          },
          "metadata": {
            "tags": []
          },
          "execution_count": 36
        },
        {
          "output_type": "display_data",
          "data": {
            "image/png": "[encoded data removed]",
            "text/plain": [
              "<Figure size 432x288 with 1 Axes>"
            ]
          },
          "metadata": {
            "tags": []
          }
        }
      ]
    },
    {
      "cell_type": "code",
      "metadata": {
        "id": "3QSQrH-RzhYJ",
        "colab_type": "code",
        "colab": {
          "base_uri": "https://localhost:8080/",
          "height": 296
        },
        "outputId": "7ed694cd-cab5-4755-a2fc-72836ed69284"
      },
      "source": [
        "sns.distplot(Cancer_m['Area (mean)'], kde=False)"
      ],
      "execution_count": 37,
      "outputs": [
        {
          "output_type": "execute_result",
          "data": {
            "text/plain": [
              "<matplotlib.axes._subplots.AxesSubplot at 0x7f0d391e8780>"
            ]
          },
          "metadata": {
            "tags": []
          },
          "execution_count": 37
        },
        {
          "output_type": "display_data",
          "data": {
            "image/png": "[encoded data removed]",
            "text/plain": [
              "<Figure size 432x288 with 1 Axes>"
            ]
          },
          "metadata": {
            "tags": []
          }
        }
      ]
    },
    {
      "cell_type": "code",
      "metadata": {
        "id": "bCQFcpyDUF4K",
        "colab_type": "code",
        "colab": {}
      },
      "source": [
        ""
      ],
      "execution_count": 0,
      "outputs": []
    },
    {
      "cell_type": "markdown",
      "metadata": {
        "id": "b533OfZZgefj",
        "colab_type": "text"
      },
      "source": [
        "Step 2. A researcher approaches you for help with identifying how the `'Area (mean)'` column can be used to understand the difference between benign and malignant tumors.  Based on the histograms above, \n",
        "- Do malignant tumors have higher or lower values for `'Area (mean)'` (relative to benign tumors), on average?\n",
        "- Which tumor type seems to have a larger range of potential values?"
      ]
    },
    {
      "cell_type": "code",
      "metadata": {
        "id": "ltowhurYUFsM",
        "colab_type": "code",
        "colab": {}
      },
      "source": [
        "data = list(zip(['1']*Cancer_b.size, ['Cancer_b']*Cancer_b.size, Cancer_b['Area (mean)']))\n",
        "data.extend(list(zip(['1']*Cancer_b.size,['Cancer_m']*Cancer_m.size, Cancer_m['Area (mean)'])))\n",
        "compare = pd.DataFrame(data = data, columns=['x','type', 'Area (mean)'])"
      ],
      "execution_count": 0,
      "outputs": []
    },
    {
      "cell_type": "code",
      "metadata": {
        "id": "3ve22pulbYVD",
        "colab_type": "code",
        "colab": {
          "base_uri": "https://localhost:8080/",
          "height": 204
        },
        "outputId": "65b69bb7-8eed-49ad-fe88-25828276efcc"
      },
      "source": [
        "compare.head()"
      ],
      "execution_count": 86,
      "outputs": [
        {
          "output_type": "execute_result",
          "data": {
            "text/html": [
              "<div>\n",
              "<style scoped>\n",
              "    .dataframe tbody tr th:only-of-type {\n",
              "        vertical-align: middle;\n",
              "    }\n",
              "\n",
              "    .dataframe tbody tr th {\n",
              "        vertical-align: top;\n",
              "    }\n",
              "\n",
              "    .dataframe thead th {\n",
              "        text-align: right;\n",
              "    }\n",
              "</style>\n",
              "<table border=\"1\" class=\"dataframe\">\n",
              "  <thead>\n",
              "    <tr style=\"text-align: right;\">\n",
              "      <th></th>\n",
              "      <th>x</th>\n",
              "      <th>type</th>\n",
              "      <th>Area (mean)</th>\n",
              "    </tr>\n",
              "  </thead>\n",
              "  <tbody>\n",
              "    <tr>\n",
              "      <th>0</th>\n",
              "      <td>1</td>\n",
              "      <td>Cancer_b</td>\n",
              "      <td>566.3</td>\n",
              "    </tr>\n",
              "    <tr>\n",
              "      <th>1</th>\n",
              "      <td>1</td>\n",
              "      <td>Cancer_b</td>\n",
              "      <td>520.0</td>\n",
              "    </tr>\n",
              "    <tr>\n",
              "      <th>2</th>\n",
              "      <td>1</td>\n",
              "      <td>Cancer_b</td>\n",
              "      <td>273.9</td>\n",
              "    </tr>\n",
              "    <tr>\n",
              "      <th>3</th>\n",
              "      <td>1</td>\n",
              "      <td>Cancer_b</td>\n",
              "      <td>523.8</td>\n",
              "    </tr>\n",
              "    <tr>\n",
              "      <th>4</th>\n",
              "      <td>1</td>\n",
              "      <td>Cancer_b</td>\n",
              "      <td>201.9</td>\n",
              "    </tr>\n",
              "  </tbody>\n",
              "</table>\n",
              "</div>"
            ],
            "text/plain": [
              "   x      type  Area (mean)\n",
              "0  1  Cancer_b        566.3\n",
              "1  1  Cancer_b        520.0\n",
              "2  1  Cancer_b        273.9\n",
              "3  1  Cancer_b        523.8\n",
              "4  1  Cancer_b        201.9"
            ]
          },
          "metadata": {
            "tags": []
          },
          "execution_count": 86
        }
      ]
    },
    {
      "cell_type": "code",
      "metadata": {
        "id": "Y_Wt2WbzbYK2",
        "colab_type": "code",
        "colab": {
          "base_uri": "https://localhost:8080/",
          "height": 623
        },
        "outputId": "cf0a2413-bd3b-4dad-c070-c9ebd162e597"
      },
      "source": [
        "plt.figure(figsize=(16, 10))\n",
        "sns.violinplot(x='x', y=\"Area (mean)\", hue=\"type\", data=compare, palette=\"Set2\", split=True)"
      ],
      "execution_count": 91,
      "outputs": [
        {
          "output_type": "execute_result",
          "data": {
            "text/plain": [
              "<matplotlib.axes._subplots.AxesSubplot at 0x7f0d294d44e0>"
            ]
          },
          "metadata": {
            "tags": []
          },
          "execution_count": 91
        },
        {
          "output_type": "display_data",
          "data": {
            "image/png": "[encoded data removed]",
            "text/plain": [
              "<Figure size 1152x720 with 1 Axes>"
            ]
          },
          "metadata": {
            "tags": []
          }
        }
      ]
    },
    {
      "cell_type": "code",
      "metadata": {
        "id": "NADgaJMFbYF4",
        "colab_type": "code",
        "colab": {
          "base_uri": "https://localhost:8080/",
          "height": 542
        },
        "outputId": "ddb2b6fa-78dc-4609-9480-515fd00b68ed"
      },
      "source": [
        "fig = px.violin(compare, y=\"Area (mean)\", color=\"type\",\n",
        "                violinmode='overlay',\n",
        "                hover_data=compare.columns)\n",
        "fig.show()"
      ],
      "execution_count": 94,
      "outputs": [
        {
          "output_type": "display_data",
          "data": {
            "text/html": [
              "<html>\n",
              "<head><meta charset=\"utf-8\" /></head>\n",
              "<body>\n",
              "    <div>\n",
              "            <script src=\"https://cdnjs.cloudflare.com/ajax/libs/mathjax/2.7.5/MathJax.js?config=TeX-AMS-MML_SVG\"></script><script type=\"text/javascript\">if (window.MathJax) {MathJax.Hub.Config({SVG: {font: \"STIX-Web\"}});}</script>\n",
              "                <script type=\"text/javascript\">window.PlotlyConfig = {MathJaxConfig: 'local'};</script>\n",
              "        <script src=\"https://cdn.plot.ly/plotly-latest.min.js\"></script>    \n",
              "            <div id=\"ecb19049-dd95-4686-be1f-89dc3daa6c3a\" class=\"plotly-graph-div\" style=\"height:525px; width:100%;\"></div>\n",
              "            <script type=\"text/javascript\">\n",
              "                \n",
              "                    window.PLOTLYENV=window.PLOTLYENV || {};\n",
              "                    \n",
              "                if (document.getElementById(\"ecb19049-dd95-4686-be1f-89dc3daa6c3a\")) {\n",
              "                    Plotly.newPlot(\n",
              "                        'ecb19049-dd95-4686-be1f-89dc3daa6c3a',\n",
              "                        [{\"alignmentgroup\": \"True\", \"box\": {\"visible\": false}, \"customdata\": [[\"1\", \"Cancer_b\", 566.3], [\"1\", \"Cancer_b\", 520.0], [\"1\", \"Cancer_b\", 273.9], [\"1\", \"Cancer_b\", 523.8], [\"1\", \"Cancer_b\", 201.9], [\"1\", \"Cancer_b\", 449.3], [\"1\", \"Cancer_b\", 561.0], [\"1\", \"Cancer_b\", 427.9], [\"1\", \"Cancer_b\", 571.8], [\"1\", \"Cancer_b\", 437.6], [\"1\", \"Cancer_b\", 409.0], [\"1\", \"Cancer_b\", 527.2], [\"1\", \"Cancer_b\", 224.5], [\"1\", \"Cancer_b\", 311.9], [\"1\", \"Cancer_b\", 221.8], [\"1\", \"Cancer_b\", 260.9], [\"1\", \"Cancer_b\", 269.4], [\"1\", \"Cancer_b\", 394.1], [\"1\", \"Cancer_b\", 250.5], [\"1\", \"Cancer_b\", 502.5], [\"1\", \"Cancer_b\", 244.0], [\"1\", \"Cancer_b\", 470.9], [\"1\", \"Cancer_b\", 559.2], [\"1\", \"Cancer_b\", 506.3], [\"1\", \"Cancer_b\", 401.5], [\"1\", \"Cancer_b\", 520.0], [\"1\", \"Cancer_b\", 443.3], [\"1\", \"Cancer_b\", 466.1], [\"1\", \"Cancer_b\", 651.9], [\"1\", \"Cancer_b\", 662.7], [\"1\", \"Cancer_b\", 551.7], [\"1\", \"Cancer_b\", 555.1], [\"1\", \"Cancer_b\", 451.1], [\"1\", \"Cancer_b\", 294.5], [\"1\", \"Cancer_b\", 412.6], [\"1\", \"Cancer_b\", 143.5], [\"1\", \"Cancer_b\", 458.7], [\"1\", \"Cancer_b\", 298.3], [\"1\", \"Cancer_b\", 336.1], [\"1\", \"Cancer_b\", 412.5], [\"1\", \"Cancer_b\", 466.7], [\"1\", \"Cancer_b\", 396.5], [\"1\", \"Cancer_b\", 290.2], [\"1\", \"Cancer_b\", 480.4], [\"1\", \"Cancer_b\", 629.9], [\"1\", \"Cancer_b\", 334.2], [\"1\", \"Cancer_b\", 230.9], [\"1\", \"Cancer_b\", 438.6], [\"1\", \"Cancer_b\", 245.2], [\"1\", \"Cancer_b\", 403.3], [\"1\", \"Cancer_b\", 640.7], [\"1\", \"Cancer_b\", 553.5], [\"1\", \"Cancer_b\", 588.7], [\"1\", \"Cancer_b\", 674.5], [\"1\", \"Cancer_b\", 455.8], [\"1\", \"Cancer_b\", 761.7], [\"1\", \"Cancer_b\", 423.6], [\"1\", \"Cancer_b\", 399.8], [\"1\", \"Cancer_b\", 384.8], [\"1\", \"Cancer_b\", 288.5], [\"1\", \"Cancer_b\", 398.0], [\"1\", \"Cancer_b\", 512.2], [\"1\", \"Cancer_b\", 355.3], [\"1\", \"Cancer_b\", 432.8], [\"1\", \"Cancer_b\", 689.5], [\"1\", \"Cancer_b\", 640.1], [\"1\", \"Cancer_b\", 585.0], [\"1\", \"Cancer_b\", 519.4], [\"1\", \"Cancer_b\", 203.9], [\"1\", \"Cancer_b\", 300.2], [\"1\", \"Cancer_b\", 381.9], [\"1\", \"Cancer_b\", 538.9], [\"1\", \"Cancer_b\", 460.3], [\"1\", \"Cancer_b\", 880.2], [\"1\", \"Cancer_b\", 448.6], [\"1\", \"Cancer_b\", 366.8], [\"1\", \"Cancer_b\", 419.8], [\"1\", \"Cancer_b\", 464.5], [\"1\", \"Cancer_b\", 690.2], [\"1\", \"Cancer_b\", 357.6], [\"1\", \"Cancer_b\", 685.9], [\"1\", \"Cancer_b\", 464.1], [\"1\", \"Cancer_b\", 372.7], [\"1\", \"Cancer_b\", 349.6], [\"1\", \"Cancer_b\", 227.2], [\"1\", \"Cancer_b\", 302.4], [\"1\", \"Cancer_b\", 526.4], [\"1\", \"Cancer_b\", 508.8], [\"1\", \"Cancer_b\", 402.0], [\"1\", \"Cancer_b\", 317.5], [\"1\", \"Cancer_b\", 420.3], [\"1\", \"Cancer_b\", 428.9], [\"1\", \"Cancer_b\", 463.7], [\"1\", \"Cancer_b\", 507.4], [\"1\", \"Cancer_b\", 288.1], [\"1\", \"Cancer_b\", 516.4], [\"1\", \"Cancer_b\", 461.0], [\"1\", \"Cancer_b\", 481.9], [\"1\", \"Cancer_b\", 295.4], [\"1\", \"Cancer_b\", 529.4], [\"1\", \"Cancer_b\", 725.5], [\"1\", \"Cancer_b\", 428.0], [\"1\", \"Cancer_b\", 432.2], [\"1\", \"Cancer_b\", 321.2], [\"1\", \"Cancer_b\", 568.9], [\"1\", \"Cancer_b\", 561.3], [\"1\", \"Cancer_b\", 313.1], [\"1\", \"Cancer_b\", 546.4], [\"1\", \"Cancer_b\", 641.2], [\"1\", \"Cancer_b\", 329.6], [\"1\", \"Cancer_b\", 684.5], [\"1\", \"Cancer_b\", 496.4], [\"1\", \"Cancer_b\", 395.7], [\"1\", \"Cancer_b\", 386.8], [\"1\", \"Cancer_b\", 279.6], [\"1\", \"Cancer_b\", 603.4], [\"1\", \"Cancer_b\", 623.9], [\"1\", \"Cancer_b\", 575.3], [\"1\", \"Cancer_b\", 476.5], [\"1\", \"Cancer_b\", 389.4], [\"1\", \"Cancer_b\", 590.0], [\"1\", \"Cancer_b\", 337.7], [\"1\", \"Cancer_b\", 541.6], [\"1\", \"Cancer_b\", 512.2], [\"1\", \"Cancer_b\", 347.0], [\"1\", \"Cancer_b\", 406.3], [\"1\", \"Cancer_b\", 407.4], [\"1\", \"Cancer_b\", 346.4], [\"1\", \"Cancer_b\", 561.0], [\"1\", \"Cancer_b\", 512.2], [\"1\", \"Cancer_b\", 344.9], [\"1\", \"Cancer_b\", 632.6], [\"1\", \"Cancer_b\", 388.0], [\"1\", \"Cancer_b\", 289.9], [\"1\", \"Cancer_b\", 435.6], [\"1\", \"Cancer_b\", 396.6], [\"1\", \"Cancer_b\", 572.3], [\"1\", \"Cancer_b\", 587.4], [\"1\", \"Cancer_b\", 427.3], [\"1\", \"Cancer_b\", 516.6], [\"1\", \"Cancer_b\", 489.0], [\"1\", \"Cancer_b\", 441.0], [\"1\", \"Cancer_b\", 515.9], [\"1\", \"Cancer_b\", 394.1], [\"1\", \"Cancer_b\", 396.0], [\"1\", \"Cancer_b\", 651.0], [\"1\", \"Cancer_b\", 687.3], [\"1\", \"Cancer_b\", 513.7], [\"1\", \"Cancer_b\", 432.7], [\"1\", \"Cancer_b\", 492.1], [\"1\", \"Cancer_b\", 582.7], [\"1\", \"Cancer_b\", 363.7], [\"1\", \"Cancer_b\", 633.1], [\"1\", \"Cancer_b\", 334.2], [\"1\", \"Cancer_b\", 471.3], [\"1\", \"Cancer_b\", 334.3], [\"1\", \"Cancer_b\", 403.1], [\"1\", \"Cancer_b\", 417.2], [\"1\", \"Cancer_b\", 537.3], [\"1\", \"Cancer_b\", 246.3], [\"1\", \"Cancer_b\", 566.2], [\"1\", \"Cancer_b\", 530.6], [\"1\", \"Cancer_b\", 418.7], [\"1\", \"Cancer_b\", 664.9], [\"1\", \"Cancer_b\", 504.1], [\"1\", \"Cancer_b\", 409.1], [\"1\", \"Cancer_b\", 221.2], [\"1\", \"Cancer_b\", 481.6], [\"1\", \"Cancer_b\", 461.4], [\"1\", \"Cancer_b\", 244.5], [\"1\", \"Cancer_b\", 477.3], [\"1\", \"Cancer_b\", 324.2], [\"1\", \"Cancer_b\", 504.8], [\"1\", \"Cancer_b\", 457.9], [\"1\", \"Cancer_b\", 489.9], [\"1\", \"Cancer_b\", 616.5], [\"1\", \"Cancer_b\", 446.0], [\"1\", \"Cancer_b\", 514.0], [\"1\", \"Cancer_b\", 387.3], [\"1\", \"Cancer_b\", 390.0], [\"1\", \"Cancer_b\", 464.4], [\"1\", \"Cancer_b\", 514.3], [\"1\", \"Cancer_b\", 310.8], [\"1\", \"Cancer_b\", 641.2], [\"1\", \"Cancer_b\", 280.5], [\"1\", \"Cancer_b\", 373.9], [\"1\", \"Cancer_b\", 420.3], [\"1\", \"Cancer_b\", 321.6], [\"1\", \"Cancer_b\", 445.3], [\"1\", \"Cancer_b\", 668.7], [\"1\", \"Cancer_b\", 402.7], [\"1\", \"Cancer_b\", 426.7], [\"1\", \"Cancer_b\", 421.0], [\"1\", \"Cancer_b\", 384.6], [\"1\", \"Cancer_b\", 485.8], [\"1\", \"Cancer_b\", 512.0], [\"1\", \"Cancer_b\", 593.7], [\"1\", \"Cancer_b\", 241.0], [\"1\", \"Cancer_b\", 278.6], [\"1\", \"Cancer_b\", 491.9], [\"1\", \"Cancer_b\", 546.1], [\"1\", \"Cancer_b\", 496.6], [\"1\", \"Cancer_b\", 838.1], [\"1\", \"Cancer_b\", 552.4], [\"1\", \"Cancer_b\", 458.4], [\"1\", \"Cancer_b\", 711.8], [\"1\", \"Cancer_b\", 579.1], [\"1\", \"Cancer_b\", 788.5], [\"1\", \"Cancer_b\", 338.3], [\"1\", \"Cancer_b\", 562.1], [\"1\", \"Cancer_b\", 580.6], [\"1\", \"Cancer_b\", 386.3], [\"1\", \"Cancer_b\", 372.7], [\"1\", \"Cancer_b\", 447.8], [\"1\", \"Cancer_b\", 462.9], [\"1\", \"Cancer_b\", 541.8], [\"1\", \"Cancer_b\", 462.0], [\"1\", \"Cancer_b\", 596.6], [\"1\", \"Cancer_b\", 392.0], [\"1\", \"Cancer_b\", 321.6], [\"1\", \"Cancer_b\", 234.3], [\"1\", \"Cancer_b\", 446.2], [\"1\", \"Cancer_b\", 609.1], [\"1\", \"Cancer_b\", 558.1], [\"1\", \"Cancer_b\", 508.3], [\"1\", \"Cancer_b\", 378.2], [\"1\", \"Cancer_b\", 431.9], [\"1\", \"Cancer_b\", 442.7], [\"1\", \"Cancer_b\", 525.2], [\"1\", \"Cancer_b\", 507.6], [\"1\", \"Cancer_b\", 469.1], [\"1\", \"Cancer_b\", 370.0], [\"1\", \"Cancer_b\", 800.0], [\"1\", \"Cancer_b\", 514.5], [\"1\", \"Cancer_b\", 466.1], [\"1\", \"Cancer_b\", 399.8], [\"1\", \"Cancer_b\", 373.2], [\"1\", \"Cancer_b\", 268.8], [\"1\", \"Cancer_b\", 693.7], [\"1\", \"Cancer_b\", 433.8], [\"1\", \"Cancer_b\", 271.2], [\"1\", \"Cancer_b\", 495.0], [\"1\", \"Cancer_b\", 380.3], [\"1\", \"Cancer_b\", 409.7], [\"1\", \"Cancer_b\", 656.1], [\"1\", \"Cancer_b\", 408.2], [\"1\", \"Cancer_b\", 575.3], [\"1\", \"Cancer_b\", 289.7], [\"1\", \"Cancer_b\", 307.3], [\"1\", \"Cancer_b\", 333.6], [\"1\", \"Cancer_b\", 359.9], [\"1\", \"Cancer_b\", 381.1], [\"1\", \"Cancer_b\", 501.3], [\"1\", \"Cancer_b\", 467.8], [\"1\", \"Cancer_b\", 673.7], [\"1\", \"Cancer_b\", 509.2], [\"1\", \"Cancer_b\", 611.2], [\"1\", \"Cancer_b\", 592.6], [\"1\", \"Cancer_b\", 606.5], [\"1\", \"Cancer_b\", 371.5], [\"1\", \"Cancer_b\", 585.9], [\"1\", \"Cancer_b\", 340.9], [\"1\", \"Cancer_b\", 441.3], [\"1\", \"Cancer_b\", 674.8], [\"1\", \"Cancer_b\", 659.7], [\"1\", \"Cancer_b\", 432.0], [\"1\", \"Cancer_b\", 442.5], [\"1\", \"Cancer_b\", 644.2], [\"1\", \"Cancer_b\", 492.9], [\"1\", \"Cancer_b\", 557.2], [\"1\", \"Cancer_b\", 415.1], [\"1\", \"Cancer_b\", 537.9], [\"1\", \"Cancer_b\", 520.2], [\"1\", \"Cancer_b\", 290.9], [\"1\", \"Cancer_b\", 646.1], [\"1\", \"Cancer_b\", 412.7], [\"1\", \"Cancer_b\", 537.3], [\"1\", \"Cancer_b\", 542.9], [\"1\", \"Cancer_b\", 536.9], [\"1\", \"Cancer_b\", 286.3], [\"1\", \"Cancer_b\", 408.8], [\"1\", \"Cancer_b\", 289.1], [\"1\", \"Cancer_b\", 449.9], [\"1\", \"Cancer_b\", 686.9], [\"1\", \"Cancer_b\", 465.4], [\"1\", \"Cancer_b\", 358.9], [\"1\", \"Cancer_b\", 506.9], [\"1\", \"Cancer_b\", 618.4], [\"1\", \"Cancer_b\", 599.4], [\"1\", \"Cancer_b\", 404.9], [\"1\", \"Cancer_b\", 455.3], [\"1\", \"Cancer_b\", 602.9], [\"1\", \"Cancer_b\", 546.3], [\"1\", \"Cancer_b\", 571.1], [\"1\", \"Cancer_b\", 747.2], [\"1\", \"Cancer_b\", 476.7], [\"1\", \"Cancer_b\", 666.0], [\"1\", \"Cancer_b\", 420.5], [\"1\", \"Cancer_b\", 466.5], [\"1\", \"Cancer_b\", 992.1], [\"1\", \"Cancer_b\", 477.3], [\"1\", \"Cancer_b\", 538.7], [\"1\", \"Cancer_b\", 680.9], [\"1\", \"Cancer_b\", 485.6], [\"1\", \"Cancer_b\", 480.1], [\"1\", \"Cancer_b\", 689.4], [\"1\", \"Cancer_b\", 476.3], [\"1\", \"Cancer_b\", 248.7], [\"1\", \"Cancer_b\", 272.5], [\"1\", \"Cancer_b\", 453.1], [\"1\", \"Cancer_b\", 366.5], [\"1\", \"Cancer_b\", 819.8], [\"1\", \"Cancer_b\", 426.0], [\"1\", \"Cancer_b\", 680.7], [\"1\", \"Cancer_b\", 658.8], [\"1\", \"Cancer_b\", 391.2], [\"1\", \"Cancer_b\", 493.1], [\"1\", \"Cancer_b\", 493.8], [\"1\", \"Cancer_b\", 257.8], [\"1\", \"Cancer_b\", 388.1], [\"1\", \"Cancer_b\", 571.0], [\"1\", \"Cancer_b\", 293.2], [\"1\", \"Cancer_b\", 221.3], [\"1\", \"Cancer_b\", 551.1], [\"1\", \"Cancer_b\", 468.5], [\"1\", \"Cancer_b\", 594.2], [\"1\", \"Cancer_b\", 445.2], [\"1\", \"Cancer_b\", 422.9], [\"1\", \"Cancer_b\", 416.2], [\"1\", \"Cancer_b\", 575.5], [\"1\", \"Cancer_b\", 365.6], [\"1\", \"Cancer_b\", 406.4], [\"1\", \"Cancer_b\", 178.8], [\"1\", \"Cancer_b\", 170.4], [\"1\", \"Cancer_b\", 402.9], [\"1\", \"Cancer_b\", 656.4], [\"1\", \"Cancer_b\", 668.6], [\"1\", \"Cancer_b\", 538.4], [\"1\", \"Cancer_b\", 584.8], [\"1\", \"Cancer_b\", 573.2], [\"1\", \"Cancer_b\", 324.9], [\"1\", \"Cancer_b\", 320.8], [\"1\", \"Cancer_b\", 285.7], [\"1\", \"Cancer_b\", 361.6], [\"1\", \"Cancer_b\", 360.5], [\"1\", \"Cancer_b\", 378.4], [\"1\", \"Cancer_b\", 507.9], [\"1\", \"Cancer_b\", 264.0], [\"1\", \"Cancer_b\", 514.3], [\"1\", \"Cancer_b\", 321.4], [\"1\", \"Cancer_b\", 311.7], [\"1\", \"Cancer_b\", 271.3], [\"1\", \"Cancer_b\", 657.1], [\"1\", \"Cancer_b\", 403.5], [\"1\", \"Cancer_b\", 600.4], [\"1\", \"Cancer_b\", 386.0], [\"1\", \"Cancer_b\", 181.0]], \"hoverlabel\": {\"namelength\": 0}, \"hovertemplate\": \"type=%{customdata[1]}<br>Area (mean)=%{customdata[2]}<br>x=%{customdata[0]}\", \"legendgroup\": \"type=Cancer_b\", \"marker\": {\"color\": \"#636efa\"}, \"name\": \"type=Cancer_b\", \"offsetgroup\": \"type=Cancer_b\", \"orientation\": \"v\", \"scalegroup\": \"True\", \"showlegend\": true, \"type\": \"violin\", \"x0\": \" \", \"xaxis\": \"x\", \"y\": [566.3, 520.0, 273.9, 523.8, 201.9, 449.3, 561.0, 427.9, 571.8, 437.6, 409.0, 527.2, 224.5, 311.9, 221.8, 260.9, 269.4, 394.1, 250.5, 502.5, 244.0, 470.9, 559.2, 506.3, 401.5, 520.0, 443.3, 466.1, 651.9, 662.7, 551.7, 555.1, 451.1, 294.5, 412.6, 143.5, 458.7, 298.3, 336.1, 412.5, 466.7, 396.5, 290.2, 480.4, 629.9, 334.2, 230.9, 438.6, 245.2, 403.3, 640.7, 553.5, 588.7, 674.5, 455.8, 761.7, 423.6, 399.8, 384.8, 288.5, 398.0, 512.2, 355.3, 432.8, 689.5, 640.1, 585.0, 519.4, 203.9, 300.2, 381.9, 538.9, 460.3, 880.2, 448.6, 366.8, 419.8, 464.5, 690.2, 357.6, 685.9, 464.1, 372.7, 349.6, 227.2, 302.4, 526.4, 508.8, 402.0, 317.5, 420.3, 428.9, 463.7, 507.4, 288.1, 516.4, 461.0, 481.9, 295.4, 529.4, 725.5, 428.0, 432.2, 321.2, 568.9, 561.3, 313.1, 546.4, 641.2, 329.6, 684.5, 496.4, 395.7, 386.8, 279.6, 603.4, 623.9, 575.3, 476.5, 389.4, 590.0, 337.7, 541.6, 512.2, 347.0, 406.3, 407.4, 346.4, 561.0, 512.2, 344.9, 632.6, 388.0, 289.9, 435.6, 396.6, 572.3, 587.4, 427.3, 516.6, 489.0, 441.0, 515.9, 394.1, 396.0, 651.0, 687.3, 513.7, 432.7, 492.1, 582.7, 363.7, 633.1, 334.2, 471.3, 334.3, 403.1, 417.2, 537.3, 246.3, 566.2, 530.6, 418.7, 664.9, 504.1, 409.1, 221.2, 481.6, 461.4, 244.5, 477.3, 324.2, 504.8, 457.9, 489.9, 616.5, 446.0, 514.0, 387.3, 390.0, 464.4, 514.3, 310.8, 641.2, 280.5, 373.9, 420.3, 321.6, 445.3, 668.7, 402.7, 426.7, 421.0, 384.6, 485.8, 512.0, 593.7, 241.0, 278.6, 491.9, 546.1, 496.6, 838.1, 552.4, 458.4, 711.8, 579.1, 788.5, 338.3, 562.1, 580.6, 386.3, 372.7, 447.8, 462.9, 541.8, 462.0, 596.6, 392.0, 321.6, 234.3, 446.2, 609.1, 558.1, 508.3, 378.2, 431.9, 442.7, 525.2, 507.6, 469.1, 370.0, 800.0, 514.5, 466.1, 399.8, 373.2, 268.8, 693.7, 433.8, 271.2, 495.0, 380.3, 409.7, 656.1, 408.2, 575.3, 289.7, 307.3, 333.6, 359.9, 381.1, 501.3, 467.8, 673.7, 509.2, 611.2, 592.6, 606.5, 371.5, 585.9, 340.9, 441.3, 674.8, 659.7, 432.0, 442.5, 644.2, 492.9, 557.2, 415.1, 537.9, 520.2, 290.9, 646.1, 412.7, 537.3, 542.9, 536.9, 286.3, 408.8, 289.1, 449.9, 686.9, 465.4, 358.9, 506.9, 618.4, 599.4, 404.9, 455.3, 602.9, 546.3, 571.1, 747.2, 476.7, 666.0, 420.5, 466.5, 992.1, 477.3, 538.7, 680.9, 485.6, 480.1, 689.4, 476.3, 248.7, 272.5, 453.1, 366.5, 819.8, 426.0, 680.7, 658.8, 391.2, 493.1, 493.8, 257.8, 388.1, 571.0, 293.2, 221.3, 551.1, 468.5, 594.2, 445.2, 422.9, 416.2, 575.5, 365.6, 406.4, 178.8, 170.4, 402.9, 656.4, 668.6, 538.4, 584.8, 573.2, 324.9, 320.8, 285.7, 361.6, 360.5, 378.4, 507.9, 264.0, 514.3, 321.4, 311.7, 271.3, 657.1, 403.5, 600.4, 386.0, 181.0], \"y0\": \" \", \"yaxis\": \"y\"}, {\"alignmentgroup\": \"True\", \"box\": {\"visible\": false}, \"customdata\": [[\"1\", \"Cancer_m\", 1001.0], [\"1\", \"Cancer_m\", 1326.0], [\"1\", \"Cancer_m\", 1203.0], [\"1\", \"Cancer_m\", 386.1], [\"1\", \"Cancer_m\", 1297.0], [\"1\", \"Cancer_m\", 477.1], [\"1\", \"Cancer_m\", 1040.0], [\"1\", \"Cancer_m\", 577.9], [\"1\", \"Cancer_m\", 519.8], [\"1\", \"Cancer_m\", 475.9], [\"1\", \"Cancer_m\", 797.8], [\"1\", \"Cancer_m\", 781.0], [\"1\", \"Cancer_m\", 1123.0], [\"1\", \"Cancer_m\", 782.7], [\"1\", \"Cancer_m\", 578.3], [\"1\", \"Cancer_m\", 658.8], [\"1\", \"Cancer_m\", 684.5], [\"1\", \"Cancer_m\", 798.8], [\"1\", \"Cancer_m\", 1260.0], [\"1\", \"Cancer_m\", 704.4], [\"1\", \"Cancer_m\", 1404.0], [\"1\", \"Cancer_m\", 904.6], [\"1\", \"Cancer_m\", 912.7], [\"1\", \"Cancer_m\", 644.8], [\"1\", \"Cancer_m\", 1094.0], [\"1\", \"Cancer_m\", 732.4], [\"1\", \"Cancer_m\", 955.1], [\"1\", \"Cancer_m\", 1088.0], [\"1\", \"Cancer_m\", 440.6], [\"1\", \"Cancer_m\", 899.3], [\"1\", \"Cancer_m\", 1162.0], [\"1\", \"Cancer_m\", 807.2], [\"1\", \"Cancer_m\", 869.5], [\"1\", \"Cancer_m\", 633.0], [\"1\", \"Cancer_m\", 698.8], [\"1\", \"Cancer_m\", 559.2], [\"1\", \"Cancer_m\", 563.0], [\"1\", \"Cancer_m\", 371.1], [\"1\", \"Cancer_m\", 1104.0], [\"1\", \"Cancer_m\", 545.2], [\"1\", \"Cancer_m\", 531.5], [\"1\", \"Cancer_m\", 1076.0], [\"1\", \"Cancer_m\", 534.6], [\"1\", \"Cancer_m\", 1033.0], [\"1\", \"Cancer_m\", 712.8], [\"1\", \"Cancer_m\", 1152.0], [\"1\", \"Cancer_m\", 656.9], [\"1\", \"Cancer_m\", 645.7], [\"1\", \"Cancer_m\", 499.0], [\"1\", \"Cancer_m\", 668.3], [\"1\", \"Cancer_m\", 1130.0], [\"1\", \"Cancer_m\", 929.4], [\"1\", \"Cancer_m\", 584.1], [\"1\", \"Cancer_m\", 817.7], [\"1\", \"Cancer_m\", 1006.0], [\"1\", \"Cancer_m\", 1245.0], [\"1\", \"Cancer_m\", 1878.0], [\"1\", \"Cancer_m\", 1132.0], [\"1\", \"Cancer_m\", 1075.0], [\"1\", \"Cancer_m\", 648.2], [\"1\", \"Cancer_m\", 1076.0], [\"1\", \"Cancer_m\", 728.2], [\"1\", \"Cancer_m\", 705.6], [\"1\", \"Cancer_m\", 1264.0], [\"1\", \"Cancer_m\", 642.5], [\"1\", \"Cancer_m\", 582.7], [\"1\", \"Cancer_m\", 530.2], [\"1\", \"Cancer_m\", 1509.0], [\"1\", \"Cancer_m\", 682.5], [\"1\", \"Cancer_m\", 782.6], [\"1\", \"Cancer_m\", 982.0], [\"1\", \"Cancer_m\", 1077.0], [\"1\", \"Cancer_m\", 1761.0], [\"1\", \"Cancer_m\", 572.6], [\"1\", \"Cancer_m\", 1138.0], [\"1\", \"Cancer_m\", 1192.0], [\"1\", \"Cancer_m\", 748.9], [\"1\", \"Cancer_m\", 809.8], [\"1\", \"Cancer_m\", 1075.0], [\"1\", \"Cancer_m\", 506.3], [\"1\", \"Cancer_m\", 678.1], [\"1\", \"Cancer_m\", 813.0], [\"1\", \"Cancer_m\", 432.0], [\"1\", \"Cancer_m\", 963.7], [\"1\", \"Cancer_m\", 1157.0], [\"1\", \"Cancer_m\", 1214.0], [\"1\", \"Cancer_m\", 1686.0], [\"1\", \"Cancer_m\", 886.3], [\"1\", \"Cancer_m\", 984.6], [\"1\", \"Cancer_m\", 565.4], [\"1\", \"Cancer_m\", 736.9], [\"1\", \"Cancer_m\", 832.9], [\"1\", \"Cancer_m\", 2250.0], [\"1\", \"Cancer_m\", 1311.0], [\"1\", \"Cancer_m\", 766.6], [\"1\", \"Cancer_m\", 710.6], [\"1\", \"Cancer_m\", 1041.0], [\"1\", \"Cancer_m\", 609.9], [\"1\", \"Cancer_m\", 477.4], [\"1\", \"Cancer_m\", 671.4], [\"1\", \"Cancer_m\", 588.9], [\"1\", \"Cancer_m\", 1024.0], [\"1\", \"Cancer_m\", 1148.0], [\"1\", \"Cancer_m\", 642.7], [\"1\", \"Cancer_m\", 951.6], [\"1\", \"Cancer_m\", 1685.0], [\"1\", \"Cancer_m\", 597.8], [\"1\", \"Cancer_m\", 716.6], [\"1\", \"Cancer_m\", 904.3], [\"1\", \"Cancer_m\", 1290.0], [\"1\", \"Cancer_m\", 2499.0], [\"1\", \"Cancer_m\", 948.0], [\"1\", \"Cancer_m\", 610.7], [\"1\", \"Cancer_m\", 578.9], [\"1\", \"Cancer_m\", 1230.0], [\"1\", \"Cancer_m\", 1223.0], [\"1\", \"Cancer_m\", 761.3], [\"1\", \"Cancer_m\", 503.2], [\"1\", \"Cancer_m\", 895.0], [\"1\", \"Cancer_m\", 1319.0], [\"1\", \"Cancer_m\", 1670.0], [\"1\", \"Cancer_m\", 1306.0], [\"1\", \"Cancer_m\", 920.6], [\"1\", \"Cancer_m\", 1155.0], [\"1\", \"Cancer_m\", 1364.0], [\"1\", \"Cancer_m\", 1206.0], [\"1\", \"Cancer_m\", 928.2], [\"1\", \"Cancer_m\", 1169.0], [\"1\", \"Cancer_m\", 602.4], [\"1\", \"Cancer_m\", 1207.0], [\"1\", \"Cancer_m\", 713.3], [\"1\", \"Cancer_m\", 773.5], [\"1\", \"Cancer_m\", 744.9], [\"1\", \"Cancer_m\", 1288.0], [\"1\", \"Cancer_m\", 933.1], [\"1\", \"Cancer_m\", 947.8], [\"1\", \"Cancer_m\", 758.6], [\"1\", \"Cancer_m\", 928.3], [\"1\", \"Cancer_m\", 1419.0], [\"1\", \"Cancer_m\", 1491.0], [\"1\", \"Cancer_m\", 998.9], [\"1\", \"Cancer_m\", 1102.0], [\"1\", \"Cancer_m\", 1138.0], [\"1\", \"Cancer_m\", 1145.0], [\"1\", \"Cancer_m\", 805.1], [\"1\", \"Cancer_m\", 431.1], [\"1\", \"Cancer_m\", 1217.0], [\"1\", \"Cancer_m\", 1247.0], [\"1\", \"Cancer_m\", 1027.0], [\"1\", \"Cancer_m\", 1274.0], [\"1\", \"Cancer_m\", 1264.0], [\"1\", \"Cancer_m\", 813.7], [\"1\", \"Cancer_m\", 826.8], [\"1\", \"Cancer_m\", 793.2], [\"1\", \"Cancer_m\", 918.6], [\"1\", \"Cancer_m\", 1092.0], [\"1\", \"Cancer_m\", 1747.0], [\"1\", \"Cancer_m\", 1194.0], [\"1\", \"Cancer_m\", 758.6], [\"1\", \"Cancer_m\", 2010.0], [\"1\", \"Cancer_m\", 716.6], [\"1\", \"Cancer_m\", 1293.0], [\"1\", \"Cancer_m\", 1234.0], [\"1\", \"Cancer_m\", 1546.0], [\"1\", \"Cancer_m\", 1482.0], [\"1\", \"Cancer_m\", 840.4], [\"1\", \"Cancer_m\", 1386.0], [\"1\", \"Cancer_m\", 1335.0], [\"1\", \"Cancer_m\", 361.6], [\"1\", \"Cancer_m\", 664.7], [\"1\", \"Cancer_m\", 1174.0], [\"1\", \"Cancer_m\", 744.7], [\"1\", \"Cancer_m\", 1407.0], [\"1\", \"Cancer_m\", 994.0], [\"1\", \"Cancer_m\", 991.7], [\"1\", \"Cancer_m\", 719.5], [\"1\", \"Cancer_m\", 803.1], [\"1\", \"Cancer_m\", 685.0], [\"1\", \"Cancer_m\", 1250.0], [\"1\", \"Cancer_m\", 1110.0], [\"1\", \"Cancer_m\", 599.5], [\"1\", \"Cancer_m\", 928.8], [\"1\", \"Cancer_m\", 990.0], [\"1\", \"Cancer_m\", 981.6], [\"1\", \"Cancer_m\", 1384.0], [\"1\", \"Cancer_m\", 1191.0], [\"1\", \"Cancer_m\", 930.9], [\"1\", \"Cancer_m\", 2501.0], [\"1\", \"Cancer_m\", 980.5], [\"1\", \"Cancer_m\", 815.8], [\"1\", \"Cancer_m\", 1167.0], [\"1\", \"Cancer_m\", 857.6], [\"1\", \"Cancer_m\", 1007.0], [\"1\", \"Cancer_m\", 1068.0], [\"1\", \"Cancer_m\", 1320.0], [\"1\", \"Cancer_m\", 595.9], [\"1\", \"Cancer_m\", 1682.0], [\"1\", \"Cancer_m\", 731.3], [\"1\", \"Cancer_m\", 556.7], [\"1\", \"Cancer_m\", 701.9], [\"1\", \"Cancer_m\", 1052.0], [\"1\", \"Cancer_m\", 1214.0], [\"1\", \"Cancer_m\", 1841.0], [\"1\", \"Cancer_m\", 1299.0], [\"1\", \"Cancer_m\", 1308.0], [\"1\", \"Cancer_m\", 629.8], [\"1\", \"Cancer_m\", 716.9], [\"1\", \"Cancer_m\", 1347.0], [\"1\", \"Cancer_m\", 1479.0], [\"1\", \"Cancer_m\", 1261.0], [\"1\", \"Cancer_m\", 858.1], [\"1\", \"Cancer_m\", 1265.0]], \"hoverlabel\": {\"namelength\": 0}, \"hovertemplate\": \"type=%{customdata[1]}<br>Area (mean)=%{customdata[2]}<br>x=%{customdata[0]}\", \"legendgroup\": \"type=Cancer_m\", \"marker\": {\"color\": \"#EF553B\"}, \"name\": \"type=Cancer_m\", \"offsetgroup\": \"type=Cancer_m\", \"orientation\": \"v\", \"scalegroup\": \"True\", \"showlegend\": true, \"type\": \"violin\", \"x0\": \" \", \"xaxis\": \"x\", \"y\": [1001.0, 1326.0, 1203.0, 386.1, 1297.0, 477.1, 1040.0, 577.9, 519.8, 475.9, 797.8, 781.0, 1123.0, 782.7, 578.3, 658.8, 684.5, 798.8, 1260.0, 704.4, 1404.0, 904.6, 912.7, 644.8, 1094.0, 732.4, 955.1, 1088.0, 440.6, 899.3, 1162.0, 807.2, 869.5, 633.0, 698.8, 559.2, 563.0, 371.1, 1104.0, 545.2, 531.5, 1076.0, 534.6, 1033.0, 712.8, 1152.0, 656.9, 645.7, 499.0, 668.3, 1130.0, 929.4, 584.1, 817.7, 1006.0, 1245.0, 1878.0, 1132.0, 1075.0, 648.2, 1076.0, 728.2, 705.6, 1264.0, 642.5, 582.7, 530.2, 1509.0, 682.5, 782.6, 982.0, 1077.0, 1761.0, 572.6, 1138.0, 1192.0, 748.9, 809.8, 1075.0, 506.3, 678.1, 813.0, 432.0, 963.7, 1157.0, 1214.0, 1686.0, 886.3, 984.6, 565.4, 736.9, 832.9, 2250.0, 1311.0, 766.6, 710.6, 1041.0, 609.9, 477.4, 671.4, 588.9, 1024.0, 1148.0, 642.7, 951.6, 1685.0, 597.8, 716.6, 904.3, 1290.0, 2499.0, 948.0, 610.7, 578.9, 1230.0, 1223.0, 761.3, 503.2, 895.0, 1319.0, 1670.0, 1306.0, 920.6, 1155.0, 1364.0, 1206.0, 928.2, 1169.0, 602.4, 1207.0, 713.3, 773.5, 744.9, 1288.0, 933.1, 947.8, 758.6, 928.3, 1419.0, 1491.0, 998.9, 1102.0, 1138.0, 1145.0, 805.1, 431.1, 1217.0, 1247.0, 1027.0, 1274.0, 1264.0, 813.7, 826.8, 793.2, 918.6, 1092.0, 1747.0, 1194.0, 758.6, 2010.0, 716.6, 1293.0, 1234.0, 1546.0, 1482.0, 840.4, 1386.0, 1335.0, 361.6, 664.7, 1174.0, 744.7, 1407.0, 994.0, 991.7, 719.5, 803.1, 685.0, 1250.0, 1110.0, 599.5, 928.8, 990.0, 981.6, 1384.0, 1191.0, 930.9, 2501.0, 980.5, 815.8, 1167.0, 857.6, 1007.0, 1068.0, 1320.0, 595.9, 1682.0, 731.3, 556.7, 701.9, 1052.0, 1214.0, 1841.0, 1299.0, 1308.0, 629.8, 716.9, 1347.0, 1479.0, 1261.0, 858.1, 1265.0], \"y0\": \" \", \"yaxis\": \"y\"}],\n",
              "                        {\"legend\": {\"tracegroupgap\": 0}, \"margin\": {\"t\": 60}, \"template\": {\"data\": {\"bar\": [{\"error_x\": {\"color\": \"#2a3f5f\"}, \"error_y\": {\"color\": \"#2a3f5f\"}, \"marker\": {\"line\": {\"color\": \"#E5ECF6\", \"width\": 0.5}}, \"type\": \"bar\"}], \"barpolar\": [{\"marker\": {\"line\": {\"color\": \"#E5ECF6\", \"width\": 0.5}}, \"type\": \"barpolar\"}], \"carpet\": [{\"aaxis\": {\"endlinecolor\": \"#2a3f5f\", \"gridcolor\": \"white\", \"linecolor\": \"white\", \"minorgridcolor\": \"white\", \"startlinecolor\": \"#2a3f5f\"}, \"baxis\": {\"endlinecolor\": \"#2a3f5f\", \"gridcolor\": \"white\", \"linecolor\": \"white\", \"minorgridcolor\": \"white\", \"startlinecolor\": \"#2a3f5f\"}, \"type\": \"carpet\"}], \"choropleth\": [{\"colorbar\": {\"outlinewidth\": 0, \"ticks\": \"\"}, \"type\": \"choropleth\"}], \"contour\": [{\"colorbar\": {\"outlinewidth\": 0, \"ticks\": \"\"}, \"colorscale\": [[0.0, \"#0d0887\"], [0.1111111111111111, \"#46039f\"], [0.2222222222222222, \"#7201a8\"], [0.3333333333333333, \"#9c179e\"], [0.4444444444444444, \"#bd3786\"], [0.5555555555555556, \"#d8576b\"], [0.6666666666666666, \"#ed7953\"], [0.7777777777777778, \"#fb9f3a\"], [0.8888888888888888, \"#fdca26\"], [1.0, \"#f0f921\"]], \"type\": \"contour\"}], \"contourcarpet\": [{\"colorbar\": {\"outlinewidth\": 0, \"ticks\": \"\"}, \"type\": \"contourcarpet\"}], \"heatmap\": [{\"colorbar\": {\"outlinewidth\": 0, \"ticks\": \"\"}, \"colorscale\": [[0.0, \"#0d0887\"], [0.1111111111111111, \"#46039f\"], [0.2222222222222222, \"#7201a8\"], [0.3333333333333333, \"#9c179e\"], [0.4444444444444444, \"#bd3786\"], [0.5555555555555556, \"#d8576b\"], [0.6666666666666666, \"#ed7953\"], [0.7777777777777778, \"#fb9f3a\"], [0.8888888888888888, \"#fdca26\"], [1.0, \"#f0f921\"]], \"type\": \"heatmap\"}], \"heatmapgl\": [{\"colorbar\": {\"outlinewidth\": 0, \"ticks\": \"\"}, \"colorscale\": [[0.0, \"#0d0887\"], [0.1111111111111111, \"#46039f\"], [0.2222222222222222, \"#7201a8\"], [0.3333333333333333, \"#9c179e\"], [0.4444444444444444, \"#bd3786\"], [0.5555555555555556, \"#d8576b\"], [0.6666666666666666, \"#ed7953\"], [0.7777777777777778, \"#fb9f3a\"], [0.8888888888888888, \"#fdca26\"], [1.0, \"#f0f921\"]], \"type\": \"heatmapgl\"}], \"histogram\": [{\"marker\": {\"colorbar\": {\"outlinewidth\": 0, \"ticks\": \"\"}}, \"type\": \"histogram\"}], \"histogram2d\": [{\"colorbar\": {\"outlinewidth\": 0, \"ticks\": \"\"}, \"colorscale\": [[0.0, \"#0d0887\"], [0.1111111111111111, \"#46039f\"], [0.2222222222222222, \"#7201a8\"], [0.3333333333333333, \"#9c179e\"], [0.4444444444444444, \"#bd3786\"], [0.5555555555555556, \"#d8576b\"], [0.6666666666666666, \"#ed7953\"], [0.7777777777777778, \"#fb9f3a\"], [0.8888888888888888, \"#fdca26\"], [1.0, \"#f0f921\"]], \"type\": \"histogram2d\"}], \"histogram2dcontour\": [{\"colorbar\": {\"outlinewidth\": 0, \"ticks\": \"\"}, \"colorscale\": [[0.0, \"#0d0887\"], [0.1111111111111111, \"#46039f\"], [0.2222222222222222, \"#7201a8\"], [0.3333333333333333, \"#9c179e\"], [0.4444444444444444, \"#bd3786\"], [0.5555555555555556, \"#d8576b\"], [0.6666666666666666, \"#ed7953\"], [0.7777777777777778, \"#fb9f3a\"], [0.8888888888888888, \"#fdca26\"], [1.0, \"#f0f921\"]], \"type\": \"histogram2dcontour\"}], \"mesh3d\": [{\"colorbar\": {\"outlinewidth\": 0, \"ticks\": \"\"}, \"type\": \"mesh3d\"}], \"parcoords\": [{\"line\": {\"colorbar\": {\"outlinewidth\": 0, \"ticks\": \"\"}}, \"type\": \"parcoords\"}], \"pie\": [{\"automargin\": true, \"type\": \"pie\"}], \"scatter\": [{\"marker\": {\"colorbar\": {\"outlinewidth\": 0, \"ticks\": \"\"}}, \"type\": \"scatter\"}], \"scatter3d\": [{\"line\": {\"colorbar\": {\"outlinewidth\": 0, \"ticks\": \"\"}}, \"marker\": {\"colorbar\": {\"outlinewidth\": 0, \"ticks\": \"\"}}, \"type\": \"scatter3d\"}], \"scattercarpet\": [{\"marker\": {\"colorbar\": {\"outlinewidth\": 0, \"ticks\": \"\"}}, \"type\": \"scattercarpet\"}], \"scattergeo\": [{\"marker\": {\"colorbar\": {\"outlinewidth\": 0, \"ticks\": \"\"}}, \"type\": \"scattergeo\"}], \"scattergl\": [{\"marker\": {\"colorbar\": {\"outlinewidth\": 0, \"ticks\": \"\"}}, \"type\": \"scattergl\"}], \"scattermapbox\": [{\"marker\": {\"colorbar\": {\"outlinewidth\": 0, \"ticks\": \"\"}}, \"type\": \"scattermapbox\"}], \"scatterpolar\": [{\"marker\": {\"colorbar\": {\"outlinewidth\": 0, \"ticks\": \"\"}}, \"type\": \"scatterpolar\"}], \"scatterpolargl\": [{\"marker\": {\"colorbar\": {\"outlinewidth\": 0, \"ticks\": \"\"}}, \"type\": \"scatterpolargl\"}], \"scatterternary\": [{\"marker\": {\"colorbar\": {\"outlinewidth\": 0, \"ticks\": \"\"}}, \"type\": \"scatterternary\"}], \"surface\": [{\"colorbar\": {\"outlinewidth\": 0, \"ticks\": \"\"}, \"colorscale\": [[0.0, \"#0d0887\"], [0.1111111111111111, \"#46039f\"], [0.2222222222222222, \"#7201a8\"], [0.3333333333333333, \"#9c179e\"], [0.4444444444444444, \"#bd3786\"], [0.5555555555555556, \"#d8576b\"], [0.6666666666666666, \"#ed7953\"], [0.7777777777777778, \"#fb9f3a\"], [0.8888888888888888, \"#fdca26\"], [1.0, \"#f0f921\"]], \"type\": \"surface\"}], \"table\": [{\"cells\": {\"fill\": {\"color\": \"#EBF0F8\"}, \"line\": {\"color\": \"white\"}}, \"header\": {\"fill\": {\"color\": \"#C8D4E3\"}, \"line\": {\"color\": \"white\"}}, \"type\": \"table\"}]}, \"layout\": {\"annotationdefaults\": {\"arrowcolor\": \"#2a3f5f\", \"arrowhead\": 0, \"arrowwidth\": 1}, \"coloraxis\": {\"colorbar\": {\"outlinewidth\": 0, \"ticks\": \"\"}}, \"colorscale\": {\"diverging\": [[0, \"#8e0152\"], [0.1, \"#c51b7d\"], [0.2, \"#de77ae\"], [0.3, \"#f1b6da\"], [0.4, \"#fde0ef\"], [0.5, \"#f7f7f7\"], [0.6, \"#e6f5d0\"], [0.7, \"#b8e186\"], [0.8, \"#7fbc41\"], [0.9, \"#4d9221\"], [1, \"#276419\"]], \"sequential\": [[0.0, \"#0d0887\"], [0.1111111111111111, \"#46039f\"], [0.2222222222222222, \"#7201a8\"], [0.3333333333333333, \"#9c179e\"], [0.4444444444444444, \"#bd3786\"], [0.5555555555555556, \"#d8576b\"], [0.6666666666666666, \"#ed7953\"], [0.7777777777777778, \"#fb9f3a\"], [0.8888888888888888, \"#fdca26\"], [1.0, \"#f0f921\"]], \"sequentialminus\": [[0.0, \"#0d0887\"], [0.1111111111111111, \"#46039f\"], [0.2222222222222222, \"#7201a8\"], [0.3333333333333333, \"#9c179e\"], [0.4444444444444444, \"#bd3786\"], [0.5555555555555556, \"#d8576b\"], [0.6666666666666666, \"#ed7953\"], [0.7777777777777778, \"#fb9f3a\"], [0.8888888888888888, \"#fdca26\"], [1.0, \"#f0f921\"]]}, \"colorway\": [\"#636efa\", \"#EF553B\", \"#00cc96\", \"#ab63fa\", \"#FFA15A\", \"#19d3f3\", \"#FF6692\", \"#B6E880\", \"#FF97FF\", \"#FECB52\"], \"font\": {\"color\": \"#2a3f5f\"}, \"geo\": {\"bgcolor\": \"white\", \"lakecolor\": \"white\", \"landcolor\": \"#E5ECF6\", \"showlakes\": true, \"showland\": true, \"subunitcolor\": \"white\"}, \"hoverlabel\": {\"align\": \"left\"}, \"hovermode\": \"closest\", \"mapbox\": {\"style\": \"light\"}, \"paper_bgcolor\": \"white\", \"plot_bgcolor\": \"#E5ECF6\", \"polar\": {\"angularaxis\": {\"gridcolor\": \"white\", \"linecolor\": \"white\", \"ticks\": \"\"}, \"bgcolor\": \"#E5ECF6\", \"radialaxis\": {\"gridcolor\": \"white\", \"linecolor\": \"white\", \"ticks\": \"\"}}, \"scene\": {\"xaxis\": {\"backgroundcolor\": \"#E5ECF6\", \"gridcolor\": \"white\", \"gridwidth\": 2, \"linecolor\": \"white\", \"showbackground\": true, \"ticks\": \"\", \"zerolinecolor\": \"white\"}, \"yaxis\": {\"backgroundcolor\": \"#E5ECF6\", \"gridcolor\": \"white\", \"gridwidth\": 2, \"linecolor\": \"white\", \"showbackground\": true, \"ticks\": \"\", \"zerolinecolor\": \"white\"}, \"zaxis\": {\"backgroundcolor\": \"#E5ECF6\", \"gridcolor\": \"white\", \"gridwidth\": 2, \"linecolor\": \"white\", \"showbackground\": true, \"ticks\": \"\", \"zerolinecolor\": \"white\"}}, \"shapedefaults\": {\"line\": {\"color\": \"#2a3f5f\"}}, \"ternary\": {\"aaxis\": {\"gridcolor\": \"white\", \"linecolor\": \"white\", \"ticks\": \"\"}, \"baxis\": {\"gridcolor\": \"white\", \"linecolor\": \"white\", \"ticks\": \"\"}, \"bgcolor\": \"#E5ECF6\", \"caxis\": {\"gridcolor\": \"white\", \"linecolor\": \"white\", \"ticks\": \"\"}}, \"title\": {\"x\": 0.05}, \"xaxis\": {\"automargin\": true, \"gridcolor\": \"white\", \"linecolor\": \"white\", \"ticks\": \"\", \"title\": {\"standoff\": 15}, \"zerolinecolor\": \"white\", \"zerolinewidth\": 2}, \"yaxis\": {\"automargin\": true, \"gridcolor\": \"white\", \"linecolor\": \"white\", \"ticks\": \"\", \"title\": {\"standoff\": 15}, \"zerolinecolor\": \"white\", \"zerolinewidth\": 2}}}, \"violinmode\": \"overlay\", \"xaxis\": {\"anchor\": \"y\", \"domain\": [0.0, 1.0]}, \"yaxis\": {\"anchor\": \"x\", \"domain\": [0.0, 1.0], \"title\": {\"text\": \"Area (mean)\"}}},\n",
              "                        {\"responsive\": true}\n",
              "                    ).then(function(){\n",
              "                            \n",
              "var gd = document.getElementById('ecb19049-dd95-4686-be1f-89dc3daa6c3a');\n",
              "var x = new MutationObserver(function (mutations, observer) {{\n",
              "        var display = window.getComputedStyle(gd).display;\n",
              "        if (!display || display === 'none') {{\n",
              "            console.log([gd, 'removed!']);\n",
              "            Plotly.purge(gd);\n",
              "            observer.disconnect();\n",
              "        }}\n",
              "}});\n",
              "\n",
              "// Listen for the removal of the full notebook cells\n",
              "var notebookContainer = gd.closest('#notebook-container');\n",
              "if (notebookContainer) {{\n",
              "    x.observe(notebookContainer, {childList: true});\n",
              "}}\n",
              "\n",
              "// Listen for the clearing of the current output cell\n",
              "var outputEl = gd.closest('.output');\n",
              "if (outputEl) {{\n",
              "    x.observe(outputEl, {childList: true});\n",
              "}}\n",
              "\n",
              "                        })\n",
              "                };\n",
              "                \n",
              "            </script>\n",
              "        </div>\n",
              "</body>\n",
              "</html>"
            ]
          },
          "metadata": {
            "tags": []
          }
        }
      ]
    },
    {
      "cell_type": "code",
      "metadata": {
        "id": "XKOGdM3ObYA9",
        "colab_type": "code",
        "colab": {}
      },
      "source": [
        ""
      ],
      "execution_count": 0,
      "outputs": []
    },
    {
      "cell_type": "code",
      "metadata": {
        "id": "VAWutKdIbX0A",
        "colab_type": "code",
        "colab": {}
      },
      "source": [
        ""
      ],
      "execution_count": 0,
      "outputs": []
    },
    {
      "cell_type": "markdown",
      "metadata": {
        "id": "tIbgqCmggefm",
        "colab_type": "text"
      },
      "source": [
        "### Problem. A very useful column \n",
        "#### Step 1.\n",
        "\n",
        "Create two KDE plots that show the distribution in values for `'Radius (worst)'` for both benign and malignant tumors.  (_To permit easy comparison, create a single figure containing both KDE plots in the code cell below._)"
      ]
    },
    {
      "cell_type": "code",
      "metadata": {
        "id": "iG_Zb6M3jQgi",
        "colab_type": "code",
        "colab": {
          "base_uri": "https://localhost:8080/",
          "height": 442
        },
        "outputId": "4d490fe8-63b9-42a4-d0fa-d2b02353ba57"
      },
      "source": [
        "plt.figure(figsize=(15,7))\n",
        "sns.distplot(Cancer_b['Radius (worst)'], color='blue')\n",
        "sns.distplot(Cancer_m['Radius (worst)'], color='red')\n",
        "plt.show()"
      ],
      "execution_count": 111,
      "outputs": [
        {
          "output_type": "display_data",
          "data": {
            "image/png": "[encoded data removed]",
            "text/plain": [
              "<Figure size 1080x504 with 1 Axes>"
            ]
          },
          "metadata": {
            "tags": []
          }
        }
      ]
    },
    {
      "cell_type": "code",
      "metadata": {
        "id": "Kl3voLq5jQZE",
        "colab_type": "code",
        "colab": {}
      },
      "source": [
        ""
      ],
      "execution_count": 0,
      "outputs": []
    },
    {
      "cell_type": "code",
      "metadata": {
        "id": "nMEvTjv6jQK4",
        "colab_type": "code",
        "colab": {}
      },
      "source": [
        ""
      ],
      "execution_count": 0,
      "outputs": []
    },
    {
      "cell_type": "markdown",
      "metadata": {
        "id": "AeTbsfxIgefp",
        "colab_type": "text"
      },
      "source": [
        "#### Step 2.\n",
        "\n",
        "A hospital has recently started using an algorithm that can diagnose tumors with high accuracy.  Given a tumor with a value for `'Radius (worst)'` of 25, do you think the algorithm is more likely to classify the tumor as benign or malignant?"
      ]
    },
    {
      "cell_type": "markdown",
      "metadata": {
        "id": "doyCfw_HmFzS",
        "colab_type": "text"
      },
      "source": [
        "Malignant"
      ]
    },
    {
      "cell_type": "code",
      "metadata": {
        "id": "ITnRVdxzltqd",
        "colab_type": "code",
        "colab": {}
      },
      "source": [
        ""
      ],
      "execution_count": 0,
      "outputs": []
    },
    {
      "cell_type": "code",
      "metadata": {
        "id": "u8nfzoiHltcy",
        "colab_type": "code",
        "colab": {}
      },
      "source": [
        ""
      ],
      "execution_count": 0,
      "outputs": []
    },
    {
      "cell_type": "markdown",
      "metadata": {
        "id": "UIldAbBigefr",
        "colab_type": "text"
      },
      "source": [
        "# Topic 5. Scatter plot & regression line\n",
        "##### Review the data"
      ]
    },
    {
      "cell_type": "code",
      "metadata": {
        "ExecuteTime": {
          "end_time": "2020-02-14T18:22:47.002964Z",
          "start_time": "2020-02-14T18:22:47.000860Z"
        },
        "id": "REOO8lWGgefu",
        "colab_type": "code",
        "colab": {
          "base_uri": "https://localhost:8080/",
          "height": 235
        },
        "outputId": "3a1144e7-fad5-40f5-e51b-39c2a9e2a293"
      },
      "source": [
        "# # read and show candy dataset\n",
        "data = pd.read_csv('https://raw.githubusercontent.com/hothienlac/CS441/master/Assignment%201/dataset/candy.csv').drop('id',axis=1).set_index('competitorname')\n",
        "data.head()"
      ],
      "execution_count": 121,
      "outputs": [
        {
          "output_type": "execute_result",
          "data": {
            "text/html": [
              "<div>\n",
              "<style scoped>\n",
              "    .dataframe tbody tr th:only-of-type {\n",
              "        vertical-align: middle;\n",
              "    }\n",
              "\n",
              "    .dataframe tbody tr th {\n",
              "        vertical-align: top;\n",
              "    }\n",
              "\n",
              "    .dataframe thead th {\n",
              "        text-align: right;\n",
              "    }\n",
              "</style>\n",
              "<table border=\"1\" class=\"dataframe\">\n",
              "  <thead>\n",
              "    <tr style=\"text-align: right;\">\n",
              "      <th></th>\n",
              "      <th>chocolate</th>\n",
              "      <th>fruity</th>\n",
              "      <th>caramel</th>\n",
              "      <th>peanutyalmondy</th>\n",
              "      <th>nougat</th>\n",
              "      <th>crispedricewafer</th>\n",
              "      <th>hard</th>\n",
              "      <th>bar</th>\n",
              "      <th>pluribus</th>\n",
              "      <th>sugarpercent</th>\n",
              "      <th>pricepercent</th>\n",
              "      <th>winpercent</th>\n",
              "    </tr>\n",
              "    <tr>\n",
              "      <th>competitorname</th>\n",
              "      <th></th>\n",
              "      <th></th>\n",
              "      <th></th>\n",
              "      <th></th>\n",
              "      <th></th>\n",
              "      <th></th>\n",
              "      <th></th>\n",
              "      <th></th>\n",
              "      <th></th>\n",
              "      <th></th>\n",
              "      <th></th>\n",
              "      <th></th>\n",
              "    </tr>\n",
              "  </thead>\n",
              "  <tbody>\n",
              "    <tr>\n",
              "      <th>100 Grand</th>\n",
              "      <td>Yes</td>\n",
              "      <td>No</td>\n",
              "      <td>Yes</td>\n",
              "      <td>No</td>\n",
              "      <td>No</td>\n",
              "      <td>Yes</td>\n",
              "      <td>No</td>\n",
              "      <td>Yes</td>\n",
              "      <td>No</td>\n",
              "      <td>0.732</td>\n",
              "      <td>0.860</td>\n",
              "      <td>66.971725</td>\n",
              "    </tr>\n",
              "    <tr>\n",
              "      <th>3 Musketeers</th>\n",
              "      <td>Yes</td>\n",
              "      <td>No</td>\n",
              "      <td>No</td>\n",
              "      <td>No</td>\n",
              "      <td>Yes</td>\n",
              "      <td>No</td>\n",
              "      <td>No</td>\n",
              "      <td>Yes</td>\n",
              "      <td>No</td>\n",
              "      <td>0.604</td>\n",
              "      <td>0.511</td>\n",
              "      <td>67.602936</td>\n",
              "    </tr>\n",
              "    <tr>\n",
              "      <th>Air Heads</th>\n",
              "      <td>No</td>\n",
              "      <td>Yes</td>\n",
              "      <td>No</td>\n",
              "      <td>No</td>\n",
              "      <td>No</td>\n",
              "      <td>No</td>\n",
              "      <td>No</td>\n",
              "      <td>No</td>\n",
              "      <td>No</td>\n",
              "      <td>0.906</td>\n",
              "      <td>0.511</td>\n",
              "      <td>52.341465</td>\n",
              "    </tr>\n",
              "    <tr>\n",
              "      <th>Almond Joy</th>\n",
              "      <td>Yes</td>\n",
              "      <td>No</td>\n",
              "      <td>No</td>\n",
              "      <td>Yes</td>\n",
              "      <td>No</td>\n",
              "      <td>No</td>\n",
              "      <td>No</td>\n",
              "      <td>Yes</td>\n",
              "      <td>No</td>\n",
              "      <td>0.465</td>\n",
              "      <td>0.767</td>\n",
              "      <td>50.347546</td>\n",
              "    </tr>\n",
              "    <tr>\n",
              "      <th>Baby Ruth</th>\n",
              "      <td>Yes</td>\n",
              "      <td>No</td>\n",
              "      <td>Yes</td>\n",
              "      <td>Yes</td>\n",
              "      <td>Yes</td>\n",
              "      <td>No</td>\n",
              "      <td>No</td>\n",
              "      <td>Yes</td>\n",
              "      <td>No</td>\n",
              "      <td>0.604</td>\n",
              "      <td>0.767</td>\n",
              "      <td>56.914547</td>\n",
              "    </tr>\n",
              "  </tbody>\n",
              "</table>\n",
              "</div>"
            ],
            "text/plain": [
              "               chocolate fruity caramel  ... sugarpercent pricepercent winpercent\n",
              "competitorname                           ...                                     \n",
              "100 Grand            Yes     No     Yes  ...        0.732        0.860  66.971725\n",
              "3 Musketeers         Yes     No      No  ...        0.604        0.511  67.602936\n",
              "Air Heads             No    Yes      No  ...        0.906        0.511  52.341465\n",
              "Almond Joy           Yes     No      No  ...        0.465        0.767  50.347546\n",
              "Baby Ruth            Yes     No     Yes  ...        0.604        0.767  56.914547\n",
              "\n",
              "[5 rows x 12 columns]"
            ]
          },
          "metadata": {
            "tags": []
          },
          "execution_count": 121
        }
      ]
    },
    {
      "cell_type": "markdown",
      "metadata": {
        "id": "6VffxKeSgef2",
        "colab_type": "text"
      },
      "source": [
        "_The dataset contains 83 rows, where each corresponds to a different candy bar. There are 13 columns:_\n",
        "- __'competitorname'__ contains the name of the candy bar.\n",
        "- __the next 9 columns__ (from 'chocolate' to 'pluribus') describe the candy. For instance, rows with chocolate candies have \"Yes\" in the 'chocolate' column (and candies without chocolate have \"No\" in the same column).\n",
        "- __'sugarpercent'__ provides some indication of the amount of sugar, where higher values signify higher sugar content.\n",
        "- __'pricepercent'__ shows the price per unit, relative to the other candies in the dataset.\n",
        "- __'winpercent'__ is calculated from the survey results; higher values indicate that the candy was more popular with _survey respondents_."
      ]
    },
    {
      "cell_type": "markdown",
      "metadata": {
        "id": "2cZtHgIMgef6",
        "colab_type": "text"
      },
      "source": [
        "__Target 1.__ Answer the questions\n",
        "- 1) How many columns of 'Kit Kat' received 'Yes' in the survey\n",
        "- 2) Which candy was more popular with survey respondents;: 'Kit Kat' or 'Almond Joy'?\n",
        "- 3) Which candy has higher sugar content: 'Twizzlers' or '3 Musketeers'?"
      ]
    },
    {
      "cell_type": "code",
      "metadata": {
        "id": "AwfoD6NWp-GD",
        "colab_type": "code",
        "colab": {
          "base_uri": "https://localhost:8080/",
          "height": 238
        },
        "outputId": "51c6ff70-0849-40d8-eb81-3b133dea229c"
      },
      "source": [
        "data.loc['Kit Kat']"
      ],
      "execution_count": 125,
      "outputs": [
        {
          "output_type": "execute_result",
          "data": {
            "text/plain": [
              "chocolate               Yes\n",
              "fruity                   No\n",
              "caramel                  No\n",
              "peanutyalmondy           No\n",
              "nougat                   No\n",
              "crispedricewafer        Yes\n",
              "hard                     No\n",
              "bar                     Yes\n",
              "pluribus                 No\n",
              "sugarpercent          0.313\n",
              "pricepercent          0.511\n",
              "winpercent          76.7686\n",
              "Name: Kit Kat, dtype: object"
            ]
          },
          "metadata": {
            "tags": []
          },
          "execution_count": 125
        }
      ]
    },
    {
      "cell_type": "code",
      "metadata": {
        "id": "wyFeFMllp97I",
        "colab_type": "code",
        "colab": {
          "base_uri": "https://localhost:8080/",
          "height": 142
        },
        "outputId": "9b38d90c-5bd6-401d-a0de-a2eaa4e1a77e"
      },
      "source": [
        "data.loc[['Kit Kat', 'Almond Joy']]"
      ],
      "execution_count": 127,
      "outputs": [
        {
          "output_type": "execute_result",
          "data": {
            "text/html": [
              "<div>\n",
              "<style scoped>\n",
              "    .dataframe tbody tr th:only-of-type {\n",
              "        vertical-align: middle;\n",
              "    }\n",
              "\n",
              "    .dataframe tbody tr th {\n",
              "        vertical-align: top;\n",
              "    }\n",
              "\n",
              "    .dataframe thead th {\n",
              "        text-align: right;\n",
              "    }\n",
              "</style>\n",
              "<table border=\"1\" class=\"dataframe\">\n",
              "  <thead>\n",
              "    <tr style=\"text-align: right;\">\n",
              "      <th></th>\n",
              "      <th>chocolate</th>\n",
              "      <th>fruity</th>\n",
              "      <th>caramel</th>\n",
              "      <th>peanutyalmondy</th>\n",
              "      <th>nougat</th>\n",
              "      <th>crispedricewafer</th>\n",
              "      <th>hard</th>\n",
              "      <th>bar</th>\n",
              "      <th>pluribus</th>\n",
              "      <th>sugarpercent</th>\n",
              "      <th>pricepercent</th>\n",
              "      <th>winpercent</th>\n",
              "    </tr>\n",
              "    <tr>\n",
              "      <th>competitorname</th>\n",
              "      <th></th>\n",
              "      <th></th>\n",
              "      <th></th>\n",
              "      <th></th>\n",
              "      <th></th>\n",
              "      <th></th>\n",
              "      <th></th>\n",
              "      <th></th>\n",
              "      <th></th>\n",
              "      <th></th>\n",
              "      <th></th>\n",
              "      <th></th>\n",
              "    </tr>\n",
              "  </thead>\n",
              "  <tbody>\n",
              "    <tr>\n",
              "      <th>Kit Kat</th>\n",
              "      <td>Yes</td>\n",
              "      <td>No</td>\n",
              "      <td>No</td>\n",
              "      <td>No</td>\n",
              "      <td>No</td>\n",
              "      <td>Yes</td>\n",
              "      <td>No</td>\n",
              "      <td>Yes</td>\n",
              "      <td>No</td>\n",
              "      <td>0.313</td>\n",
              "      <td>0.511</td>\n",
              "      <td>76.768600</td>\n",
              "    </tr>\n",
              "    <tr>\n",
              "      <th>Almond Joy</th>\n",
              "      <td>Yes</td>\n",
              "      <td>No</td>\n",
              "      <td>No</td>\n",
              "      <td>Yes</td>\n",
              "      <td>No</td>\n",
              "      <td>No</td>\n",
              "      <td>No</td>\n",
              "      <td>Yes</td>\n",
              "      <td>No</td>\n",
              "      <td>0.465</td>\n",
              "      <td>0.767</td>\n",
              "      <td>50.347546</td>\n",
              "    </tr>\n",
              "  </tbody>\n",
              "</table>\n",
              "</div>"
            ],
            "text/plain": [
              "               chocolate fruity caramel  ... sugarpercent pricepercent winpercent\n",
              "competitorname                           ...                                     \n",
              "Kit Kat              Yes     No      No  ...        0.313        0.511  76.768600\n",
              "Almond Joy           Yes     No      No  ...        0.465        0.767  50.347546\n",
              "\n",
              "[2 rows x 12 columns]"
            ]
          },
          "metadata": {
            "tags": []
          },
          "execution_count": 127
        }
      ]
    },
    {
      "cell_type": "code",
      "metadata": {
        "id": "oCgVIuqgp9jz",
        "colab_type": "code",
        "colab": {
          "base_uri": "https://localhost:8080/",
          "height": 85
        },
        "outputId": "1d7724e5-0d85-4e21-9a8f-0cc41157906e"
      },
      "source": [
        "data.loc[['Twizzlers', '3 Musketeers']]['sugarpercent']"
      ],
      "execution_count": 128,
      "outputs": [
        {
          "output_type": "execute_result",
          "data": {
            "text/plain": [
              "competitorname\n",
              "Twizzlers       0.220\n",
              "3 Musketeers    0.604\n",
              "Name: sugarpercent, dtype: float64"
            ]
          },
          "metadata": {
            "tags": []
          },
          "execution_count": 128
        }
      ]
    },
    {
      "cell_type": "code",
      "metadata": {
        "id": "-CecIJbTrlDp",
        "colab_type": "code",
        "colab": {}
      },
      "source": [
        ""
      ],
      "execution_count": 0,
      "outputs": []
    },
    {
      "cell_type": "markdown",
      "metadata": {
        "id": "jwRwNOQsgef8",
        "colab_type": "text"
      },
      "source": [
        "### Target 2: The role of sugar\n",
        "Do people tend to prefer candies with higher sugar content?  \n",
        "\n",
        "#### Step1\n",
        "Create a scatter plot that shows the relationship between `'sugarpercent'` (on the horizontal x-axis) and `'winpercent'` (on the vertical y-axis).  _Don't add a regression line just yet -- you'll do that in the next step!_"
      ]
    },
    {
      "cell_type": "code",
      "metadata": {
        "id": "InuK99Btrm-M",
        "colab_type": "code",
        "colab": {
          "base_uri": "https://localhost:8080/",
          "height": 404
        },
        "outputId": "f53671b1-fbce-4a41-88b9-c1cb94034656"
      },
      "source": [
        "sns.pairplot(data[['sugarpercent', 'winpercent']])"
      ],
      "execution_count": 131,
      "outputs": [
        {
          "output_type": "execute_result",
          "data": {
            "text/plain": [
              "<seaborn.axisgrid.PairGrid at 0x7f0d27bf76d8>"
            ]
          },
          "metadata": {
            "tags": []
          },
          "execution_count": 131
        },
        {
          "output_type": "display_data",
          "data": {
            "image/png": "[encoded data removed]",
            "text/plain": [
              "<Figure size 360x360 with 6 Axes>"
            ]
          },
          "metadata": {
            "tags": []
          }
        }
      ]
    },
    {
      "cell_type": "code",
      "metadata": {
        "id": "pwsAdZsLrmyl",
        "colab_type": "code",
        "colab": {}
      },
      "source": [
        "import numpy as np"
      ],
      "execution_count": 0,
      "outputs": []
    },
    {
      "cell_type": "code",
      "metadata": {
        "id": "mt-tQt-hrmig",
        "colab_type": "code",
        "colab": {
          "base_uri": "https://localhost:8080/",
          "height": 51
        },
        "outputId": "1bb6cce4-2521-440c-f157-2e3acd8fd73a"
      },
      "source": [
        "np.corrcoef(data['sugarpercent'], data['winpercent'])"
      ],
      "execution_count": 133,
      "outputs": [
        {
          "output_type": "execute_result",
          "data": {
            "text/plain": [
              "array([[1.        , 0.20763498],\n",
              "       [0.20763498, 1.        ]])"
            ]
          },
          "metadata": {
            "tags": []
          },
          "execution_count": 133
        }
      ]
    },
    {
      "cell_type": "markdown",
      "metadata": {
        "id": "3dswVI76gef_",
        "colab_type": "text"
      },
      "source": [
        "#### Step2\n",
        "Look at the scatter plot, are candies with more sugar relatively more or less popular with the survey respondents?"
      ]
    },
    {
      "cell_type": "markdown",
      "metadata": {
        "id": "g_PdxZ9cgegC",
        "colab_type": "text"
      },
      "source": [
        "- Look at the scatter plot, it is indicated a `'positively correlation'`, meaning that both variables move in the same direction together. \n",
        "\n",
        "- Next, the candies with more sugar (or the `'sugarpercent'`) is less popular with the survey respondents (also `'\"winpercent\"'`). \n",
        "\n",
        "- In fact, the correllation of 2 this features is equal to 0.333861."
      ]
    },
    {
      "cell_type": "markdown",
      "metadata": {
        "id": "Nt1Lk6vzgegH",
        "colab_type": "text"
      },
      "source": [
        "### __Target 3 (Take a closer look)__\n",
        "#### Step 1.\n",
        "Add the _regression line_ to the scatter plot in a new window"
      ]
    },
    {
      "cell_type": "markdown",
      "metadata": {
        "id": "soJt5dFIgegO",
        "colab_type": "text"
      },
      "source": [
        "#### Step2.\n",
        "Explain the plot above; and what does this tell you about the candy that people tend to prefer?\n",
        "Then, find the `'R2'` and `'R2adjusted'` values of this model"
      ]
    },
    {
      "cell_type": "markdown",
      "metadata": {
        "id": "YJyX8WKTgegT",
        "colab_type": "text"
      },
      "source": [
        "### __Target 4. Investigate each features__:  ___Chocolate___ \n",
        "\n",
        "#### Step 1\n",
        "\n",
        "Create the same scatter plot you created above, but now with two regression lines, corresponding to (1) chocolate candies and (2) candies without chocolate."
      ]
    },
    {
      "cell_type": "markdown",
      "metadata": {
        "id": "WwMJAcPugehZ",
        "colab_type": "text"
      },
      "source": [
        "##### Step 2. Using the regression lines, what conclusions can you draw about the effects of chocolate and price on candy popularity?"
      ]
    },
    {
      "cell_type": "markdown",
      "metadata": {
        "id": "it7gZc0Vgehj",
        "colab_type": "text"
      },
      "source": [
        "### __Target 5.__ _Everybody loves chocolate.?_\n",
        "\n",
        "#### Step 1.\n",
        "Using swarmplot(); create a categorical scatter plot to highlight the relationship between `'chocolate'` and `'winpercent'`.  Put `'chocolate'` on the (horizontal) x-axis, and `'winpercent'` on the (vertical) y-axis."
      ]
    },
    {
      "cell_type": "markdown",
      "metadata": {
        "id": "Fr4GVtEXgehq",
        "colab_type": "text"
      },
      "source": [
        "#### Step 2.\n",
        "\n",
        "You decide to dedicate a section of your report to the fact that chocolate candies tend to be more popular than candies without chocolate.  Which plot is more appropriate to tell this story?"
      ]
    },
    {
      "cell_type": "markdown",
      "metadata": {
        "id": "NfrpiS4-gehu",
        "colab_type": "text"
      },
      "source": [
        "_=====================================================================================================================_"
      ]
    }
  ]
}